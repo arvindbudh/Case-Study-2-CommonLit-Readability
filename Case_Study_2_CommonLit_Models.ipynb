{
  "cells": [
    {
      "cell_type": "markdown",
      "source": [
        "# **CommonLit Readability**"
      ],
      "metadata": {
        "id": "6dEzbW_IT8zD"
      }
    },
    {
      "cell_type": "markdown",
      "source": [
        "This case study is on the kaggle competition \"CommonLit Readability\".\n",
        "Rate the complexity of literary passages for grades 3-12 classroom use."
      ],
      "metadata": {
        "id": "cCH5pLROUTk1"
      }
    },
    {
      "cell_type": "markdown",
      "source": [
        "In this competition, we're predicting the reading ease of excerpts from literature. We've provided excerpts from several time periods and a wide range of reading ease scores. Test set includes a slightly larger proportion of modern texts (the type of texts we want to generalize to) than the training set."
      ],
      "metadata": {
        "id": "zkERDMIPUl4p"
      }
    },
    {
      "cell_type": "markdown",
      "source": [
        "This is a NLP problem where we have to try different NLP models. Then come with architecture to ensemble them. We will employing various fine tuning strategies and also be trying different ways of ensembling."
      ],
      "metadata": {
        "id": "XW7a6R4fVgY2"
      }
    },
    {
      "cell_type": "markdown",
      "source": [
        "Submissions are scored on the root mean squared error."
      ],
      "metadata": {
        "id": "rlYjLhUBW8az"
      }
    },
    {
      "cell_type": "markdown",
      "source": [
        "# **Data Set**"
      ],
      "metadata": {
        "id": "cPhAXQA5WWnb"
      }
    },
    {
      "cell_type": "markdown",
      "source": [
        "Files:\n",
        "*   train.csv - the training set\n",
        "*   test.csv - the test set\n",
        "*   sample_submission.csv - a sample submission file in the correct format\n",
        "\n",
        "\n",
        "\n"
      ],
      "metadata": {
        "id": "vWD2nMoHU54Q"
      }
    },
    {
      "cell_type": "markdown",
      "source": [
        "Columns-\n",
        "\n",
        "\n",
        "*   id - unique ID for excerpt\n",
        "*   url_legal - URL of source - this is blank in the test set.\n",
        "*   license - license of source material - this is blank in the test set.\n",
        "*   excerpt - text to predict reading ease of\n",
        "*   target - reading ease\n",
        "*   standard_error - measure of spread of scores among multiple raters for each excerpt. Not included for test data.\n",
        "\n",
        "\n",
        "\n"
      ],
      "metadata": {
        "id": "RRV5mBRUVKzP"
      }
    },
    {
      "cell_type": "markdown",
      "source": [
        "The target value is the result of a Bradley-Terry analysis of more than 111,000 pairwise comparisons between excerpts. Teachers spanning grades 3-12 (a majority teaching between grades 6-10) served as the raters for these comparisons."
      ],
      "metadata": {
        "id": "D0CkUe51W_Vi"
      }
    },
    {
      "cell_type": "markdown",
      "source": [
        "Standard error is included as an output of the Bradley-Terry analysis because individual raters saw only a fraction of the excerpts, while every excerpt was seen by numerous raters.\n",
        "The test and train sets were split after the target scores and standard error were computed."
      ],
      "metadata": {
        "id": "T1CN64gOXGSc"
      }
    },
    {
      "cell_type": "markdown",
      "source": [
        "# **1. Reading Data**"
      ],
      "metadata": {
        "id": "GSoI5fVYYy5d"
      }
    },
    {
      "cell_type": "markdown",
      "source": [
        "## **1.1 Loading Data**"
      ],
      "metadata": {
        "id": "5STA-4saZBe7"
      }
    },
    {
      "cell_type": "code",
      "execution_count": 1,
      "metadata": {
        "id": "r5VkPT2GYP24",
        "colab": {
          "base_uri": "https://localhost:8080/"
        },
        "outputId": "fad0f4b6-c775-44a2-c713-cf214a02afb8"
      },
      "outputs": [
        {
          "output_type": "stream",
          "name": "stdout",
          "text": [
            "Requirement already satisfied: transformers==4.5.1 in /usr/local/lib/python3.7/dist-packages (4.5.1)\n",
            "Requirement already satisfied: sacremoses in /usr/local/lib/python3.7/dist-packages (from transformers==4.5.1) (0.0.47)\n",
            "Requirement already satisfied: tqdm>=4.27 in /usr/local/lib/python3.7/dist-packages (from transformers==4.5.1) (4.62.3)\n",
            "Requirement already satisfied: regex!=2019.12.17 in /usr/local/lib/python3.7/dist-packages (from transformers==4.5.1) (2019.12.20)\n",
            "Requirement already satisfied: tokenizers<0.11,>=0.10.1 in /usr/local/lib/python3.7/dist-packages (from transformers==4.5.1) (0.10.3)\n",
            "Requirement already satisfied: filelock in /usr/local/lib/python3.7/dist-packages (from transformers==4.5.1) (3.4.2)\n",
            "Requirement already satisfied: packaging in /usr/local/lib/python3.7/dist-packages (from transformers==4.5.1) (21.3)\n",
            "Requirement already satisfied: requests in /usr/local/lib/python3.7/dist-packages (from transformers==4.5.1) (2.23.0)\n",
            "Requirement already satisfied: importlib-metadata in /usr/local/lib/python3.7/dist-packages (from transformers==4.5.1) (4.10.1)\n",
            "Requirement already satisfied: numpy>=1.17 in /usr/local/lib/python3.7/dist-packages (from transformers==4.5.1) (1.19.5)\n",
            "Requirement already satisfied: zipp>=0.5 in /usr/local/lib/python3.7/dist-packages (from importlib-metadata->transformers==4.5.1) (3.7.0)\n",
            "Requirement already satisfied: typing-extensions>=3.6.4 in /usr/local/lib/python3.7/dist-packages (from importlib-metadata->transformers==4.5.1) (3.10.0.2)\n",
            "Requirement already satisfied: pyparsing!=3.0.5,>=2.0.2 in /usr/local/lib/python3.7/dist-packages (from packaging->transformers==4.5.1) (3.0.7)\n",
            "Requirement already satisfied: chardet<4,>=3.0.2 in /usr/local/lib/python3.7/dist-packages (from requests->transformers==4.5.1) (3.0.4)\n",
            "Requirement already satisfied: idna<3,>=2.5 in /usr/local/lib/python3.7/dist-packages (from requests->transformers==4.5.1) (2.10)\n",
            "Requirement already satisfied: certifi>=2017.4.17 in /usr/local/lib/python3.7/dist-packages (from requests->transformers==4.5.1) (2021.10.8)\n",
            "Requirement already satisfied: urllib3!=1.25.0,!=1.25.1,<1.26,>=1.21.1 in /usr/local/lib/python3.7/dist-packages (from requests->transformers==4.5.1) (1.24.3)\n",
            "Requirement already satisfied: joblib in /usr/local/lib/python3.7/dist-packages (from sacremoses->transformers==4.5.1) (1.1.0)\n",
            "Requirement already satisfied: click in /usr/local/lib/python3.7/dist-packages (from sacremoses->transformers==4.5.1) (7.1.2)\n",
            "Requirement already satisfied: six in /usr/local/lib/python3.7/dist-packages (from sacremoses->transformers==4.5.1) (1.15.0)\n"
          ]
        }
      ],
      "source": [
        "!pip install transformers==4.5.1"
      ]
    },
    {
      "cell_type": "code",
      "execution_count": 2,
      "metadata": {
        "id": "Y3AEqIviYQ-P",
        "colab": {
          "base_uri": "https://localhost:8080/"
        },
        "outputId": "309c9388-00d0-4153-8a25-5d5f89c1822e"
      },
      "outputs": [
        {
          "output_type": "stream",
          "name": "stdout",
          "text": [
            "Requirement already satisfied: torch==1.7.0 in /usr/local/lib/python3.7/dist-packages (1.7.0)\n",
            "Requirement already satisfied: future in /usr/local/lib/python3.7/dist-packages (from torch==1.7.0) (0.16.0)\n",
            "Requirement already satisfied: numpy in /usr/local/lib/python3.7/dist-packages (from torch==1.7.0) (1.19.5)\n",
            "Requirement already satisfied: dataclasses in /usr/local/lib/python3.7/dist-packages (from torch==1.7.0) (0.6)\n",
            "Requirement already satisfied: typing-extensions in /usr/local/lib/python3.7/dist-packages (from torch==1.7.0) (3.10.0.2)\n"
          ]
        }
      ],
      "source": [
        "!pip install torch==1.7.0"
      ]
    },
    {
      "cell_type": "code",
      "source": [
        "import pandas as pd\n",
        "import numpy as np\n",
        "import seaborn as sns\n",
        "import warnings\n",
        "import random\n",
        "import time\n",
        "import torch\n",
        "import torch.nn as TorchNeuralNetwork\n",
        "import matplotlib.pyplot as plot\n",
        "from math import sqrt as SquareRoot\n",
        "from wordcloud import WordCloud,STOPWORDS\n",
        "from torch.utils.data import Dataset\n",
        "from torch.utils.data import DataLoader\n",
        "from transformers import AdamW\n",
        "from transformers import AutoConfig\n",
        "from transformers import (AutoModel, \n",
        "                          AutoModelForMaskedLM, \n",
        "                          AutoTokenizer, \n",
        "                          LineByLineTextDataset, \n",
        "                          DataCollatorForLanguageModeling, \n",
        "                          Trainer, \n",
        "                          TrainingArguments)\n",
        "from transformers import get_cosine_schedule_with_warmup\n",
        "from sklearn.model_selection import KFold\n",
        "import gc\n",
        "gc.enable()\n",
        "CUDA = \"cuda\"\n",
        "CPU = \"cpu\"\n",
        "warnings.filterwarnings('ignore')"
      ],
      "metadata": {
        "id": "0-Jyq3lqZMZe"
      },
      "execution_count": 3,
      "outputs": []
    },
    {
      "cell_type": "code",
      "source": [
        "#mouting google drive\n",
        "from google.colab import drive\n",
        "import os\n",
        "drive.mount('/content/gdrive')\n",
        "os.chdir(\"/content/gdrive/My Drive/commonlit/\")\n",
        "cwd = os.getcwd()\n",
        "print(cwd)"
      ],
      "metadata": {
        "colab": {
          "base_uri": "https://localhost:8080/"
        },
        "id": "d8yE1hb3ZSXa",
        "outputId": "1b73f982-13ce-48f0-910c-93cf72fa87c9"
      },
      "execution_count": 4,
      "outputs": [
        {
          "output_type": "stream",
          "name": "stdout",
          "text": [
            "Mounted at /content/gdrive\n",
            "/content/gdrive/My Drive/commonlit\n"
          ]
        }
      ]
    },
    {
      "cell_type": "code",
      "source": [
        "# loading data sets\n",
        "commonlit_data = pd.read_csv('train.csv')\n",
        "test_data = pd.read_csv('test.csv')"
      ],
      "metadata": {
        "id": "kyr5RGg0Z4cV"
      },
      "execution_count": 5,
      "outputs": []
    },
    {
      "cell_type": "code",
      "source": [
        "#loading submission file\n",
        "submission = pd.read_csv('sample_submission.csv')"
      ],
      "metadata": {
        "id": "HW1MhOFoaGuM"
      },
      "execution_count": 6,
      "outputs": []
    },
    {
      "cell_type": "code",
      "source": [
        "commonlit_data.head()"
      ],
      "metadata": {
        "colab": {
          "base_uri": "https://localhost:8080/",
          "height": 206
        },
        "id": "VaCrtqAnaRqM",
        "outputId": "3535944f-7770-4dac-bf1c-6730ecd24785"
      },
      "execution_count": 7,
      "outputs": [
        {
          "output_type": "execute_result",
          "data": {
            "text/html": [
              "\n",
              "  <div id=\"df-2d4c8cef-cfb3-486d-9bc1-5923868b0088\">\n",
              "    <div class=\"colab-df-container\">\n",
              "      <div>\n",
              "<style scoped>\n",
              "    .dataframe tbody tr th:only-of-type {\n",
              "        vertical-align: middle;\n",
              "    }\n",
              "\n",
              "    .dataframe tbody tr th {\n",
              "        vertical-align: top;\n",
              "    }\n",
              "\n",
              "    .dataframe thead th {\n",
              "        text-align: right;\n",
              "    }\n",
              "</style>\n",
              "<table border=\"1\" class=\"dataframe\">\n",
              "  <thead>\n",
              "    <tr style=\"text-align: right;\">\n",
              "      <th></th>\n",
              "      <th>id</th>\n",
              "      <th>url_legal</th>\n",
              "      <th>license</th>\n",
              "      <th>excerpt</th>\n",
              "      <th>target</th>\n",
              "      <th>standard_error</th>\n",
              "    </tr>\n",
              "  </thead>\n",
              "  <tbody>\n",
              "    <tr>\n",
              "      <th>0</th>\n",
              "      <td>c12129c31</td>\n",
              "      <td>NaN</td>\n",
              "      <td>NaN</td>\n",
              "      <td>When the young people returned to the ballroom...</td>\n",
              "      <td>-0.340259</td>\n",
              "      <td>0.464009</td>\n",
              "    </tr>\n",
              "    <tr>\n",
              "      <th>1</th>\n",
              "      <td>85aa80a4c</td>\n",
              "      <td>NaN</td>\n",
              "      <td>NaN</td>\n",
              "      <td>All through dinner time, Mrs. Fayre was somewh...</td>\n",
              "      <td>-0.315372</td>\n",
              "      <td>0.480805</td>\n",
              "    </tr>\n",
              "    <tr>\n",
              "      <th>2</th>\n",
              "      <td>b69ac6792</td>\n",
              "      <td>NaN</td>\n",
              "      <td>NaN</td>\n",
              "      <td>As Roger had predicted, the snow departed as q...</td>\n",
              "      <td>-0.580118</td>\n",
              "      <td>0.476676</td>\n",
              "    </tr>\n",
              "    <tr>\n",
              "      <th>3</th>\n",
              "      <td>dd1000b26</td>\n",
              "      <td>NaN</td>\n",
              "      <td>NaN</td>\n",
              "      <td>And outside before the palace a great garden w...</td>\n",
              "      <td>-1.054013</td>\n",
              "      <td>0.450007</td>\n",
              "    </tr>\n",
              "    <tr>\n",
              "      <th>4</th>\n",
              "      <td>37c1b32fb</td>\n",
              "      <td>NaN</td>\n",
              "      <td>NaN</td>\n",
              "      <td>Once upon a time there were Three Bears who li...</td>\n",
              "      <td>0.247197</td>\n",
              "      <td>0.510845</td>\n",
              "    </tr>\n",
              "  </tbody>\n",
              "</table>\n",
              "</div>\n",
              "      <button class=\"colab-df-convert\" onclick=\"convertToInteractive('df-2d4c8cef-cfb3-486d-9bc1-5923868b0088')\"\n",
              "              title=\"Convert this dataframe to an interactive table.\"\n",
              "              style=\"display:none;\">\n",
              "        \n",
              "  <svg xmlns=\"http://www.w3.org/2000/svg\" height=\"24px\"viewBox=\"0 0 24 24\"\n",
              "       width=\"24px\">\n",
              "    <path d=\"M0 0h24v24H0V0z\" fill=\"none\"/>\n",
              "    <path d=\"M18.56 5.44l.94 2.06.94-2.06 2.06-.94-2.06-.94-.94-2.06-.94 2.06-2.06.94zm-11 1L8.5 8.5l.94-2.06 2.06-.94-2.06-.94L8.5 2.5l-.94 2.06-2.06.94zm10 10l.94 2.06.94-2.06 2.06-.94-2.06-.94-.94-2.06-.94 2.06-2.06.94z\"/><path d=\"M17.41 7.96l-1.37-1.37c-.4-.4-.92-.59-1.43-.59-.52 0-1.04.2-1.43.59L10.3 9.45l-7.72 7.72c-.78.78-.78 2.05 0 2.83L4 21.41c.39.39.9.59 1.41.59.51 0 1.02-.2 1.41-.59l7.78-7.78 2.81-2.81c.8-.78.8-2.07 0-2.86zM5.41 20L4 18.59l7.72-7.72 1.47 1.35L5.41 20z\"/>\n",
              "  </svg>\n",
              "      </button>\n",
              "      \n",
              "  <style>\n",
              "    .colab-df-container {\n",
              "      display:flex;\n",
              "      flex-wrap:wrap;\n",
              "      gap: 12px;\n",
              "    }\n",
              "\n",
              "    .colab-df-convert {\n",
              "      background-color: #E8F0FE;\n",
              "      border: none;\n",
              "      border-radius: 50%;\n",
              "      cursor: pointer;\n",
              "      display: none;\n",
              "      fill: #1967D2;\n",
              "      height: 32px;\n",
              "      padding: 0 0 0 0;\n",
              "      width: 32px;\n",
              "    }\n",
              "\n",
              "    .colab-df-convert:hover {\n",
              "      background-color: #E2EBFA;\n",
              "      box-shadow: 0px 1px 2px rgba(60, 64, 67, 0.3), 0px 1px 3px 1px rgba(60, 64, 67, 0.15);\n",
              "      fill: #174EA6;\n",
              "    }\n",
              "\n",
              "    [theme=dark] .colab-df-convert {\n",
              "      background-color: #3B4455;\n",
              "      fill: #D2E3FC;\n",
              "    }\n",
              "\n",
              "    [theme=dark] .colab-df-convert:hover {\n",
              "      background-color: #434B5C;\n",
              "      box-shadow: 0px 1px 3px 1px rgba(0, 0, 0, 0.15);\n",
              "      filter: drop-shadow(0px 1px 2px rgba(0, 0, 0, 0.3));\n",
              "      fill: #FFFFFF;\n",
              "    }\n",
              "  </style>\n",
              "\n",
              "      <script>\n",
              "        const buttonEl =\n",
              "          document.querySelector('#df-2d4c8cef-cfb3-486d-9bc1-5923868b0088 button.colab-df-convert');\n",
              "        buttonEl.style.display =\n",
              "          google.colab.kernel.accessAllowed ? 'block' : 'none';\n",
              "\n",
              "        async function convertToInteractive(key) {\n",
              "          const element = document.querySelector('#df-2d4c8cef-cfb3-486d-9bc1-5923868b0088');\n",
              "          const dataTable =\n",
              "            await google.colab.kernel.invokeFunction('convertToInteractive',\n",
              "                                                     [key], {});\n",
              "          if (!dataTable) return;\n",
              "\n",
              "          const docLinkHtml = 'Like what you see? Visit the ' +\n",
              "            '<a target=\"_blank\" href=https://colab.research.google.com/notebooks/data_table.ipynb>data table notebook</a>'\n",
              "            + ' to learn more about interactive tables.';\n",
              "          element.innerHTML = '';\n",
              "          dataTable['output_type'] = 'display_data';\n",
              "          await google.colab.output.renderOutput(dataTable, element);\n",
              "          const docLink = document.createElement('div');\n",
              "          docLink.innerHTML = docLinkHtml;\n",
              "          element.appendChild(docLink);\n",
              "        }\n",
              "      </script>\n",
              "    </div>\n",
              "  </div>\n",
              "  "
            ],
            "text/plain": [
              "          id url_legal  ...    target standard_error\n",
              "0  c12129c31       NaN  ... -0.340259       0.464009\n",
              "1  85aa80a4c       NaN  ... -0.315372       0.480805\n",
              "2  b69ac6792       NaN  ... -0.580118       0.476676\n",
              "3  dd1000b26       NaN  ... -1.054013       0.450007\n",
              "4  37c1b32fb       NaN  ...  0.247197       0.510845\n",
              "\n",
              "[5 rows x 6 columns]"
            ]
          },
          "metadata": {},
          "execution_count": 7
        }
      ]
    },
    {
      "cell_type": "code",
      "source": [
        "commonlit_data.dtypes"
      ],
      "metadata": {
        "colab": {
          "base_uri": "https://localhost:8080/"
        },
        "id": "vobOfPBmoLIq",
        "outputId": "c7f6eb88-6dc0-4c81-ed6a-38991b954502"
      },
      "execution_count": 8,
      "outputs": [
        {
          "output_type": "execute_result",
          "data": {
            "text/plain": [
              "id                 object\n",
              "url_legal          object\n",
              "license            object\n",
              "excerpt            object\n",
              "target            float64\n",
              "standard_error    float64\n",
              "dtype: object"
            ]
          },
          "metadata": {},
          "execution_count": 8
        }
      ]
    },
    {
      "cell_type": "code",
      "source": [
        "commonlit_data.shape"
      ],
      "metadata": {
        "colab": {
          "base_uri": "https://localhost:8080/"
        },
        "id": "PfHgguv4abSi",
        "outputId": "afe1c030-eb33-463c-fa39-05f402e9d523"
      },
      "execution_count": 9,
      "outputs": [
        {
          "output_type": "execute_result",
          "data": {
            "text/plain": [
              "(2834, 6)"
            ]
          },
          "metadata": {},
          "execution_count": 9
        }
      ]
    },
    {
      "cell_type": "code",
      "source": [
        "test_data.head()"
      ],
      "metadata": {
        "colab": {
          "base_uri": "https://localhost:8080/",
          "height": 206
        },
        "id": "XHBvv_03aXfX",
        "outputId": "9babf139-442d-433c-e8f3-33bb286362ce"
      },
      "execution_count": 10,
      "outputs": [
        {
          "output_type": "execute_result",
          "data": {
            "text/html": [
              "\n",
              "  <div id=\"df-b8350e48-007b-4113-9b87-66d491d19b94\">\n",
              "    <div class=\"colab-df-container\">\n",
              "      <div>\n",
              "<style scoped>\n",
              "    .dataframe tbody tr th:only-of-type {\n",
              "        vertical-align: middle;\n",
              "    }\n",
              "\n",
              "    .dataframe tbody tr th {\n",
              "        vertical-align: top;\n",
              "    }\n",
              "\n",
              "    .dataframe thead th {\n",
              "        text-align: right;\n",
              "    }\n",
              "</style>\n",
              "<table border=\"1\" class=\"dataframe\">\n",
              "  <thead>\n",
              "    <tr style=\"text-align: right;\">\n",
              "      <th></th>\n",
              "      <th>id</th>\n",
              "      <th>url_legal</th>\n",
              "      <th>license</th>\n",
              "      <th>excerpt</th>\n",
              "    </tr>\n",
              "  </thead>\n",
              "  <tbody>\n",
              "    <tr>\n",
              "      <th>0</th>\n",
              "      <td>c0f722661</td>\n",
              "      <td>NaN</td>\n",
              "      <td>NaN</td>\n",
              "      <td>My hope lay in Jack's promise that he would ke...</td>\n",
              "    </tr>\n",
              "    <tr>\n",
              "      <th>1</th>\n",
              "      <td>f0953f0a5</td>\n",
              "      <td>NaN</td>\n",
              "      <td>NaN</td>\n",
              "      <td>Dotty continued to go to Mrs. Gray's every nig...</td>\n",
              "    </tr>\n",
              "    <tr>\n",
              "      <th>2</th>\n",
              "      <td>0df072751</td>\n",
              "      <td>NaN</td>\n",
              "      <td>NaN</td>\n",
              "      <td>It was a bright and cheerful scene that greete...</td>\n",
              "    </tr>\n",
              "    <tr>\n",
              "      <th>3</th>\n",
              "      <td>04caf4e0c</td>\n",
              "      <td>https://en.wikipedia.org/wiki/Cell_division</td>\n",
              "      <td>CC BY-SA 3.0</td>\n",
              "      <td>Cell division is the process by which a parent...</td>\n",
              "    </tr>\n",
              "    <tr>\n",
              "      <th>4</th>\n",
              "      <td>0e63f8bea</td>\n",
              "      <td>https://en.wikipedia.org/wiki/Debugging</td>\n",
              "      <td>CC BY-SA 3.0</td>\n",
              "      <td>Debugging is the process of finding and resolv...</td>\n",
              "    </tr>\n",
              "  </tbody>\n",
              "</table>\n",
              "</div>\n",
              "      <button class=\"colab-df-convert\" onclick=\"convertToInteractive('df-b8350e48-007b-4113-9b87-66d491d19b94')\"\n",
              "              title=\"Convert this dataframe to an interactive table.\"\n",
              "              style=\"display:none;\">\n",
              "        \n",
              "  <svg xmlns=\"http://www.w3.org/2000/svg\" height=\"24px\"viewBox=\"0 0 24 24\"\n",
              "       width=\"24px\">\n",
              "    <path d=\"M0 0h24v24H0V0z\" fill=\"none\"/>\n",
              "    <path d=\"M18.56 5.44l.94 2.06.94-2.06 2.06-.94-2.06-.94-.94-2.06-.94 2.06-2.06.94zm-11 1L8.5 8.5l.94-2.06 2.06-.94-2.06-.94L8.5 2.5l-.94 2.06-2.06.94zm10 10l.94 2.06.94-2.06 2.06-.94-2.06-.94-.94-2.06-.94 2.06-2.06.94z\"/><path d=\"M17.41 7.96l-1.37-1.37c-.4-.4-.92-.59-1.43-.59-.52 0-1.04.2-1.43.59L10.3 9.45l-7.72 7.72c-.78.78-.78 2.05 0 2.83L4 21.41c.39.39.9.59 1.41.59.51 0 1.02-.2 1.41-.59l7.78-7.78 2.81-2.81c.8-.78.8-2.07 0-2.86zM5.41 20L4 18.59l7.72-7.72 1.47 1.35L5.41 20z\"/>\n",
              "  </svg>\n",
              "      </button>\n",
              "      \n",
              "  <style>\n",
              "    .colab-df-container {\n",
              "      display:flex;\n",
              "      flex-wrap:wrap;\n",
              "      gap: 12px;\n",
              "    }\n",
              "\n",
              "    .colab-df-convert {\n",
              "      background-color: #E8F0FE;\n",
              "      border: none;\n",
              "      border-radius: 50%;\n",
              "      cursor: pointer;\n",
              "      display: none;\n",
              "      fill: #1967D2;\n",
              "      height: 32px;\n",
              "      padding: 0 0 0 0;\n",
              "      width: 32px;\n",
              "    }\n",
              "\n",
              "    .colab-df-convert:hover {\n",
              "      background-color: #E2EBFA;\n",
              "      box-shadow: 0px 1px 2px rgba(60, 64, 67, 0.3), 0px 1px 3px 1px rgba(60, 64, 67, 0.15);\n",
              "      fill: #174EA6;\n",
              "    }\n",
              "\n",
              "    [theme=dark] .colab-df-convert {\n",
              "      background-color: #3B4455;\n",
              "      fill: #D2E3FC;\n",
              "    }\n",
              "\n",
              "    [theme=dark] .colab-df-convert:hover {\n",
              "      background-color: #434B5C;\n",
              "      box-shadow: 0px 1px 3px 1px rgba(0, 0, 0, 0.15);\n",
              "      filter: drop-shadow(0px 1px 2px rgba(0, 0, 0, 0.3));\n",
              "      fill: #FFFFFF;\n",
              "    }\n",
              "  </style>\n",
              "\n",
              "      <script>\n",
              "        const buttonEl =\n",
              "          document.querySelector('#df-b8350e48-007b-4113-9b87-66d491d19b94 button.colab-df-convert');\n",
              "        buttonEl.style.display =\n",
              "          google.colab.kernel.accessAllowed ? 'block' : 'none';\n",
              "\n",
              "        async function convertToInteractive(key) {\n",
              "          const element = document.querySelector('#df-b8350e48-007b-4113-9b87-66d491d19b94');\n",
              "          const dataTable =\n",
              "            await google.colab.kernel.invokeFunction('convertToInteractive',\n",
              "                                                     [key], {});\n",
              "          if (!dataTable) return;\n",
              "\n",
              "          const docLinkHtml = 'Like what you see? Visit the ' +\n",
              "            '<a target=\"_blank\" href=https://colab.research.google.com/notebooks/data_table.ipynb>data table notebook</a>'\n",
              "            + ' to learn more about interactive tables.';\n",
              "          element.innerHTML = '';\n",
              "          dataTable['output_type'] = 'display_data';\n",
              "          await google.colab.output.renderOutput(dataTable, element);\n",
              "          const docLink = document.createElement('div');\n",
              "          docLink.innerHTML = docLinkHtml;\n",
              "          element.appendChild(docLink);\n",
              "        }\n",
              "      </script>\n",
              "    </div>\n",
              "  </div>\n",
              "  "
            ],
            "text/plain": [
              "          id  ...                                            excerpt\n",
              "0  c0f722661  ...  My hope lay in Jack's promise that he would ke...\n",
              "1  f0953f0a5  ...  Dotty continued to go to Mrs. Gray's every nig...\n",
              "2  0df072751  ...  It was a bright and cheerful scene that greete...\n",
              "3  04caf4e0c  ...  Cell division is the process by which a parent...\n",
              "4  0e63f8bea  ...  Debugging is the process of finding and resolv...\n",
              "\n",
              "[5 rows x 4 columns]"
            ]
          },
          "metadata": {},
          "execution_count": 10
        }
      ]
    },
    {
      "cell_type": "code",
      "source": [
        "test_data.shape"
      ],
      "metadata": {
        "colab": {
          "base_uri": "https://localhost:8080/"
        },
        "id": "cLTjObWMaeM1",
        "outputId": "f65a9d90-7620-4f73-d327-a70d0d2c207b"
      },
      "execution_count": 11,
      "outputs": [
        {
          "output_type": "execute_result",
          "data": {
            "text/plain": [
              "(7, 4)"
            ]
          },
          "metadata": {},
          "execution_count": 11
        }
      ]
    },
    {
      "cell_type": "markdown",
      "source": [
        "## **1.2 Checking for null values**"
      ],
      "metadata": {
        "id": "w7lI8U7Tm32h"
      }
    },
    {
      "cell_type": "code",
      "source": [
        "print(commonlit_data.isnull().any())"
      ],
      "metadata": {
        "colab": {
          "base_uri": "https://localhost:8080/"
        },
        "id": "3_CEiFufm-Yt",
        "outputId": "4a745f16-a65a-47ca-ddb6-bc0de1846e7d"
      },
      "execution_count": 12,
      "outputs": [
        {
          "output_type": "stream",
          "name": "stdout",
          "text": [
            "id                False\n",
            "url_legal          True\n",
            "license            True\n",
            "excerpt           False\n",
            "target            False\n",
            "standard_error    False\n",
            "dtype: bool\n"
          ]
        }
      ]
    },
    {
      "cell_type": "markdown",
      "source": [
        "Null values in url_legal and license is expected. For other columns no null values found.\n"
      ],
      "metadata": {
        "id": "P3ePpyjqnVIp"
      }
    },
    {
      "cell_type": "markdown",
      "source": [
        "## **1.3 Checking for outliers**"
      ],
      "metadata": {
        "id": "shL3hb95nnyo"
      }
    },
    {
      "cell_type": "code",
      "source": [
        "Q0 = commonlit_data.quantile(0)\n",
        "Q1 = commonlit_data.quantile(.01)\n",
        "Q50 = commonlit_data.quantile(.5)\n",
        "Q99 = commonlit_data.quantile(.99)\n",
        "Q100= commonlit_data.quantile(1)"
      ],
      "metadata": {
        "id": "8BBrAb6wn0fR"
      },
      "execution_count": 13,
      "outputs": []
    },
    {
      "cell_type": "code",
      "source": [
        "#range of values for target column.We are checking 0th and 100th percentile values here.\n",
        "print(Q0[0],Q100[0])"
      ],
      "metadata": {
        "colab": {
          "base_uri": "https://localhost:8080/"
        },
        "id": "FNgQyuPYn8lL",
        "outputId": "690cc1da-59a0-4fdf-b2d0-e729a9dec5d0"
      },
      "execution_count": 14,
      "outputs": [
        {
          "output_type": "stream",
          "name": "stdout",
          "text": [
            "-3.676267773 1.711389827\n"
          ]
        }
      ]
    },
    {
      "cell_type": "code",
      "source": [
        "#range of values for standard_error column.We are checking 0th and 100th percentile values here.\n",
        "print(Q0[1],Q100[1])"
      ],
      "metadata": {
        "colab": {
          "base_uri": "https://localhost:8080/"
        },
        "id": "d7eLp6floUk1",
        "outputId": "f1575cc5-88c4-4805-a977-24a251bc1ce3"
      },
      "execution_count": 15,
      "outputs": [
        {
          "output_type": "stream",
          "name": "stdout",
          "text": [
            "0.0 0.649671297\n"
          ]
        }
      ]
    },
    {
      "cell_type": "markdown",
      "source": [
        "Values for target and standard_error column are as expected. No outliers found"
      ],
      "metadata": {
        "id": "0A-HhAzQopRu"
      }
    },
    {
      "cell_type": "markdown",
      "source": [
        "# **2. EDA**"
      ],
      "metadata": {
        "id": "NMjJ5YZupDWK"
      }
    },
    {
      "cell_type": "markdown",
      "source": [
        "## **2.1 Word Cloud**"
      ],
      "metadata": {
        "id": "FKcwtEDsqG6x"
      }
    },
    {
      "cell_type": "code",
      "source": [
        "plot.figure(figsize = (15,15))\n",
        "commonlit_cloud = WordCloud(max_words = 500 , width = 500 , height = 500 , stopwords = STOPWORDS).generate(\" \".join(commonlit_data.excerpt))\n",
        "plot.imshow(commonlit_cloud , interpolation = 'nearest')"
      ],
      "metadata": {
        "colab": {
          "base_uri": "https://localhost:8080/"
        },
        "id": "5a76RnP_proV",
        "outputId": "65579ae5-5ccc-4861-d99c-4e554e4a9ef8"
      },
      "execution_count": null,
      "outputs": [
        {
          "output_type": "execute_result",
          "data": {
            "text/plain": [
              "<matplotlib.image.AxesImage at 0x7f66ff156a90>"
            ]
          },
          "metadata": {},
          "execution_count": 14
        },
        {
          "output_type": "display_data",
          "data": {
            "image/png": "[encoded data removed]",
            "text/plain": [
              "<Figure size 1080x1080 with 1 Axes>"
            ]
          },
          "metadata": {
            "needs_background": "light"
          }
        }
      ]
    },
    {
      "cell_type": "markdown",
      "source": [
        "Said,One,little and time are most common words in commonlit data."
      ],
      "metadata": {
        "id": "xweXUFVs0_JN"
      }
    },
    {
      "cell_type": "markdown",
      "source": [
        "## **2.2 Number of characters in  excerpt**"
      ],
      "metadata": {
        "id": "4dcpoHL2qObF"
      }
    },
    {
      "cell_type": "code",
      "source": [
        "commonlit_figure,commonlit_axis =plot.subplots(figsize=(10,7))\n",
        "commonlit_excerpt_char = commonlit_data['excerpt'].str.len()\n",
        "commonlit_axis.hist(commonlit_excerpt_char,color='blue')\n",
        "commonlit_axis.set_title('Histogarm of number of characters in excerpt ')\n",
        "plot.show()"
      ],
      "metadata": {
        "colab": {
          "base_uri": "https://localhost:8080/"
        },
        "id": "Y3IOF5S9sxHi",
        "outputId": "4cf3506b-2609-424e-e3b9-4bf9128faaf3"
      },
      "execution_count": null,
      "outputs": [
        {
          "output_type": "display_data",
          "data": {
            "image/png": "[encoded data removed]",
            "text/plain": [
              "<Figure size 720x504 with 1 Axes>"
            ]
          },
          "metadata": {
            "needs_background": "light"
          }
        }
      ]
    },
    {
      "cell_type": "markdown",
      "source": [
        "excerpt of 900-1000 characters are most common in commonlit data."
      ],
      "metadata": {
        "id": "aEjzLgkn1TAt"
      }
    },
    {
      "cell_type": "markdown",
      "source": [
        "## **2.3 Number of words in excerpt**"
      ],
      "metadata": {
        "id": "b6yD9nYN0kLD"
      }
    },
    {
      "cell_type": "code",
      "source": [
        "commonlit_figure,commonlit_axis =plot.subplots(figsize=(10,7))\n",
        "commonlit_excerpt_words = commonlit_data['excerpt'].str.split().map(lambda x: len(x))\n",
        "commonlit_axis.hist(commonlit_excerpt_words,color='blue')\n",
        "commonlit_axis.set_title('Histogarm of number of words in excerpt')\n",
        "plot.show()"
      ],
      "metadata": {
        "colab": {
          "base_uri": "https://localhost:8080/"
        },
        "id": "fwlrg0l41rKF",
        "outputId": "b95b1983-39a1-4e1b-8b5b-0ba129606e49"
      },
      "execution_count": null,
      "outputs": [
        {
          "output_type": "display_data",
          "data": {
            "image/png": "[encoded data removed]",
            "text/plain": [
              "<Figure size 720x504 with 1 Axes>"
            ]
          },
          "metadata": {
            "needs_background": "light"
          }
        }
      ]
    },
    {
      "cell_type": "markdown",
      "source": [
        "180 words excerpt are most common in commonlit data"
      ],
      "metadata": {
        "id": "wRLP6LCy29cy"
      }
    },
    {
      "cell_type": "markdown",
      "source": [
        "## **2.4 Average word length**"
      ],
      "metadata": {
        "id": "d8rqFWmj70r8"
      }
    },
    {
      "cell_type": "code",
      "source": [
        "commonlit_figure,commonlit_axis =plot.subplots(figsize=(10,7))\n",
        "commonlit_excerpt_word_len = commonlit_data['excerpt'].str.split().apply(lambda x : [len(i) for i in x])\n",
        "sns.distplot(commonlit_excerpt_word_len.map(lambda x: np.mean(x)),ax=commonlit_axis,color='blue')\n",
        "commonlit_axis.set_title('Average word length in excerpt')\n",
        "plot.show()"
      ],
      "metadata": {
        "colab": {
          "base_uri": "https://localhost:8080/"
        },
        "id": "LgszCZJB79Ir",
        "outputId": "6c0ad960-33bd-439f-e94d-61904c685ddb"
      },
      "execution_count": null,
      "outputs": [
        {
          "output_type": "display_data",
          "data": {
            "image/png": "[encoded data removed]",
            "text/plain": [
              "<Figure size 720x504 with 1 Axes>"
            ]
          },
          "metadata": {
            "needs_background": "light"
          }
        }
      ]
    },
    {
      "cell_type": "markdown",
      "source": [
        "4.5 word length is most common for excerpt in commonlit data"
      ],
      "metadata": {
        "id": "NEyn2UeVA2Bw"
      }
    },
    {
      "cell_type": "markdown",
      "source": [
        "### **We are now done with EDA and moving to model building**"
      ],
      "metadata": {
        "id": "TGhH5w_qDm8j"
      }
    },
    {
      "cell_type": "markdown",
      "source": [
        "# **3.Pre training**"
      ],
      "metadata": {
        "id": "Hln2uuZ7qtuZ"
      }
    },
    {
      "cell_type": "markdown",
      "source": [
        "Every NLP models can be used in two ways:\n",
        "1.   Using orginal model which is trained on original large corpus of text. Using models from https://huggingface.co/models.\n",
        "2.   We can also train these models using our data(CommonLit). We will be calling such models **Pre Trained**.\n",
        "\n",
        "\n",
        "\n",
        "\n"
      ],
      "metadata": {
        "id": "0sKD5GPmq1BF"
      }
    },
    {
      "cell_type": "markdown",
      "source": [
        "Throughout this case study we will be calling original model just by name like **Roberta-Base**.    And, pre-trained models by name like     **Roberta-Base PT (Pre-Trained)**."
      ],
      "metadata": {
        "id": "_kJ8c-HTsc_k"
      }
    },
    {
      "cell_type": "markdown",
      "source": [
        "Section 3 or below code was used to pre-trained differernt NLP models. Same code was used to pre-trained differernt models with small changes in parameter values."
      ],
      "metadata": {
        "id": "crb3OikqthYr"
      }
    },
    {
      "cell_type": "markdown",
      "source": [
        "## **3.1 Loading Data**"
      ],
      "metadata": {
        "id": "QYrtFgHuzTGO"
      }
    },
    {
      "cell_type": "code",
      "execution_count": 12,
      "metadata": {
        "colab": {
          "base_uri": "https://localhost:8080/"
        },
        "id": "lXNyfPYTKoxi",
        "outputId": "f81d7436-89f5-49b5-a20a-816a18993481",
        "scrolled": true
      },
      "outputs": [
        {
          "output_type": "stream",
          "name": "stdout",
          "text": [
            "Requirement already satisfied: nvidia-ml-py3 in /usr/local/lib/python3.7/dist-packages (7.352.0)\n"
          ]
        }
      ],
      "source": [
        "pip install nvidia-ml-py3"
      ]
    },
    {
      "cell_type": "code",
      "execution_count": 13,
      "metadata": {
        "colab": {
          "base_uri": "https://localhost:8080/"
        },
        "id": "tS_9MT-CKoxj",
        "outputId": "e2367bb7-1672-4df5-aa32-11589eff91ca",
        "scrolled": true
      },
      "outputs": [
        {
          "output_type": "stream",
          "name": "stdout",
          "text": [
            "Sat Feb  5 22:46:47 2022       \n",
            "+-----------------------------------------------------------------------------+\n",
            "| NVIDIA-SMI 460.32.03    Driver Version: 460.32.03    CUDA Version: 11.2     |\n",
            "|-------------------------------+----------------------+----------------------+\n",
            "| GPU  Name        Persistence-M| Bus-Id        Disp.A | Volatile Uncorr. ECC |\n",
            "| Fan  Temp  Perf  Pwr:Usage/Cap|         Memory-Usage | GPU-Util  Compute M. |\n",
            "|                               |                      |               MIG M. |\n",
            "|===============================+======================+======================|\n",
            "|   0  Tesla P100-PCIE...  Off  | 00000000:00:04.0 Off |                    0 |\n",
            "| N/A   33C    P0    27W / 250W |      0MiB / 16280MiB |      0%      Default |\n",
            "|                               |                      |                  N/A |\n",
            "+-------------------------------+----------------------+----------------------+\n",
            "                                                                               \n",
            "+-----------------------------------------------------------------------------+\n",
            "| Processes:                                                                  |\n",
            "|  GPU   GI   CI        PID   Type   Process name                  GPU Memory |\n",
            "|        ID   ID                                                   Usage      |\n",
            "|=============================================================================|\n",
            "|  No running processes found                                                 |\n",
            "+-----------------------------------------------------------------------------+\n"
          ]
        }
      ],
      "source": [
        "import nvidia_smi\n",
        "!nvidia-smi"
      ]
    },
    {
      "cell_type": "code",
      "execution_count": null,
      "metadata": {
        "id": "tGlrniDPYzOG"
      },
      "outputs": [],
      "source": [
        "#combining commonlit data and test data for language modelling\n",
        "pre_training_text = pd.concat([commonlit_data,test_data])\n",
        "pre_training_text['excerpt'] = pre_training_text['excerpt'].apply(lambda x: x.replace('\\n',''))"
      ]
    },
    {
      "cell_type": "code",
      "source": [
        "pre_training_text.head()"
      ],
      "metadata": {
        "colab": {
          "base_uri": "https://localhost:8080/",
          "height": 206
        },
        "id": "HE1_-rQr2kxu",
        "outputId": "652417e9-d33b-491c-ca59-246bd5b0f3ec"
      },
      "execution_count": null,
      "outputs": [
        {
          "output_type": "execute_result",
          "data": {
            "text/html": [
              "\n",
              "  <div id=\"df-3c808dd9-84eb-4fff-b3dd-45f9b547bcf8\">\n",
              "    <div class=\"colab-df-container\">\n",
              "      <div>\n",
              "<style scoped>\n",
              "    .dataframe tbody tr th:only-of-type {\n",
              "        vertical-align: middle;\n",
              "    }\n",
              "\n",
              "    .dataframe tbody tr th {\n",
              "        vertical-align: top;\n",
              "    }\n",
              "\n",
              "    .dataframe thead th {\n",
              "        text-align: right;\n",
              "    }\n",
              "</style>\n",
              "<table border=\"1\" class=\"dataframe\">\n",
              "  <thead>\n",
              "    <tr style=\"text-align: right;\">\n",
              "      <th></th>\n",
              "      <th>id</th>\n",
              "      <th>url_legal</th>\n",
              "      <th>license</th>\n",
              "      <th>excerpt</th>\n",
              "      <th>target</th>\n",
              "      <th>standard_error</th>\n",
              "    </tr>\n",
              "  </thead>\n",
              "  <tbody>\n",
              "    <tr>\n",
              "      <th>0</th>\n",
              "      <td>c12129c31</td>\n",
              "      <td>NaN</td>\n",
              "      <td>NaN</td>\n",
              "      <td>When the young people returned to the ballroom...</td>\n",
              "      <td>-0.340259</td>\n",
              "      <td>0.464009</td>\n",
              "    </tr>\n",
              "    <tr>\n",
              "      <th>1</th>\n",
              "      <td>85aa80a4c</td>\n",
              "      <td>NaN</td>\n",
              "      <td>NaN</td>\n",
              "      <td>All through dinner time, Mrs. Fayre was somewh...</td>\n",
              "      <td>-0.315372</td>\n",
              "      <td>0.480805</td>\n",
              "    </tr>\n",
              "    <tr>\n",
              "      <th>2</th>\n",
              "      <td>b69ac6792</td>\n",
              "      <td>NaN</td>\n",
              "      <td>NaN</td>\n",
              "      <td>As Roger had predicted, the snow departed as q...</td>\n",
              "      <td>-0.580118</td>\n",
              "      <td>0.476676</td>\n",
              "    </tr>\n",
              "    <tr>\n",
              "      <th>3</th>\n",
              "      <td>dd1000b26</td>\n",
              "      <td>NaN</td>\n",
              "      <td>NaN</td>\n",
              "      <td>And outside before the palace a great garden w...</td>\n",
              "      <td>-1.054013</td>\n",
              "      <td>0.450007</td>\n",
              "    </tr>\n",
              "    <tr>\n",
              "      <th>4</th>\n",
              "      <td>37c1b32fb</td>\n",
              "      <td>NaN</td>\n",
              "      <td>NaN</td>\n",
              "      <td>Once upon a time there were Three Bears who li...</td>\n",
              "      <td>0.247197</td>\n",
              "      <td>0.510845</td>\n",
              "    </tr>\n",
              "  </tbody>\n",
              "</table>\n",
              "</div>\n",
              "      <button class=\"colab-df-convert\" onclick=\"convertToInteractive('df-3c808dd9-84eb-4fff-b3dd-45f9b547bcf8')\"\n",
              "              title=\"Convert this dataframe to an interactive table.\"\n",
              "              style=\"display:none;\">\n",
              "        \n",
              "  <svg xmlns=\"http://www.w3.org/2000/svg\" height=\"24px\"viewBox=\"0 0 24 24\"\n",
              "       width=\"24px\">\n",
              "    <path d=\"M0 0h24v24H0V0z\" fill=\"none\"/>\n",
              "    <path d=\"M18.56 5.44l.94 2.06.94-2.06 2.06-.94-2.06-.94-.94-2.06-.94 2.06-2.06.94zm-11 1L8.5 8.5l.94-2.06 2.06-.94-2.06-.94L8.5 2.5l-.94 2.06-2.06.94zm10 10l.94 2.06.94-2.06 2.06-.94-2.06-.94-.94-2.06-.94 2.06-2.06.94z\"/><path d=\"M17.41 7.96l-1.37-1.37c-.4-.4-.92-.59-1.43-.59-.52 0-1.04.2-1.43.59L10.3 9.45l-7.72 7.72c-.78.78-.78 2.05 0 2.83L4 21.41c.39.39.9.59 1.41.59.51 0 1.02-.2 1.41-.59l7.78-7.78 2.81-2.81c.8-.78.8-2.07 0-2.86zM5.41 20L4 18.59l7.72-7.72 1.47 1.35L5.41 20z\"/>\n",
              "  </svg>\n",
              "      </button>\n",
              "      \n",
              "  <style>\n",
              "    .colab-df-container {\n",
              "      display:flex;\n",
              "      flex-wrap:wrap;\n",
              "      gap: 12px;\n",
              "    }\n",
              "\n",
              "    .colab-df-convert {\n",
              "      background-color: #E8F0FE;\n",
              "      border: none;\n",
              "      border-radius: 50%;\n",
              "      cursor: pointer;\n",
              "      display: none;\n",
              "      fill: #1967D2;\n",
              "      height: 32px;\n",
              "      padding: 0 0 0 0;\n",
              "      width: 32px;\n",
              "    }\n",
              "\n",
              "    .colab-df-convert:hover {\n",
              "      background-color: #E2EBFA;\n",
              "      box-shadow: 0px 1px 2px rgba(60, 64, 67, 0.3), 0px 1px 3px 1px rgba(60, 64, 67, 0.15);\n",
              "      fill: #174EA6;\n",
              "    }\n",
              "\n",
              "    [theme=dark] .colab-df-convert {\n",
              "      background-color: #3B4455;\n",
              "      fill: #D2E3FC;\n",
              "    }\n",
              "\n",
              "    [theme=dark] .colab-df-convert:hover {\n",
              "      background-color: #434B5C;\n",
              "      box-shadow: 0px 1px 3px 1px rgba(0, 0, 0, 0.15);\n",
              "      filter: drop-shadow(0px 1px 2px rgba(0, 0, 0, 0.3));\n",
              "      fill: #FFFFFF;\n",
              "    }\n",
              "  </style>\n",
              "\n",
              "      <script>\n",
              "        const buttonEl =\n",
              "          document.querySelector('#df-3c808dd9-84eb-4fff-b3dd-45f9b547bcf8 button.colab-df-convert');\n",
              "        buttonEl.style.display =\n",
              "          google.colab.kernel.accessAllowed ? 'block' : 'none';\n",
              "\n",
              "        async function convertToInteractive(key) {\n",
              "          const element = document.querySelector('#df-3c808dd9-84eb-4fff-b3dd-45f9b547bcf8');\n",
              "          const dataTable =\n",
              "            await google.colab.kernel.invokeFunction('convertToInteractive',\n",
              "                                                     [key], {});\n",
              "          if (!dataTable) return;\n",
              "\n",
              "          const docLinkHtml = 'Like what you see? Visit the ' +\n",
              "            '<a target=\"_blank\" href=https://colab.research.google.com/notebooks/data_table.ipynb>data table notebook</a>'\n",
              "            + ' to learn more about interactive tables.';\n",
              "          element.innerHTML = '';\n",
              "          dataTable['output_type'] = 'display_data';\n",
              "          await google.colab.output.renderOutput(dataTable, element);\n",
              "          const docLink = document.createElement('div');\n",
              "          docLink.innerHTML = docLinkHtml;\n",
              "          element.appendChild(docLink);\n",
              "        }\n",
              "      </script>\n",
              "    </div>\n",
              "  </div>\n",
              "  "
            ],
            "text/plain": [
              "          id url_legal  ...    target standard_error\n",
              "0  c12129c31       NaN  ... -0.340259       0.464009\n",
              "1  85aa80a4c       NaN  ... -0.315372       0.480805\n",
              "2  b69ac6792       NaN  ... -0.580118       0.476676\n",
              "3  dd1000b26       NaN  ... -1.054013       0.450007\n",
              "4  37c1b32fb       NaN  ...  0.247197       0.510845\n",
              "\n",
              "[5 rows x 6 columns]"
            ]
          },
          "metadata": {},
          "execution_count": 21
        }
      ]
    },
    {
      "cell_type": "code",
      "source": [
        "pre_training_text.tail()"
      ],
      "metadata": {
        "colab": {
          "base_uri": "https://localhost:8080/",
          "height": 206
        },
        "id": "kgPt__vRx2Ac",
        "outputId": "a5b618c0-7861-4222-91fa-f4b553a3d6d5"
      },
      "execution_count": null,
      "outputs": [
        {
          "output_type": "execute_result",
          "data": {
            "text/html": [
              "\n",
              "  <div id=\"df-e67a8256-e8ac-4768-8303-30ebb85da523\">\n",
              "    <div class=\"colab-df-container\">\n",
              "      <div>\n",
              "<style scoped>\n",
              "    .dataframe tbody tr th:only-of-type {\n",
              "        vertical-align: middle;\n",
              "    }\n",
              "\n",
              "    .dataframe tbody tr th {\n",
              "        vertical-align: top;\n",
              "    }\n",
              "\n",
              "    .dataframe thead th {\n",
              "        text-align: right;\n",
              "    }\n",
              "</style>\n",
              "<table border=\"1\" class=\"dataframe\">\n",
              "  <thead>\n",
              "    <tr style=\"text-align: right;\">\n",
              "      <th></th>\n",
              "      <th>id</th>\n",
              "      <th>url_legal</th>\n",
              "      <th>license</th>\n",
              "      <th>excerpt</th>\n",
              "      <th>target</th>\n",
              "      <th>standard_error</th>\n",
              "    </tr>\n",
              "  </thead>\n",
              "  <tbody>\n",
              "    <tr>\n",
              "      <th>2</th>\n",
              "      <td>0df072751</td>\n",
              "      <td>NaN</td>\n",
              "      <td>NaN</td>\n",
              "      <td>It was a bright and cheerful scene that greete...</td>\n",
              "      <td>NaN</td>\n",
              "      <td>NaN</td>\n",
              "    </tr>\n",
              "    <tr>\n",
              "      <th>3</th>\n",
              "      <td>04caf4e0c</td>\n",
              "      <td>https://en.wikipedia.org/wiki/Cell_division</td>\n",
              "      <td>CC BY-SA 3.0</td>\n",
              "      <td>Cell division is the process by which a parent...</td>\n",
              "      <td>NaN</td>\n",
              "      <td>NaN</td>\n",
              "    </tr>\n",
              "    <tr>\n",
              "      <th>4</th>\n",
              "      <td>0e63f8bea</td>\n",
              "      <td>https://en.wikipedia.org/wiki/Debugging</td>\n",
              "      <td>CC BY-SA 3.0</td>\n",
              "      <td>Debugging is the process of finding and resolv...</td>\n",
              "      <td>NaN</td>\n",
              "      <td>NaN</td>\n",
              "    </tr>\n",
              "    <tr>\n",
              "      <th>5</th>\n",
              "      <td>12537fe78</td>\n",
              "      <td>NaN</td>\n",
              "      <td>NaN</td>\n",
              "      <td>To explain transitivity, let us look first at ...</td>\n",
              "      <td>NaN</td>\n",
              "      <td>NaN</td>\n",
              "    </tr>\n",
              "    <tr>\n",
              "      <th>6</th>\n",
              "      <td>965e592c0</td>\n",
              "      <td>https://www.africanstorybook.org/#</td>\n",
              "      <td>CC BY 4.0</td>\n",
              "      <td>Milka and John are playing in the garden. Her ...</td>\n",
              "      <td>NaN</td>\n",
              "      <td>NaN</td>\n",
              "    </tr>\n",
              "  </tbody>\n",
              "</table>\n",
              "</div>\n",
              "      <button class=\"colab-df-convert\" onclick=\"convertToInteractive('df-e67a8256-e8ac-4768-8303-30ebb85da523')\"\n",
              "              title=\"Convert this dataframe to an interactive table.\"\n",
              "              style=\"display:none;\">\n",
              "        \n",
              "  <svg xmlns=\"http://www.w3.org/2000/svg\" height=\"24px\"viewBox=\"0 0 24 24\"\n",
              "       width=\"24px\">\n",
              "    <path d=\"M0 0h24v24H0V0z\" fill=\"none\"/>\n",
              "    <path d=\"M18.56 5.44l.94 2.06.94-2.06 2.06-.94-2.06-.94-.94-2.06-.94 2.06-2.06.94zm-11 1L8.5 8.5l.94-2.06 2.06-.94-2.06-.94L8.5 2.5l-.94 2.06-2.06.94zm10 10l.94 2.06.94-2.06 2.06-.94-2.06-.94-.94-2.06-.94 2.06-2.06.94z\"/><path d=\"M17.41 7.96l-1.37-1.37c-.4-.4-.92-.59-1.43-.59-.52 0-1.04.2-1.43.59L10.3 9.45l-7.72 7.72c-.78.78-.78 2.05 0 2.83L4 21.41c.39.39.9.59 1.41.59.51 0 1.02-.2 1.41-.59l7.78-7.78 2.81-2.81c.8-.78.8-2.07 0-2.86zM5.41 20L4 18.59l7.72-7.72 1.47 1.35L5.41 20z\"/>\n",
              "  </svg>\n",
              "      </button>\n",
              "      \n",
              "  <style>\n",
              "    .colab-df-container {\n",
              "      display:flex;\n",
              "      flex-wrap:wrap;\n",
              "      gap: 12px;\n",
              "    }\n",
              "\n",
              "    .colab-df-convert {\n",
              "      background-color: #E8F0FE;\n",
              "      border: none;\n",
              "      border-radius: 50%;\n",
              "      cursor: pointer;\n",
              "      display: none;\n",
              "      fill: #1967D2;\n",
              "      height: 32px;\n",
              "      padding: 0 0 0 0;\n",
              "      width: 32px;\n",
              "    }\n",
              "\n",
              "    .colab-df-convert:hover {\n",
              "      background-color: #E2EBFA;\n",
              "      box-shadow: 0px 1px 2px rgba(60, 64, 67, 0.3), 0px 1px 3px 1px rgba(60, 64, 67, 0.15);\n",
              "      fill: #174EA6;\n",
              "    }\n",
              "\n",
              "    [theme=dark] .colab-df-convert {\n",
              "      background-color: #3B4455;\n",
              "      fill: #D2E3FC;\n",
              "    }\n",
              "\n",
              "    [theme=dark] .colab-df-convert:hover {\n",
              "      background-color: #434B5C;\n",
              "      box-shadow: 0px 1px 3px 1px rgba(0, 0, 0, 0.15);\n",
              "      filter: drop-shadow(0px 1px 2px rgba(0, 0, 0, 0.3));\n",
              "      fill: #FFFFFF;\n",
              "    }\n",
              "  </style>\n",
              "\n",
              "      <script>\n",
              "        const buttonEl =\n",
              "          document.querySelector('#df-e67a8256-e8ac-4768-8303-30ebb85da523 button.colab-df-convert');\n",
              "        buttonEl.style.display =\n",
              "          google.colab.kernel.accessAllowed ? 'block' : 'none';\n",
              "\n",
              "        async function convertToInteractive(key) {\n",
              "          const element = document.querySelector('#df-e67a8256-e8ac-4768-8303-30ebb85da523');\n",
              "          const dataTable =\n",
              "            await google.colab.kernel.invokeFunction('convertToInteractive',\n",
              "                                                     [key], {});\n",
              "          if (!dataTable) return;\n",
              "\n",
              "          const docLinkHtml = 'Like what you see? Visit the ' +\n",
              "            '<a target=\"_blank\" href=https://colab.research.google.com/notebooks/data_table.ipynb>data table notebook</a>'\n",
              "            + ' to learn more about interactive tables.';\n",
              "          element.innerHTML = '';\n",
              "          dataTable['output_type'] = 'display_data';\n",
              "          await google.colab.output.renderOutput(dataTable, element);\n",
              "          const docLink = document.createElement('div');\n",
              "          docLink.innerHTML = docLinkHtml;\n",
              "          element.appendChild(docLink);\n",
              "        }\n",
              "      </script>\n",
              "    </div>\n",
              "  </div>\n",
              "  "
            ],
            "text/plain": [
              "          id  ... standard_error\n",
              "2  0df072751  ...            NaN\n",
              "3  04caf4e0c  ...            NaN\n",
              "4  0e63f8bea  ...            NaN\n",
              "5  12537fe78  ...            NaN\n",
              "6  965e592c0  ...            NaN\n",
              "\n",
              "[5 rows x 6 columns]"
            ]
          },
          "metadata": {},
          "execution_count": 22
        }
      ]
    },
    {
      "cell_type": "code",
      "source": [
        "pre_training_text['excerpt'][7]"
      ],
      "metadata": {
        "colab": {
          "base_uri": "https://localhost:8080/",
          "height": 122
        },
        "id": "gPi1wGwCyagY",
        "outputId": "9c448e7e-741a-404f-de03-e4a642a27d37"
      },
      "execution_count": null,
      "outputs": [
        {
          "output_type": "execute_result",
          "data": {
            "application/vnd.google.colaboratory.intrinsic+json": {
              "type": "string"
            },
            "text/plain": [
              "\"On the twenty-second of February, 1916, an automobile sped northward along the French battle line that for almost two years had held back the armies of the German emperor, strive as they would to win their way farther into the heart of France. For months the opposing forces had battled to a draw from the North Sea to the boundary of Switzerland, until now, as the day waned—it was almost six o'clock—the hands of time drew closer and closer to the hour that was to mark the opening of the most bitter and destructive battle of the war, up to this time.It was the eve of the battle of Verdun.The occupants of the automobile as it sped northward numbered three. In the front seat, alone at the driver's wheel, a young man bent low. He was garbed in the uniform of a British lieutenant of cavalry. Close inspection would have revealed the fact that the young man was a youth of some eighteen years, fair and good to look upon.\""
            ]
          },
          "metadata": {},
          "execution_count": 23
        }
      ]
    },
    {
      "cell_type": "code",
      "source": [
        "#creating pre_training_data.txt file\n",
        "pre_training_data  = '\\n'.join(pre_training_text.excerpt.tolist())\n",
        "with open('pre_training_data.txt','w') as f:\n",
        "    f.write(pre_training_data)"
      ],
      "metadata": {
        "id": "zER03O28ziMy"
      },
      "execution_count": null,
      "outputs": []
    },
    {
      "cell_type": "markdown",
      "source": [
        "## **3.2 NLP Models Parameters**"
      ],
      "metadata": {
        "id": "nF1lGXabzld4"
      }
    },
    {
      "cell_type": "markdown",
      "source": [
        "Various NLP models tried for this case study"
      ],
      "metadata": {
        "id": "72NxggGO_61n"
      }
    },
    {
      "cell_type": "markdown",
      "source": [
        "###  **3.2.1 roberta-base** : https://huggingface.co/roberta-base"
      ],
      "metadata": {
        "id": "_Ns2FQeqzwi4"
      }
    },
    {
      "cell_type": "code",
      "source": [
        "MODEL = \"roberta-base\"\n",
        "MODEL_TOKENIZER = \"roberta-base\"\n",
        "MODEL_BATCH = 16"
      ],
      "metadata": {
        "id": "qwBE0OmI6fLS"
      },
      "execution_count": 14,
      "outputs": []
    },
    {
      "cell_type": "markdown",
      "source": [
        "###  **3.2.2 roberta-large** : https://huggingface.co/roberta-large"
      ],
      "metadata": {
        "id": "8GG1tTLM65UO"
      }
    },
    {
      "cell_type": "code",
      "source": [
        "MODEL = \"roberta-large\"\n",
        "MODEL_TOKENIZER = \"roberta-large\"\n",
        "MODEL_BATCH = 8"
      ],
      "metadata": {
        "id": "jgJjZsBt65UP"
      },
      "execution_count": null,
      "outputs": []
    },
    {
      "cell_type": "markdown",
      "source": [
        "###  **3.2.3 deepset/roberta-base-squad2** : https://huggingface.co/deepset/roberta-base-squad2"
      ],
      "metadata": {
        "id": "O-9jRzst653h"
      }
    },
    {
      "cell_type": "code",
      "source": [
        "MODEL = \"deepset/roberta-base-squad2\"\n",
        "MODEL_TOKENIZER = \"deepset/roberta-base-squad2\"\n",
        "MODEL_BATCH = 16"
      ],
      "metadata": {
        "id": "1C6jYzgM653h"
      },
      "execution_count": null,
      "outputs": []
    },
    {
      "cell_type": "markdown",
      "source": [
        "###  **3.2.4 deepset/roberta-large-squad2** : https://huggingface.co/deepset/roberta-large-squad2"
      ],
      "metadata": {
        "id": "cMfxryiv66Uw"
      }
    },
    {
      "cell_type": "code",
      "source": [
        "MODEL = \"deepset/roberta-large-squad2\"\n",
        "MODEL_TOKENIZER = \"deepset/roberta-large-squad2\"\n",
        "MODEL_BATCH = 8"
      ],
      "metadata": {
        "id": "ZVt6S3n366Ux"
      },
      "execution_count": null,
      "outputs": []
    },
    {
      "cell_type": "markdown",
      "source": [
        "###  **3.2.5 microsoft/deberta-base** : https://huggingface.co/microsoft/deberta-base"
      ],
      "metadata": {
        "id": "6H8AO9qP9Fz-"
      }
    },
    {
      "cell_type": "code",
      "source": [
        "MODEL = \"microsoft/deberta-base\"\n",
        "MODEL_TOKENIZER = \"microsoft/deberta-base\"\n",
        "MODEL_BATCH = 8"
      ],
      "metadata": {
        "id": "i8mFfKgX9F0E"
      },
      "execution_count": null,
      "outputs": []
    },
    {
      "cell_type": "markdown",
      "source": [
        "###  **3.2.6 microsoft/deberta-large** : https://huggingface.co/microsoft/deberta-large"
      ],
      "metadata": {
        "id": "jIHbMZXi9F8Q"
      }
    },
    {
      "cell_type": "code",
      "source": [
        "MODEL = \"microsoft/deberta-large\"\n",
        "MODEL_TOKENIZER = \"microsoft/deberta-large\"\n",
        "MODEL_BATCH = 4"
      ],
      "metadata": {
        "id": "7NNKW5xo9F8Q"
      },
      "execution_count": null,
      "outputs": []
    },
    {
      "cell_type": "markdown",
      "source": [
        "###  **3.2.7 microsoft/deberta-v3-large** : https://huggingface.co/microsoft/deberta-v3-large"
      ],
      "metadata": {
        "id": "yPee2YBs9GFt"
      }
    },
    {
      "cell_type": "code",
      "source": [
        "MODEL = \"microsoft/deberta-v3-large\"\n",
        "MODEL_TOKENIZER = \"microsoft/deberta-v3-large\"\n",
        "MODEL_BATCH = 4"
      ],
      "metadata": {
        "id": "80f6gb0J9GFt"
      },
      "execution_count": null,
      "outputs": []
    },
    {
      "cell_type": "markdown",
      "source": [
        "###  **3.2.8 google/electra-large-discriminator** : https://huggingface.co/google/electra-large-discriminator"
      ],
      "metadata": {
        "id": "IltG5wKy9GOI"
      }
    },
    {
      "cell_type": "code",
      "source": [
        "MODEL = \"google/electra-large-discriminator\"\n",
        "MODEL_TOKENIZER = \"google/electra-large-discriminator\"\n",
        "MODEL_BATCH = 8"
      ],
      "metadata": {
        "id": "HogzEqf_9GOI"
      },
      "execution_count": null,
      "outputs": []
    },
    {
      "cell_type": "markdown",
      "source": [
        "###  **3.2.9 albert-large-v2** : https://huggingface.co/albert-large-v2"
      ],
      "metadata": {
        "id": "HJx3nDUA9GWh"
      }
    },
    {
      "cell_type": "code",
      "source": [
        "MODEL = \"albert-large-v2\"\n",
        "MODEL_TOKENIZER = \"albert-large-v2\"\n",
        "MODEL_BATCH = 16"
      ],
      "metadata": {
        "id": "WZiPcfWQ9GWi"
      },
      "execution_count": null,
      "outputs": []
    },
    {
      "cell_type": "markdown",
      "source": [
        "###  **3.2.10 bert-large-uncased** : https://huggingface.co/bert-large-uncased"
      ],
      "metadata": {
        "id": "YOxDzWE29GgT"
      }
    },
    {
      "cell_type": "code",
      "source": [
        "MODEL = \"bert-large-uncased\"\n",
        "MODEL_TOKENIZER = \"bert-large-uncased\"\n",
        "MODEL_BATCH = 8"
      ],
      "metadata": {
        "id": "8_2OUPrP9GgT"
      },
      "execution_count": null,
      "outputs": []
    },
    {
      "cell_type": "markdown",
      "source": [
        "###  **3.2.11 funnel-transformer/large** : https://huggingface.co/funnel-transformer/large"
      ],
      "metadata": {
        "id": "FlFWxCzf_seL"
      }
    },
    {
      "cell_type": "code",
      "source": [
        "MODEL = \"funnel-transformer/large\"\n",
        "MODEL_TOKENIZER = \"funnel-transformer/large\"\n",
        "MODEL_BATCH = 8"
      ],
      "metadata": {
        "id": "oYvWTgym_seS"
      },
      "execution_count": null,
      "outputs": []
    },
    {
      "cell_type": "markdown",
      "source": [
        "## **3.3 Language Modelling**"
      ],
      "metadata": {
        "id": "CfeDdr4VA16k"
      }
    },
    {
      "cell_type": "markdown",
      "source": [
        "We are pre-training **roberta-base** here. To pre-train different NLP models, change values for MODEL, MODEL_TOKENIZER and MODEL_BATCH."
      ],
      "metadata": {
        "id": "HDRf3Q6d3xbo"
      }
    },
    {
      "cell_type": "code",
      "source": [
        "MODEL = \"roberta-base\"\n",
        "MODEL_TOKENIZER = \"roberta-base\"\n",
        "MODEL_BATCH = 16"
      ],
      "metadata": {
        "id": "IrJpLC8e3u24"
      },
      "execution_count": null,
      "outputs": []
    },
    {
      "cell_type": "code",
      "execution_count": null,
      "metadata": {
        "id": "jlOo3CBuY0_q",
        "colab": {
          "base_uri": "https://localhost:8080/",
          "height": 177,
          "referenced_widgets": [
            "3597f723874c4b1a98d4bef1741c2b4f",
            "db4373a3009e4776a16ecc7bdbe3e45e",
            "7deef7f9ba14400ba126b901f3cb3ab3",
            "6f0dca5d5826476abe2da1ab46b612e8",
            "1711285e58d8478faa9f5592ca3d4fa3",
            "da47ce309c7f4ff99825465a877276c7",
            "fdc16a9ca6f04fdab20e63e9e59beac1",
            "2aa70f8f32df41bd8e88ae5c335cbccb",
            "024f8a69fb7347eb9f1e9ff22f31f80c",
            "a01316f6422f4b6c98bb5abfd88eb070",
            "7584ba59396c46b384608f3b0cf6f050",
            "d7b46de5e27f43d68754336d8df4b9d6",
            "bfa63884266e472f8685e2580ad39c79",
            "db69624f05e44b3c8c439d97d33bcb01",
            "f7ff6e017b7e4ebca9e8814c1e9337b1",
            "599d2f3b46a34fcbb300aa6bc655b2e3",
            "601ac0747c7f48b29aed6c4722be391f",
            "e7b363deec3c4b2085d4296ff75b7296",
            "10278ec81d85444ba16b4a2bbd9d28af",
            "5f92e4e48eab42ea88b3b49c500d7c11",
            "0ed6c5e3eb8e42bb89c1ac6294776837",
            "195165a51ec544b2a685db6f7fb20762",
            "8224656a78bf49148a11b125c712e5ef",
            "5c49fbf173cb46a3b0b6ecb6c59b1678",
            "c2c881beaf6745ed8917ad4c945fa84f",
            "820264a724b94d3882a1bb57b2aeb94e",
            "bdb06066308f43f29334752db9753659",
            "bd9f7edb3ce5419f8dd59eaa5e654b01",
            "b1aee438ff084160b9f47d577a585244",
            "9cbe36539f914183ac7e22ad1f27e819",
            "e83ed88cb40f4dfaa066153d291df5e7",
            "fa942525d1eb4465999fad3f3be9f134",
            "1fe6ba8f37a74489bff48f37bd14131c",
            "16f85aa699ad4bf8b73ea08148c25c0d",
            "dca6bfe034fe498db7d97de58e9f1786",
            "0aa7c401629f499e9b4f421fb8db28b7",
            "18c365edf46b40879b12833aa1fd338a",
            "537e3268bf1a48139549a56c0a171d1e",
            "d2eafa018bd749d69a6580f3a43a724e",
            "9623fcaaaa9b45399f5c7e75c8f66679",
            "243fc413296a45bc8bcb85de9d6f6532",
            "9bb98c03ddb54e40a0a9f250f956f982",
            "48bed7845d504b25bbd0563accc88fc9",
            "b8dea6bf5c674a4ea9c18e3bef607298",
            "2b816de58586430397cb148a1f271003",
            "4cd40157ed3b452a8ff831d42cd84d3a",
            "f9e906c56ced43c6bb851c08b9ec4791",
            "e31486c22868428db0fa3162d6e7c2c2",
            "bc786caa5a054a5787db555a132a3c48",
            "5caf152be43d4528bc251b6a42d9a320",
            "5e36ed6735ef4d2f836493e91ee230d5",
            "c5c676b03bf04dd694ffe1a316ff2cea",
            "9daeb0b182d3442bb77f7ea496eee952",
            "9a37e45df31f4c25940f453bb85de99b",
            "d4bfa24560b646f1a2d77c014f8f1ff2"
          ]
        },
        "outputId": "3c31ac63-d849-46f8-b972-3819a271c558"
      },
      "outputs": [
        {
          "output_type": "display_data",
          "data": {
            "application/vnd.jupyter.widget-view+json": {
              "model_id": "3597f723874c4b1a98d4bef1741c2b4f",
              "version_minor": 0,
              "version_major": 2
            },
            "text/plain": [
              "Downloading:   0%|          | 0.00/481 [00:00<?, ?B/s]"
            ]
          },
          "metadata": {}
        },
        {
          "output_type": "display_data",
          "data": {
            "application/vnd.jupyter.widget-view+json": {
              "model_id": "d7b46de5e27f43d68754336d8df4b9d6",
              "version_minor": 0,
              "version_major": 2
            },
            "text/plain": [
              "Downloading:   0%|          | 0.00/501M [00:00<?, ?B/s]"
            ]
          },
          "metadata": {}
        },
        {
          "output_type": "display_data",
          "data": {
            "application/vnd.jupyter.widget-view+json": {
              "model_id": "8224656a78bf49148a11b125c712e5ef",
              "version_minor": 0,
              "version_major": 2
            },
            "text/plain": [
              "Downloading:   0%|          | 0.00/899k [00:00<?, ?B/s]"
            ]
          },
          "metadata": {}
        },
        {
          "output_type": "display_data",
          "data": {
            "application/vnd.jupyter.widget-view+json": {
              "model_id": "16f85aa699ad4bf8b73ea08148c25c0d",
              "version_minor": 0,
              "version_major": 2
            },
            "text/plain": [
              "Downloading:   0%|          | 0.00/456k [00:00<?, ?B/s]"
            ]
          },
          "metadata": {}
        },
        {
          "output_type": "display_data",
          "data": {
            "application/vnd.jupyter.widget-view+json": {
              "model_id": "2b816de58586430397cb148a1f271003",
              "version_minor": 0,
              "version_major": 2
            },
            "text/plain": [
              "Downloading:   0%|          | 0.00/1.36M [00:00<?, ?B/s]"
            ]
          },
          "metadata": {}
        }
      ],
      "source": [
        "#create a class of the relevant architecture.\n",
        "lm_model = AutoModelForMaskedLM.from_pretrained(MODEL)\n",
        "lm_token = AutoTokenizer.from_pretrained(MODEL)"
      ]
    },
    {
      "cell_type": "code",
      "source": [
        "#directory to save pre-trained model.\n",
        "PRE_TRAINING_DIRECTORY = \"./pre-\" + MODEL\n",
        "PRE_TRAINING_DIRECTORY_EVAL = \"./pre-\" + MODEL + \"-eval\""
      ],
      "metadata": {
        "id": "mzax9EUoB82c"
      },
      "execution_count": null,
      "outputs": []
    },
    {
      "cell_type": "code",
      "source": [
        "print(PRE_TRAINING_DIRECTORY)\n",
        "print(PRE_TRAINING_DIRECTORY_EVAL)"
      ],
      "metadata": {
        "colab": {
          "base_uri": "https://localhost:8080/"
        },
        "id": "7-zQMEjgy6yw",
        "outputId": "55773bb8-ee2c-4ae7-d312-1c1a64cef9d0"
      },
      "execution_count": null,
      "outputs": [
        {
          "output_type": "stream",
          "name": "stdout",
          "text": [
            "./pre-roberta-base\n",
            "./pre-roberta-base-eval\n"
          ]
        }
      ]
    },
    {
      "cell_type": "code",
      "source": [
        "#saving tokenizer in directory.\n",
        "lm_token.save_pretrained(PRE_TRAINING_DIRECTORY)"
      ],
      "metadata": {
        "id": "5N_dV16MH7Il",
        "colab": {
          "base_uri": "https://localhost:8080/"
        },
        "outputId": "d6fddbeb-4cd0-4b6d-e795-e39f5c4bc67e"
      },
      "execution_count": null,
      "outputs": [
        {
          "output_type": "execute_result",
          "data": {
            "text/plain": [
              "('./pre-roberta-base/tokenizer_config.json',\n",
              " './pre-roberta-base/special_tokens_map.json',\n",
              " './pre-roberta-base/vocab.json',\n",
              " './pre-roberta-base/merges.txt',\n",
              " './pre-roberta-base/added_tokens.json')"
            ]
          },
          "metadata": {},
          "execution_count": 40
        }
      ]
    },
    {
      "cell_type": "code",
      "source": [
        "#Masked Language Modelling Parameters.\n",
        "PRE_TRAINING_BLOCK = 256\n",
        "PRE_TRAINING_EPOCH = 5\n",
        "PRE_TRAINING_EVAl_SAVE = 2\n",
        "PRE_TRAINING_STEPS = 200\n",
        "PRE_TRAINING_FILE = \"pre_training_data.txt\"\n",
        "PRE_TRAINING_PROBABILITY = .15\n",
        "PRE_TRAINING_REPORT = \"none\"\n",
        "PRE_TRAINING_STRATEGY = \"steps\"\n",
        "PRE_TRAINING_METRIC = \"eval_loss\"\n"
      ],
      "metadata": {
        "id": "TMfRVUSoCyIE"
      },
      "execution_count": null,
      "outputs": []
    },
    {
      "cell_type": "code",
      "execution_count": null,
      "metadata": {
        "id": "bwbgfZ0NY2wc"
      },
      "outputs": [],
      "source": [
        "#reads each line separately, tokenizes and truncates the lines to block_size.\n",
        "lm_train = LineByLineTextDataset(tokenizer = lm_token,file_path = PRE_TRAINING_FILE, block_size = PRE_TRAINING_BLOCK)\n",
        "lm_eval = LineByLineTextDataset(tokenizer = lm_token,file_path = PRE_TRAINING_FILE, block_size = PRE_TRAINING_BLOCK)"
      ]
    },
    {
      "cell_type": "code",
      "source": [
        "print(lm_train)\n",
        "print(lm_eval)"
      ],
      "metadata": {
        "colab": {
          "base_uri": "https://localhost:8080/"
        },
        "id": "C1V-0ZzJzXa9",
        "outputId": "b23d597c-8a09-4c31-a553-cf370aaf57b7"
      },
      "execution_count": null,
      "outputs": [
        {
          "output_type": "stream",
          "name": "stdout",
          "text": [
            "<transformers.data.datasets.language_modeling.LineByLineTextDataset object at 0x7f66ff135450>\n",
            "<transformers.data.datasets.language_modeling.LineByLineTextDataset object at 0x7f66ff132950>\n"
          ]
        }
      ]
    },
    {
      "cell_type": "code",
      "source": [
        "#Data collators are objects that will form a batch by using a list of dataset elements as input.\n",
        "lm_input = DataCollatorForLanguageModeling(tokenizer=lm_token, mlm=True, mlm_probability=PRE_TRAINING_PROBABILITY)"
      ],
      "metadata": {
        "id": "mq30etSGEV7W"
      },
      "execution_count": null,
      "outputs": []
    },
    {
      "cell_type": "code",
      "source": [
        "print(lm_input)"
      ],
      "metadata": {
        "colab": {
          "base_uri": "https://localhost:8080/"
        },
        "id": "S0BeuzDWzhwF",
        "outputId": "97b5720a-87c6-478d-dc20-e8df734150dc"
      },
      "execution_count": null,
      "outputs": [
        {
          "output_type": "stream",
          "name": "stdout",
          "text": [
            "DataCollatorForLanguageModeling(tokenizer=PreTrainedTokenizerFast(name_or_path='roberta-base', vocab_size=50265, model_max_len=512, is_fast=True, padding_side='right', special_tokens={'bos_token': '<s>', 'eos_token': '</s>', 'unk_token': '<unk>', 'sep_token': '</s>', 'pad_token': '<pad>', 'cls_token': '<s>', 'mask_token': AddedToken(\"<mask>\", rstrip=False, lstrip=True, single_word=False, normalized=False)}), mlm=True, mlm_probability=0.15)\n"
          ]
        }
      ]
    },
    {
      "cell_type": "code",
      "source": [
        "#access all the points of customization during training\n",
        "lm_parameters = TrainingArguments(\n",
        "    output_dir = PRE_TRAINING_DIRECTORY_EVAL, \n",
        "    overwrite_output_dir = True,\n",
        "    num_train_epochs = PRE_TRAINING_EPOCH,\n",
        "    per_device_train_batch_size = MODEL_BATCH,\n",
        "    per_device_eval_batch_size = MODEL_BATCH,\n",
        "    evaluation_strategy= PRE_TRAINING_STRATEGY,\n",
        "    save_total_limit=PRE_TRAINING_EVAl_SAVE,\n",
        "    eval_steps = PRE_TRAINING_STEPS,\n",
        "    metric_for_best_model = PRE_TRAINING_METRIC,\n",
        "    greater_is_better=False,\n",
        "    load_best_model_at_end =True,\n",
        "    prediction_loss_only=True,\n",
        "    report_to = PRE_TRAINING_REPORT)"
      ],
      "metadata": {
        "id": "uup1MerVETlg"
      },
      "execution_count": null,
      "outputs": []
    },
    {
      "cell_type": "code",
      "source": [
        "print(lm_parameters)"
      ],
      "metadata": {
        "colab": {
          "base_uri": "https://localhost:8080/"
        },
        "id": "lgFQkeUn0qSf",
        "outputId": "a6f586c8-5fb2-47c4-dbce-e2ac4a903169"
      },
      "execution_count": null,
      "outputs": [
        {
          "output_type": "stream",
          "name": "stdout",
          "text": [
            "TrainingArguments(output_dir=./pre-roberta-base-eval, overwrite_output_dir=True, do_train=False, do_eval=None, do_predict=False, evaluation_strategy=IntervalStrategy.STEPS, prediction_loss_only=True, per_device_train_batch_size=16, per_device_eval_batch_size=16, gradient_accumulation_steps=1, eval_accumulation_steps=None, learning_rate=5e-05, weight_decay=0.0, adam_beta1=0.9, adam_beta2=0.999, adam_epsilon=1e-08, max_grad_norm=1.0, num_train_epochs=5, max_steps=-1, lr_scheduler_type=SchedulerType.LINEAR, warmup_ratio=0.0, warmup_steps=0, logging_dir=runs/Feb04_13-59-31_3e667b309442, logging_strategy=IntervalStrategy.STEPS, logging_first_step=False, logging_steps=500, save_strategy=IntervalStrategy.STEPS, save_steps=500, save_total_limit=2, no_cuda=False, seed=42, fp16=False, fp16_opt_level=O1, fp16_backend=auto, fp16_full_eval=False, local_rank=-1, tpu_num_cores=None, tpu_metrics_debug=False, debug=False, dataloader_drop_last=False, eval_steps=200, dataloader_num_workers=0, past_index=-1, run_name=./pre-roberta-base-eval, disable_tqdm=False, remove_unused_columns=True, label_names=None, load_best_model_at_end=True, metric_for_best_model=eval_loss, greater_is_better=False, ignore_data_skip=False, sharded_ddp=[], deepspeed=None, label_smoothing_factor=0.0, adafactor=False, group_by_length=False, length_column_name=length, report_to=[], ddp_find_unused_parameters=None, dataloader_pin_memory=True, skip_memory_metrics=False, _n_gpu=1, mp_parameters=)\n"
          ]
        }
      ]
    },
    {
      "cell_type": "code",
      "source": [
        "#feature-complete training\n",
        "language_modelling = Trainer(\n",
        "    model=lm_model,\n",
        "    args=lm_parameters,\n",
        "    data_collator=lm_input,\n",
        "    train_dataset=lm_train,\n",
        "    eval_dataset=lm_eval)"
      ],
      "metadata": {
        "id": "0eB5lOc9EYjd"
      },
      "execution_count": null,
      "outputs": []
    },
    {
      "cell_type": "code",
      "source": [
        "print(language_modelling)"
      ],
      "metadata": {
        "colab": {
          "base_uri": "https://localhost:8080/"
        },
        "id": "gamNVNPC0nOE",
        "outputId": "db4cf56e-9d4c-4605-b7de-cb4d418330af"
      },
      "execution_count": null,
      "outputs": [
        {
          "output_type": "stream",
          "name": "stdout",
          "text": [
            "<transformers.trainer.Trainer object at 0x7f66ff13c850>\n"
          ]
        }
      ]
    },
    {
      "cell_type": "code",
      "execution_count": null,
      "metadata": {
        "colab": {
          "base_uri": "https://localhost:8080/",
          "height": 201
        },
        "id": "_ce9NAa-Y4Yl",
        "outputId": "9d839f00-d3ab-49c3-bc07-279b00ce1b13",
        "scrolled": true
      },
      "outputs": [
        {
          "output_type": "display_data",
          "data": {
            "text/html": [
              "\n",
              "    <div>\n",
              "        <style>\n",
              "            /* Turns off some styling */\n",
              "            progress {\n",
              "                /* gets rid of default border in Firefox and Opera. */\n",
              "                border: none;\n",
              "                /* Needs to be in here for Safari polyfill so background images work as expected. */\n",
              "                background-size: auto;\n",
              "            }\n",
              "        </style>\n",
              "      \n",
              "      <progress value='890' max='890' style='width:300px; height:20px; vertical-align: middle;'></progress>\n",
              "      [890/890 11:43, Epoch 5/5]\n",
              "    </div>\n",
              "    <table border=\"1\" class=\"dataframe\">\n",
              "  <thead>\n",
              "    <tr style=\"text-align: left;\">\n",
              "      <th>Step</th>\n",
              "      <th>Training Loss</th>\n",
              "      <th>Validation Loss</th>\n",
              "      <th>Runtime</th>\n",
              "      <th>Samples Per Second</th>\n",
              "    </tr>\n",
              "  </thead>\n",
              "  <tbody>\n",
              "    <tr>\n",
              "      <td>200</td>\n",
              "      <td>No log</td>\n",
              "      <td>1.444128</td>\n",
              "      <td>31.739100</td>\n",
              "      <td>89.511000</td>\n",
              "    </tr>\n",
              "    <tr>\n",
              "      <td>400</td>\n",
              "      <td>No log</td>\n",
              "      <td>1.383117</td>\n",
              "      <td>31.747100</td>\n",
              "      <td>89.488000</td>\n",
              "    </tr>\n",
              "    <tr>\n",
              "      <td>600</td>\n",
              "      <td>1.550500</td>\n",
              "      <td>1.340850</td>\n",
              "      <td>31.741700</td>\n",
              "      <td>89.504000</td>\n",
              "    </tr>\n",
              "    <tr>\n",
              "      <td>800</td>\n",
              "      <td>1.550500</td>\n",
              "      <td>1.320047</td>\n",
              "      <td>31.739000</td>\n",
              "      <td>89.511000</td>\n",
              "    </tr>\n",
              "  </tbody>\n",
              "</table><p>"
            ],
            "text/plain": [
              "<IPython.core.display.HTML object>"
            ]
          },
          "metadata": {}
        }
      ],
      "source": [
        "#training loop\n",
        "language_modelling.train()\n",
        "language_modelling.save_model(PRE_TRAINING_DIRECTORY)"
      ]
    },
    {
      "cell_type": "markdown",
      "source": [
        "# **4. Fine Tune NLP Models**"
      ],
      "metadata": {
        "id": "M4ICG7RnI_km"
      }
    },
    {
      "cell_type": "markdown",
      "source": [
        "In fine-tuning we take NLP model and train again on downstream task. Here down-stream task is regression. We also use various fine tuning strategies:\n",
        "1. Concatenate last 4 layers\n",
        "2. Attention Head\n",
        "3. Layer-wise Learning Rate Decay (LLRD)\n",
        "4. Frequent Evaluation"
      ],
      "metadata": {
        "id": "bus8EdYsNvlO"
      }
    },
    {
      "cell_type": "markdown",
      "source": [
        "## **4.1 Loading Data**"
      ],
      "metadata": {
        "id": "coUetU_kJROE"
      }
    },
    {
      "cell_type": "code",
      "source": [
        "#To use Pre-Trained Model \n",
        "PRE_TRAINED_MODEL = True\n"
      ],
      "metadata": {
        "id": "vjgXIvz_NDql"
      },
      "execution_count": 15,
      "outputs": []
    },
    {
      "cell_type": "code",
      "source": [
        "#To concatenate Last 4 layers\n",
        "Concatenate_Last_4_Layers = True"
      ],
      "metadata": {
        "id": "BJvJyvQVMWZC"
      },
      "execution_count": 16,
      "outputs": []
    },
    {
      "cell_type": "code",
      "source": [
        "#checking if model is pre-trained\n",
        "if (PRE_TRAINED_MODEL):\n",
        "  MODEL = \"pre-\" + MODEL\n",
        "  MODEL_TOKENIZER = \"pre-\" + MODEL_TOKENIZER"
      ],
      "metadata": {
        "id": "pCkqZRlbNGp2"
      },
      "execution_count": 17,
      "outputs": []
    },
    {
      "cell_type": "code",
      "source": [
        "print(MODEL)\n",
        "print(MODEL_TOKENIZER)"
      ],
      "metadata": {
        "colab": {
          "base_uri": "https://localhost:8080/"
        },
        "id": "WJDRkwENNcSU",
        "outputId": "4a884400-99cc-42a0-fa3d-c26680466d00"
      },
      "execution_count": 18,
      "outputs": [
        {
          "output_type": "stream",
          "name": "stdout",
          "text": [
            "pre-roberta-base\n",
            "pre-roberta-base\n"
          ]
        }
      ]
    },
    {
      "cell_type": "code",
      "execution_count": 19,
      "metadata": {
        "id": "scaeUKmAlPRH"
      },
      "outputs": [],
      "source": [
        "#Model Training Parameters\n",
        "MODEL_KFOLDS = 5\n",
        "MODEL_EPOCHS = 2\n",
        "MODEL_LENGTH = 248\n",
        "MODEL_STEP = [(0.50, 16), (0.49, 8), (0.48, 4), (0.47, 2), (-1., 1)]\n",
        "MODEL_PAD = \"max_length\"\n",
        "MODEL_NORM = 1e-7\n",
        "MODEL_PROB = 0.0\n",
        "MODEL_HIDDEN_1 = 1\n",
        "MODEL_HIDDEN_2 = 512\n",
        "MODEL_HIDDEN_3 = 768\n",
        "MODEL_SEED_VALUE = 1000\n",
        "MODEL_REDUCTION_TRAIN = \"mean\"\n",
        "MODEL_REDUCTION_VAL = \"sum\"\n",
        "MODEL_WEIGHT_DECAY = .01\n",
        "MODEL_WEIGHT_DECAY_BIAS = 0.0\n",
        "MODEL_LR_1 = 2e-5\n",
        "MODEL_LR_2 = 5e-5\n",
        "MODEL_LR_3 = 1e-4\n",
        "MODEL_CPU_WORKERS = 2\n",
        "MODEL_WARMUP = 50"
      ]
    },
    {
      "cell_type": "code",
      "execution_count": 20,
      "metadata": {
        "id": "Q9BkPJnglPRI"
      },
      "outputs": [],
      "source": [
        "#dropping target and standard_error with both zero values\n",
        "commonlit_data.drop(commonlit_data[(commonlit_data.target == 0) & (commonlit_data.standard_error == 0)].index,inplace=True)\n",
        "commonlit_data.reset_index(drop=True, inplace=True)"
      ]
    },
    {
      "cell_type": "code",
      "execution_count": 21,
      "metadata": {
        "id": "E67QBo2OsAuN",
        "colab": {
          "base_uri": "https://localhost:8080/",
          "height": 35
        },
        "outputId": "0d6720a9-3967-4379-b947-771dc3546fee"
      },
      "outputs": [
        {
          "output_type": "execute_result",
          "data": {
            "application/vnd.google.colaboratory.intrinsic+json": {
              "type": "string"
            },
            "text/plain": [
              "'pre-roberta-base'"
            ]
          },
          "metadata": {},
          "execution_count": 21
        }
      ],
      "source": [
        "MODEL_TOKENIZER"
      ]
    },
    {
      "cell_type": "code",
      "execution_count": 22,
      "metadata": {
        "id": "BONFN__xlPRJ"
      },
      "outputs": [],
      "source": [
        "model_token = AutoTokenizer.from_pretrained(MODEL_TOKENIZER)"
      ]
    },
    {
      "cell_type": "markdown",
      "source": [
        "## **4.2 Model Architecture**"
      ],
      "metadata": {
        "id": "f9LvAxm2PjAC"
      }
    },
    {
      "cell_type": "markdown",
      "source": [
        "Here we are creating model architecture using TorchNeuralNetwork module.\n",
        "Model architecture will be **model + attention head + regression**.\n",
        "\n",
        "\n",
        "*   Model: Various Transformers models like roberta-base\n",
        "*   attention head: This take output from last layer of transformer and passes through first linear layer with tanh activation function.Then it passes through second linear layer followed by softmax function.\n",
        "*   regression : one linear layer\n",
        "\n",
        "\n",
        "\n",
        "\n"
      ],
      "metadata": {
        "id": "InyVFP04qpIF"
      }
    },
    {
      "cell_type": "markdown",
      "source": [
        "Transformers typically return **three types of raw output**:\n",
        "\n",
        "1.   last_hidden_state : output of last layer of transformer.\n",
        "2.   pooler_output  : first token of sequence.\n",
        "3.   hidden_states : output of all layers of transformer.\n",
        "\n"
      ],
      "metadata": {
        "id": "swshL-hgrTy6"
      }
    },
    {
      "cell_type": "markdown",
      "source": [
        "![Screenshot 2022-02-05 005756.png](data:image/png;base64,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)"
      ],
      "metadata": {
        "id": "i1bS_Wy8NT75"
      }
    },
    {
      "cell_type": "markdown",
      "source": [
        "Transformers have different number of layer and hidden size. For roberta-base there are 12 layers and 768 is hidden size.  For roberta large there are 24 layers and 1024 is hidden size."
      ],
      "metadata": {
        "id": "H6HuP7AQOAOb"
      }
    },
    {
      "cell_type": "markdown",
      "source": [
        "**Below section of code uses two fine tuning strategies**:"
      ],
      "metadata": {
        "id": "1KE3dS8XGnSA"
      }
    },
    {
      "cell_type": "markdown",
      "source": [
        " **1. Concatenate Last 4 layers:** Instead of using only output of last layer of transformer. We will be using output of last 4 layers of transformers."
      ],
      "metadata": {
        "id": "P0Uz1xfNVyR2"
      }
    },
    {
      "cell_type": "markdown",
      "source": [
        "**2. Attention Head:** Here we pass output of last layer of transformer to Attention Head Network(#Attention_Head) to  get weights. Then we multiply these weigths by output of  last layer of transformer and mean  the resultant tensor across sequence length dimesion to get context vector which will be passed to regression layer. Here aim is to compress tensor(output of last layer of transformer) across the sequence length dimension . To do so we get weigths of different cells across sequence length by Attention Head. We could have just passed output tensor of last layer of transformer to regression layer to get prediction score . But there will be some words in sequence(sentence) which will be influencing prediction score(reading ease) more. Thats why we are first getting weigths of all words of sequence so that we can do weighted average.Then we pass weighted average(context vector) to regression layer."
      ],
      "metadata": {
        "id": "e4Gzn0shVY-2"
      }
    },
    {
      "cell_type": "code",
      "source": [
        "'''\n",
        "TorchNeuralNetwork.Module   Base class for all neural network modules.\n",
        "Here we are creating NLP architecture to get prediction score.\n",
        "The forward function of this class will be called when we pass input.\n",
        "For example: return = CommonLit_Architecture(**input) . The forward function will get called to get return.\n",
        "'''"
      ],
      "metadata": {
        "id": "-Zrw3HvwbEvL",
        "colab": {
          "base_uri": "https://localhost:8080/",
          "height": 53
        },
        "outputId": "63e431fc-376c-4cb2-d86f-838d6db6808d"
      },
      "execution_count": 23,
      "outputs": [
        {
          "output_type": "execute_result",
          "data": {
            "application/vnd.google.colaboratory.intrinsic+json": {
              "type": "string"
            },
            "text/plain": [
              "'\\nTorchNeuralNetwork.Module   Base class for all neural network modules.\\nHere we are creating NLP architecture to get prediction score.\\nThe forward function of this class will be called when we pass input.\\nFor example: return = CommonLit_Architecture(**input) . The forward function will get called to get return.\\n'"
            ]
          },
          "metadata": {},
          "execution_count": 23
        }
      ]
    },
    {
      "cell_type": "code",
      "execution_count": 24,
      "metadata": {
        "id": "e-LEWVqelPRL"
      },
      "outputs": [],
      "source": [
        "class CommonLit_Architecture(TorchNeuralNetwork.Module): \n",
        "    def __init__(self):\n",
        "        super().__init__()\n",
        "\n",
        "        #Download configuration from huggingface.co\n",
        "        commonlit_cfg = AutoConfig.from_pretrained(MODEL)\n",
        "\n",
        "        #Chaning parameters of configuration file\n",
        "        commonlit_cfg.update({\"output_hidden_states\":True, \"hidden_dropout_prob\": MODEL_PROB,\"layer_norm_eps\": MODEL_NORM}) \n",
        "\n",
        "        #The architecture we want to use can be get from the name or the path of the pretrained model we are supplying to the from_pretrained method.\n",
        "        #AutoClasses are here to do this job for us so that we can automatically retrieve the relevant model given the name/path to the pretrained weights/config/vocabulary:\n",
        "        self.model = AutoModel.from_pretrained(MODEL, config=commonlit_cfg) \n",
        "\n",
        "        #Attention_Head(2nd Fine Tuning Strategy)     \n",
        "        self.attn_head = TorchNeuralNetwork.Sequential(            \n",
        "            TorchNeuralNetwork.Linear(MODEL_HIDDEN_3, MODEL_HIDDEN_2),            \n",
        "            TorchNeuralNetwork.Tanh(),                       \n",
        "            TorchNeuralNetwork.Linear(MODEL_HIDDEN_2, MODEL_HIDDEN_1),\n",
        "            TorchNeuralNetwork.Softmax(dim=MODEL_HIDDEN_1)\n",
        "        )\n",
        "\n",
        "        #regression layer\n",
        "        self.linear_reg = TorchNeuralNetwork.Sequential(                        \n",
        "            TorchNeuralNetwork.Linear(MODEL_HIDDEN_3, MODEL_HIDDEN_1)                        \n",
        "        ) \n",
        "        \n",
        "    #forward function\n",
        "    def forward(self, commonlit_encode, commonlit_attn):\n",
        "\n",
        "        #output of last layer of transformer\n",
        "        model_hidden = self.model(input_ids=commonlit_encode,attention_mask=commonlit_attn)  #shape: Batch_Size*Sequence_Length*Hidden_Size     \n",
        "\n",
        "        if not Concatenate_Last_4_Layers:\n",
        "          #Use only output of last layer of transformer\n",
        "          model_hidden_stack_mean = model_hidden.hidden_states[-1]\n",
        "        else:\n",
        "          #Concatenate Last 4 layers(1st Fine Tuning Strategy)\n",
        "          model_hidden_stack = torch.stack([model_hidden.hidden_states[-1],model_hidden.hidden_states[-2],model_hidden.hidden_states[-3],model_hidden.hidden_states[-4]]) \n",
        "                                                                                                                #shape: 4*Batch_Size*Sequence_Length*Hidden_Size \n",
        "          model_hidden_stack_mean =  torch.mean(model_hidden_stack, 0) #shape:Batch_Size*Sequence_Length*Hidden_Size\n",
        "\n",
        "        #Getting weigths from Attention_Head Network\n",
        "        model_hidden_weight = self.attn_head(model_hidden_stack_mean) #shape:*Batch_Size*Sequence_Length*1\n",
        "                \n",
        "        # Multiplying weigths(model_hidden_weight) from Attention_Head Network by Output of last layer of network(model_hidden_stack_mean). \n",
        "        # model_hidden_weight * model_hidden_stack_mean\n",
        "        # Then averaging the tensor across sequence Length Dimension.\n",
        "        # The output(model_hidden_vec) will be passed to Regression Layer to get prediction score.\n",
        "        model_hidden_vec = torch.sum(model_hidden_weight * model_hidden_stack_mean, dim=1) #shape:*Batch_Size*Hidden_Size     \n",
        "    \n",
        "        return self.linear_reg(model_hidden_vec)\n",
        "    "
      ]
    },
    {
      "cell_type": "markdown",
      "source": [
        "## **4.3 Model Optimizer**"
      ],
      "metadata": {
        "id": "aoW1K4e-mCEv"
      }
    },
    {
      "cell_type": "markdown",
      "source": [
        "Here we are implementing **3rd fine tuning strategy:\n",
        "Layer-wise Learning Rate Decay (LLRD)**"
      ],
      "metadata": {
        "id": "akkD0ux59DK4"
      }
    },
    {
      "cell_type": "markdown",
      "source": [
        "In this we give different learning rate to different layers of transformer model. We are using three different learning rate to corresponding group of layers with initial group of layers lowest and last group of layers highest."
      ],
      "metadata": {
        "id": "igQKWyPy9RiK"
      }
    },
    {
      "cell_type": "markdown",
      "source": [
        "For example roberta-base has 12 layers.Different Learning rate for different layers:  \n",
        "\n",
        "*   Group 1(Layers 1-4) : 2e-5\n",
        "*   Group 2 (Layers 5-8) : 5e-5\n",
        "*   Group 3(Layers 9-12) : 1e-4"
      ],
      "metadata": {
        "id": "95YKzFMA-AOQ"
      }
    },
    {
      "cell_type": "markdown",
      "source": [
        "We will give Weight Decay of .01 if Model Layer dont have bias as parameter."
      ],
      "metadata": {
        "id": "vEFQ5E6e_AxR"
      }
    },
    {
      "cell_type": "markdown",
      "source": [
        "Below is Model Parameter Values.\n",
        "\n",
        "*   MODEL_LAYER_START : This is start of 1st group of layers or 1/3rd of Total layers of Model. For example roberta-base has 12 layers.So 4th layer starts here.\n",
        "*   MODEL_LAYER_MIDDLE : This is start of 2nd group of layers or 2/3rd of Total layers of Model. For example roberta-base has 12 layers.So 8th layer starts here.\n",
        "*   MODEL_LAYER_LAST : This is start of 3rd group of layers or 3/3rd of Total layers of Model. For example roberta-base has 12 layers.So 12th layer starts here.\n",
        "*   MODEL_ATTN_START : This is start of Attention_Head layers.\n",
        "*   MODEL_REG_START : This is start of Regression layers.\n",
        "\n",
        "\n",
        "\n",
        "\n",
        "\n",
        "\n"
      ],
      "metadata": {
        "id": "4wwH7kok_jK-"
      }
    },
    {
      "cell_type": "markdown",
      "source": [
        "**roberta-base**"
      ],
      "metadata": {
        "id": "EUt9QH7XjZk-"
      }
    },
    {
      "cell_type": "code",
      "source": [
        "MODEL_LAYER_START = 69\n",
        "MODEL_LAYER_MIDDLE = 133\n",
        "MODEL_LAYER_LAST = 197\n",
        "MODEL_ATTN_START = 199\n",
        "MODEL_REG_START = 203"
      ],
      "metadata": {
        "id": "B3qJurNWjZk-"
      },
      "execution_count": 25,
      "outputs": []
    },
    {
      "cell_type": "markdown",
      "source": [
        "**roberta-large** "
      ],
      "metadata": {
        "id": "XfNTx1R2jZk_"
      }
    },
    {
      "cell_type": "code",
      "source": [
        "MODEL_LAYER_START = 133\n",
        "MODEL_LAYER_MIDDLE = 261\n",
        "MODEL_LAYER_LAST = 389\n",
        "MODEL_ATTN_START = 391\n",
        "MODEL_REG_START = 395"
      ],
      "metadata": {
        "id": "BlNrqh-YjZk_"
      },
      "execution_count": 26,
      "outputs": []
    },
    {
      "cell_type": "markdown",
      "source": [
        "**deepset/roberta-base-squad2**"
      ],
      "metadata": {
        "id": "AQRP8keijZk_"
      }
    },
    {
      "cell_type": "code",
      "source": [
        "MODEL_LAYER_START = 69\n",
        "MODEL_LAYER_MIDDLE = 133\n",
        "MODEL_LAYER_LAST = 197\n",
        "MODEL_ATTN_START = 199\n",
        "MODEL_REG_START = 203"
      ],
      "metadata": {
        "id": "eTEPmqhgjZk_"
      },
      "execution_count": 27,
      "outputs": []
    },
    {
      "cell_type": "markdown",
      "source": [
        "**deepset/roberta-large-squad2** "
      ],
      "metadata": {
        "id": "lqzNw_UJjZk_"
      }
    },
    {
      "cell_type": "code",
      "source": [
        "MODEL_LAYER_START = 133\n",
        "MODEL_LAYER_MIDDLE = 261\n",
        "MODEL_LAYER_LAST = 389\n",
        "MODEL_ATTN_START = 391\n",
        "MODEL_REG_START = 395"
      ],
      "metadata": {
        "id": "FEof1rCEjZk_"
      },
      "execution_count": 28,
      "outputs": []
    },
    {
      "cell_type": "markdown",
      "source": [
        "**microsoft/deberta-base** "
      ],
      "metadata": {
        "id": "5PTCIalmjZlA"
      }
    },
    {
      "cell_type": "code",
      "source": [
        "MODEL_LAYER_START = 67\n",
        "MODEL_LAYER_MIDDLE = 131\n",
        "MODEL_LAYER_LAST = 195\n",
        "MODEL_ATTN_START = 196\n",
        "MODEL_REG_START = 200"
      ],
      "metadata": {
        "id": "lPVIazPrjZlA"
      },
      "execution_count": 29,
      "outputs": []
    },
    {
      "cell_type": "markdown",
      "source": [
        "**microsoft/deberta-large** "
      ],
      "metadata": {
        "id": "t3-A0FuejZlA"
      }
    },
    {
      "cell_type": "code",
      "source": [
        "MODEL_LAYER_START = 131\n",
        "MODEL_LAYER_MIDDLE = 259\n",
        "MODEL_LAYER_LAST = 387\n",
        "MODEL_ATTN_START = 390\n",
        "MODEL_REG_START = 394"
      ],
      "metadata": {
        "id": "nVe2E9tgjZlA"
      },
      "execution_count": 30,
      "outputs": []
    },
    {
      "cell_type": "markdown",
      "source": [
        "**microsoft/deberta-v3-large** "
      ],
      "metadata": {
        "id": "ptDtFv9ujZlA"
      }
    },
    {
      "cell_type": "code",
      "source": [
        "MODEL_LAYER_START = 131\n",
        "MODEL_LAYER_MIDDLE = 259\n",
        "MODEL_LAYER_LAST = 387\n",
        "MODEL_ATTN_START = 390\n",
        "MODEL_REG_START = 394"
      ],
      "metadata": {
        "id": "sE0w0DKijZlA"
      },
      "execution_count": 31,
      "outputs": []
    },
    {
      "cell_type": "markdown",
      "source": [
        "**google/electra-large-discriminator**"
      ],
      "metadata": {
        "id": "Yl8YA-aijZlA"
      }
    },
    {
      "cell_type": "code",
      "source": [
        "MODEL_LAYER_START = 133\n",
        "MODEL_LAYER_MIDDLE = 261\n",
        "MODEL_LAYER_LAST = 389\n",
        "MODEL_ATTN_START= 389\n",
        "MODEL_REG_START = 393"
      ],
      "metadata": {
        "id": "LA1_KyfwjZlA"
      },
      "execution_count": 32,
      "outputs": []
    },
    {
      "cell_type": "markdown",
      "source": [
        "**albert-large-v2**"
      ],
      "metadata": {
        "id": "p7r705myjZlA"
      }
    },
    {
      "cell_type": "code",
      "source": [
        "MODEL_LAYER_START = 8\n",
        "MODEL_LAYER_MIDDLE = 15\n",
        "MODEL_LAYER_LAST = 23\n",
        "MODEL_ATTN_START= 25\n",
        "MODEL_REG_START = 29"
      ],
      "metadata": {
        "id": "Jh9r9g_PjZlB"
      },
      "execution_count": 33,
      "outputs": []
    },
    {
      "cell_type": "markdown",
      "source": [
        "**bert-large-uncased** "
      ],
      "metadata": {
        "id": "7AvYk4-njZlB"
      }
    },
    {
      "cell_type": "code",
      "source": [
        "MODEL_LAYER_START = 133\n",
        "MODEL_LAYER_MIDDLE = 261\n",
        "MODEL_LAYER_LAST = 389\n",
        "MODEL_ATTN_START= 391\n",
        "MODEL_REG_START = 395"
      ],
      "metadata": {
        "id": "z0mMGMNnjZlB"
      },
      "execution_count": 34,
      "outputs": []
    },
    {
      "cell_type": "markdown",
      "source": [
        "**funnel-transformer/large**"
      ],
      "metadata": {
        "id": "OQodC9xqjZlB"
      }
    },
    {
      "cell_type": "code",
      "source": [
        "MODEL_LAYER_START = 163\n",
        "MODEL_LAYER_MIDDLE = 323\n",
        "MODEL_LAYER_LAST = 523\n",
        "MODEL_ATTN_START= 523\n",
        "MODEL_REG_START = 527"
      ],
      "metadata": {
        "id": "opLGKmFVjZlB"
      },
      "execution_count": 35,
      "outputs": []
    },
    {
      "cell_type": "code",
      "source": [
        "'''\n",
        "Optimizer Function\n",
        "'''"
      ],
      "metadata": {
        "id": "T4vAKmsECp6E",
        "colab": {
          "base_uri": "https://localhost:8080/",
          "height": 35
        },
        "outputId": "c0891123-bab5-49e3-8b9b-9713306ff125"
      },
      "execution_count": 37,
      "outputs": [
        {
          "output_type": "execute_result",
          "data": {
            "application/vnd.google.colaboratory.intrinsic+json": {
              "type": "string"
            },
            "text/plain": [
              "'\\nOptimizer Function\\n'"
            ]
          },
          "metadata": {},
          "execution_count": 37
        }
      ]
    },
    {
      "cell_type": "code",
      "execution_count": 38,
      "metadata": {
        "id": "JdcvycA3lPRO"
      },
      "outputs": [],
      "source": [
        "def commonlit_opt(commonlit_arch):\n",
        "\n",
        "  #Returns an iterator over module parameters, yielding both the name of the parameter as well as the parameter itself.\n",
        "  commonlit_param = list(commonlit_arch.named_parameters())  \n",
        "          \n",
        "  model_layer_specification = commonlit_param[:MODEL_LAYER_LAST]\n",
        "  attn_head_specification = commonlit_param[MODEL_ATTN_START:MODEL_REG_START]\n",
        "  linear_reg_specification = commonlit_param[MODEL_REG_START:]\n",
        "   \n",
        "  attn_head_set = [attn_head_specification_val for (_, attn_head_specification_val) in attn_head_specification]      \n",
        "  linear_reg_set = [linear_reg_specification_val for (_, linear_reg_specification_val) in linear_reg_specification]\n",
        "\n",
        "  arch_variables = []\n",
        "  arch_variables.append({\"params\": attn_head_set})\n",
        "  arch_variables.append({\"params\": linear_reg_set})\n",
        "\n",
        "  #Differernt LR for three different group of Model Layers\n",
        "  #If Layer has no bias as parameter then weight decay of 0.01\n",
        "  for model_lyr_no, (model_label, model_lyr_spec) in enumerate(model_layer_specification):\n",
        "    if \"bias\" in model_label:\n",
        "      model_wd = MODEL_WEIGHT_DECAY_BIAS \n",
        "    else:\n",
        "      model_wd = MODEL_WEIGHT_DECAY\n",
        "\n",
        "    learning_rate = MODEL_LR_1\n",
        "\n",
        "    if model_lyr_no >= MODEL_LAYER_START:        \n",
        "      learning_rate = MODEL_LR_2\n",
        "\n",
        "    if model_lyr_no >= MODEL_LAYER_MIDDLE:\n",
        "      learning_rate = MODEL_LR_3\n",
        "\n",
        "    arch_variables.append({\"params\": model_lyr_spec,\"weight_decay\": model_wd,\"lr\": learning_rate})\n",
        "\n",
        "  commonlit_opt_return = AdamW(arch_variables)\n",
        "\n",
        "  return commonlit_opt_return"
      ]
    },
    {
      "cell_type": "markdown",
      "source": [
        "## **4.4 Validation Function**"
      ],
      "metadata": {
        "id": "DhtC1rU6Ctyp"
      }
    },
    {
      "cell_type": "code",
      "source": [
        "'''\n",
        "Validation Function\n",
        "'''"
      ],
      "metadata": {
        "id": "jLvMdJsdbbu2",
        "colab": {
          "base_uri": "https://localhost:8080/",
          "height": 35
        },
        "outputId": "82b7b4c0-56fc-43b5-8540-3f86a51c351e"
      },
      "execution_count": 39,
      "outputs": [
        {
          "output_type": "execute_result",
          "data": {
            "application/vnd.google.colaboratory.intrinsic+json": {
              "type": "string"
            },
            "text/plain": [
              "'\\nValidation Function\\n'"
            ]
          },
          "metadata": {},
          "execution_count": 39
        }
      ]
    },
    {
      "cell_type": "code",
      "execution_count": 40,
      "metadata": {
        "id": "bDExPhEQlPRM"
      },
      "outputs": [],
      "source": [
        "def commonlit_val(commonlit_arch, commonlit_iterable):\n",
        "\n",
        "  #Sets the module in evaluation mode\n",
        "  commonlit_arch.eval() \n",
        "\n",
        "  mean_sum_square = 0\n",
        "\n",
        "  #context-manager that disabled gradient calculation\n",
        "  with torch.no_grad():\n",
        "    #enumerating over validation data\n",
        "    for _,(commonlit_encode, commonlit_attn, commonlit_read_ease) in enumerate(commonlit_iterable):\n",
        "\n",
        "      commonlit_read_ease = commonlit_read_ease.to(CUDA)  \n",
        "      commonlit_attn = commonlit_attn.to(CUDA)           \n",
        "      commonlit_encode = commonlit_encode.to(CUDA)        \n",
        "\n",
        "      #getting return from CommonLit_Architecture      \n",
        "      commonlit_return = commonlit_arch(commonlit_encode, commonlit_attn)\n",
        "\n",
        "      #Flattens input by reshaping it into a one-dimensional tensor.                        \n",
        "      commonlit_flatten = commonlit_return.flatten()\n",
        "\n",
        "      #measures the mean squared error between each element in the input and target.\n",
        "      mean_sum_square += TorchNeuralNetwork.MSELoss(reduction=MODEL_REDUCTION_VAL)(commonlit_flatten, commonlit_read_ease).item()\n",
        "\n",
        "  #getting length of validation dataset          \n",
        "  iter_len = len(commonlit_iterable.dataset)\n",
        "\n",
        "  #getting return of commonlit_val function\n",
        "  commonlit_val_return = mean_sum_square / iter_len \n",
        "  \n",
        "  return commonlit_val_return"
      ]
    },
    {
      "cell_type": "markdown",
      "source": [
        "## **4.5 Setting Random Values**"
      ],
      "metadata": {
        "id": "6EyOLypeDAAQ"
      }
    },
    {
      "cell_type": "code",
      "source": [
        "'''\n",
        "Code to set all the random values used in this case study\n",
        "'''"
      ],
      "metadata": {
        "id": "ybxHUmWvDEJu",
        "colab": {
          "base_uri": "https://localhost:8080/",
          "height": 35
        },
        "outputId": "622ceef1-f9a9-46c4-b92b-b7d9997cbf00"
      },
      "execution_count": 41,
      "outputs": [
        {
          "output_type": "execute_result",
          "data": {
            "application/vnd.google.colaboratory.intrinsic+json": {
              "type": "string"
            },
            "text/plain": [
              "'\\nCode to set all the random values used in this case study\\n'"
            ]
          },
          "metadata": {},
          "execution_count": 41
        }
      ]
    },
    {
      "cell_type": "code",
      "source": [
        "def model_rset(rvalue):\n",
        "\n",
        "  #initialize the random number generator\n",
        "  random.seed(rvalue)\n",
        "\n",
        "  #random numbers predictable\n",
        "  np.random.seed(rvalue)\n",
        "\n",
        "  #setting os environment value\n",
        "  os.environ[\"PYTHONHASHSEED\"] = str(rvalue)\n",
        "\n",
        "  #sets the seed for generating random numbers\n",
        "  torch.manual_seed(rvalue)\n",
        "\n",
        "  #sets the seed for generating random numbers for the current GPU\n",
        "  torch.cuda.manual_seed(rvalue)\n",
        "\n",
        "  #sets the seed for generating random numbers on all GPUs\n",
        "  torch.cuda.manual_seed_all(rvalue)\n",
        "\n",
        "  #setting cuda backend value\n",
        "  torch.backends.cudnn.deterministic = True"
      ],
      "metadata": {
        "id": "6jT1mSNzC_QA"
      },
      "execution_count": 42,
      "outputs": []
    },
    {
      "cell_type": "markdown",
      "source": [
        "## **4.6 PyTorch DataSet Class**"
      ],
      "metadata": {
        "id": "wARqNXLxTZ5C"
      }
    },
    {
      "cell_type": "code",
      "source": [
        "'''\n",
        "PyTorch provides two data primitives: torch.utils.data.DataLoader and torch.utils.data.Dataset that allow us to use your own data.\n",
        "Dataset stores the samples and their corresponding labels, and DataLoader wraps an iterable around the Dataset to enable easy access to the samples.\n",
        "A custom Dataset class has three functions: __init__, __len__, and __getitem__.\n",
        "'''"
      ],
      "metadata": {
        "id": "LS0U_gcFTfDi",
        "colab": {
          "base_uri": "https://localhost:8080/",
          "height": 70
        },
        "outputId": "34a40a80-17d3-4ee3-afa4-efc498c64943"
      },
      "execution_count": 43,
      "outputs": [
        {
          "output_type": "execute_result",
          "data": {
            "application/vnd.google.colaboratory.intrinsic+json": {
              "type": "string"
            },
            "text/plain": [
              "'\\nPyTorch provides two data primitives: torch.utils.data.DataLoader and torch.utils.data.Dataset that allow us to use your own data.\\nDataset stores the samples and their corresponding labels, and DataLoader wraps an iterable around the Dataset to enable easy access to the samples.\\nA custom Dataset class has three functions: __init__, __len__, and __getitem__.\\n'"
            ]
          },
          "metadata": {},
          "execution_count": 43
        }
      ]
    },
    {
      "cell_type": "code",
      "execution_count": 44,
      "metadata": {
        "id": "kEjM6UcslPRK"
      },
      "outputs": [],
      "source": [
        "class CommonLit_Item(Dataset):\n",
        "  #run once when instantiating the Dataset object\n",
        "  def __init__(self, data, io=False):\n",
        "    super().__init__()\n",
        "\n",
        "    self.io = io\n",
        "    if not self.io:\n",
        "      self.read_ease = torch.tensor(data.target.values, dtype=torch.float32) \n",
        "\n",
        "    self.excerpt = data.excerpt.tolist()\n",
        "    self.ec = model_token.batch_encode_plus(self.excerpt,padding = MODEL_PAD,max_length = MODEL_LENGTH,truncation = True,return_attention_mask=True)\n",
        "\n",
        "    self.item_data = data        \n",
        "\n",
        "  #loads and returns a sample from the dataset at the given index.                                   \n",
        "  def __getitem__(self, index): \n",
        "    commonlit_attn = torch.tensor(self.ec['attention_mask'][index])       \n",
        "    commonlit_encode = torch.tensor(self.ec['input_ids'][index])\n",
        "        \n",
        "    if not self.io:\n",
        "      commonlit_read_ease = self.read_ease[index]\n",
        "      return (commonlit_encode, commonlit_attn, commonlit_read_ease)       \n",
        "    else:\n",
        "      return (commonlit_encode, commonlit_attn)   \n",
        "\n",
        "  #returns the number of samples in our dataset.  \n",
        "  def __len__(self):\n",
        "    return len(self.item_data)  "
      ]
    },
    {
      "cell_type": "markdown",
      "source": [
        "## **4.7 CommonLit Architecture Main function and Frequent Evaluation**"
      ],
      "metadata": {
        "id": "qu2J9n16V9S7"
      }
    },
    {
      "cell_type": "markdown",
      "source": [
        "We will go through all batches of data,get reading ease scores,back-propagate,optimizer and scheduler will update respective parameters."
      ],
      "metadata": {
        "id": "74VT58AGcHLu"
      }
    },
    {
      "cell_type": "markdown",
      "source": [
        "Below function also implements **4th fine tuning strategy:Frequent Evaluation**"
      ],
      "metadata": {
        "id": "6YWqlQvpTdzg"
      }
    },
    {
      "cell_type": "markdown",
      "source": [
        "In Frequent Evaluation we check validation scores after passage of certain number of batches. We call passage of one batch of train data as one step.After certain number of steps we check for validation score. We also keep on changing steps based on validation score."
      ],
      "metadata": {
        "id": "zAdM--yjTs4s"
      }
    },
    {
      "cell_type": "markdown",
      "source": [
        "In this case study we are following this schedule: **MODEL_STEP** = [(0.50, 16), (0.49, 8), (0.48, 4), (0.47, 2), (-1., 1)]. The first value of every tuple is validation score(vs) and second value is step size."
      ],
      "metadata": {
        "id": "miie0phLUpRc"
      }
    },
    {
      "cell_type": "markdown",
      "source": [
        "Above means, if validation score(VS) is above .5( first value in array). Number of steps is 16."
      ],
      "metadata": {
        "id": "sfZCjnwFU2tY"
      }
    },
    {
      "cell_type": "markdown",
      "source": [
        "If .49<VS<.5 ,then number of steps is 8. If .48<VS<.49 then number of steps is 4. And so on...."
      ],
      "metadata": {
        "id": "cIxjLXDEV2th"
      }
    },
    {
      "cell_type": "markdown",
      "source": [
        "If new validation score is less than previous validation score we save the model. Important thing is we check for validation score after certain number of steps . Or value based in MODEL_STEP array. The reasoning here is that we have all the time to train the model and aim here is to get best possible score.So we can increase training time significantly in return of getting best possible predictions."
      ],
      "metadata": {
        "id": "TZs0MRkdWT2E"
      }
    },
    {
      "cell_type": "code",
      "source": [
        "'''\n",
        "Function to input CommonLit Architecture Class and to implement frequent evaluation.\n",
        "'''"
      ],
      "metadata": {
        "id": "ScjOjtSJfAlx",
        "colab": {
          "base_uri": "https://localhost:8080/",
          "height": 35
        },
        "outputId": "05b89711-5520-48cd-eb1e-5df8f326db20"
      },
      "execution_count": 45,
      "outputs": [
        {
          "output_type": "execute_result",
          "data": {
            "application/vnd.google.colaboratory.intrinsic+json": {
              "type": "string"
            },
            "text/plain": [
              "'\\nFunction to input CommonLit Architecture Class and to implement frequent evaluation.\\n'"
            ]
          },
          "metadata": {},
          "execution_count": 45
        }
      ]
    },
    {
      "cell_type": "code",
      "execution_count": 46,
      "metadata": {
        "id": "PNMSTCzflPRN"
      },
      "outputs": [],
      "source": [
        "def commonlit_architecture_main(commonlit_arch, arch_dir, cl_tr_iterable, cl_eval_iterable,commonlit_opt_adamw, commonlit_sch):   \n",
        "    \n",
        "  batch_interval = MODEL_STEP[0][1] \n",
        "  batch_checker = 0\n",
        "  previous_period = 0\n",
        "  top_epoch = 0\n",
        "  top_eval_score = 1\n",
        "  commonlit_epoch = 0\n",
        "\n",
        "  while(commonlit_epoch <= MODEL_EPOCHS):   \n",
        "    commonlit_eval = None    \n",
        "\n",
        "    #we are iterating through our dataset\n",
        "    for commonlit_bn, (commonlit_encode, commonlit_attn, commonlit_read_ease) in enumerate(cl_tr_iterable):\n",
        "\n",
        "      commonlit_read_ease = commonlit_read_ease.to(CUDA) \n",
        "      commonlit_attn = commonlit_attn.to(CUDA)\n",
        "      commonlit_encode = commonlit_encode.to(CUDA)\n",
        "\n",
        "      # zero the parameter gradients                                     \n",
        "      commonlit_opt_adamw.zero_grad()\n",
        "\n",
        "      # sets the modules in the network in training mode.\n",
        "      commonlit_arch.train()\n",
        "\n",
        "      # return from CommonLit Architecture Class\n",
        "      commonlit_return = commonlit_arch(commonlit_encode, commonlit_attn) \n",
        "\n",
        "      # Flattens input by reshaping it into a one-dimensional tensor.  \n",
        "      commonlit_flatten = commonlit_return.flatten()   \n",
        "\n",
        "      #measures the mean squared error between each element in the input and target.                                    \n",
        "      commonlit_score = TorchNeuralNetwork.MSELoss(reduction=MODEL_REDUCTION_TRAIN)(commonlit_flatten, commonlit_read_ease)   \n",
        "\n",
        "      # computes the gradient of current tensor       \n",
        "      commonlit_score.backward()\n",
        "\n",
        "      #parameter update\n",
        "      commonlit_opt_adamw.step()\n",
        "\n",
        "      #update learning rate\n",
        "      commonlit_sch.step()\n",
        "\n",
        "      # following code implements Frequent Evaluation(4th fine tuning strategy)      \n",
        "      if batch_checker >= previous_period + batch_interval:\n",
        "\n",
        "        batch_forward = batch_checker - previous_period\n",
        "\n",
        "        #getting validation score\n",
        "        val_mse_score = commonlit_val(commonlit_arch, cl_eval_iterable)\n",
        "        commonlit_eval = SquareRoot(val_mse_score)                                  \n",
        "\n",
        "        # checking for values in MODEL_STEP\n",
        "        for model_step_score, model_step_range in MODEL_STEP:\n",
        "          if commonlit_eval >= model_step_score:\n",
        "            batch_interval = model_step_range\n",
        "            break  \n",
        "\n",
        "        print(\"\\nCurrent_Period:{0}\".format(batch_forward))\n",
        "        print(\"Epoch:{0}   Batch_Passed:{1}   Score:{2:0.3f}\".format(commonlit_epoch,commonlit_bn,commonlit_eval))\n",
        "        previous_period = batch_checker    \n",
        "\n",
        "        # if current validation score is less than best validation score. We save the model\n",
        "        if commonlit_eval >= top_eval_score:\n",
        "          print(\"Current_Best_Score:{0:0.3f} from Epoch:{1}\".format(top_eval_score,top_epoch))          \n",
        "        else:       \n",
        "          top_epoch = commonlit_epoch \n",
        "          top_eval_score = commonlit_eval\n",
        "          print(\"New_Best_Score:{0:0.3f}\".format(top_eval_score,))                        \n",
        "          torch.save(commonlit_arch.state_dict(), arch_dir)\n",
        "\n",
        "      batch_checker += 1\n",
        "    commonlit_epoch = commonlit_epoch + 1    \n",
        "\n",
        "  return top_eval_score"
      ]
    },
    {
      "cell_type": "code",
      "execution_count": 47,
      "metadata": {
        "id": "jSnEyj7flPRO",
        "colab": {
          "base_uri": "https://localhost:8080/"
        },
        "outputId": "a81b910c-c49e-4247-fa48-f7fb0b31a1c8"
      },
      "outputs": [
        {
          "output_type": "stream",
          "name": "stdout",
          "text": [
            "\n",
            "KFold 1\n"
          ]
        },
        {
          "output_type": "stream",
          "name": "stderr",
          "text": [
            "Some weights of RobertaModel were not initialized from the model checkpoint at pre-roberta-base and are newly initialized: ['roberta.pooler.dense.weight', 'roberta.pooler.dense.bias']\n",
            "You should probably TRAIN this model on a down-stream task to be able to use it for predictions and inference.\n"
          ]
        },
        {
          "output_type": "stream",
          "name": "stdout",
          "text": [
            "\n",
            "Current_Period:16\n",
            "Epoch:0   Batch_Passed:16   Score:1.054\n",
            "Current_Best_Score:1.000 from Epoch:0\n",
            "\n",
            "Current_Period:16\n",
            "Epoch:0   Batch_Passed:32   Score:0.792\n",
            "New_Best_Score:0.792\n",
            "\n",
            "Current_Period:16\n",
            "Epoch:0   Batch_Passed:48   Score:0.655\n",
            "New_Best_Score:0.655\n",
            "\n",
            "Current_Period:16\n",
            "Epoch:0   Batch_Passed:64   Score:0.613\n",
            "New_Best_Score:0.613\n",
            "\n",
            "Current_Period:16\n",
            "Epoch:0   Batch_Passed:80   Score:0.576\n",
            "New_Best_Score:0.576\n",
            "\n",
            "Current_Period:16\n",
            "Epoch:0   Batch_Passed:96   Score:0.619\n",
            "Current_Best_Score:0.576 from Epoch:0\n",
            "\n",
            "Current_Period:16\n",
            "Epoch:0   Batch_Passed:112   Score:0.526\n",
            "New_Best_Score:0.526\n",
            "\n",
            "Current_Period:16\n",
            "Epoch:0   Batch_Passed:128   Score:0.539\n",
            "Current_Best_Score:0.526 from Epoch:0\n",
            "\n",
            "Current_Period:16\n",
            "Epoch:1   Batch_Passed:3   Score:0.582\n",
            "Current_Best_Score:0.526 from Epoch:0\n",
            "\n",
            "Current_Period:16\n",
            "Epoch:1   Batch_Passed:19   Score:0.551\n",
            "Current_Best_Score:0.526 from Epoch:0\n",
            "\n",
            "Current_Period:16\n",
            "Epoch:1   Batch_Passed:35   Score:0.497\n",
            "New_Best_Score:0.497\n",
            "\n",
            "Current_Period:8\n",
            "Epoch:1   Batch_Passed:43   Score:0.493\n",
            "New_Best_Score:0.493\n",
            "\n",
            "Current_Period:8\n",
            "Epoch:1   Batch_Passed:51   Score:0.489\n",
            "New_Best_Score:0.489\n",
            "\n",
            "Current_Period:4\n",
            "Epoch:1   Batch_Passed:55   Score:0.493\n",
            "Current_Best_Score:0.489 from Epoch:1\n",
            "\n",
            "Current_Period:8\n",
            "Epoch:1   Batch_Passed:63   Score:0.546\n",
            "Current_Best_Score:0.489 from Epoch:1\n",
            "\n",
            "Current_Period:16\n",
            "Epoch:1   Batch_Passed:79   Score:0.487\n",
            "New_Best_Score:0.487\n",
            "\n",
            "Current_Period:4\n",
            "Epoch:1   Batch_Passed:83   Score:0.487\n",
            "New_Best_Score:0.487\n",
            "\n",
            "Current_Period:4\n",
            "Epoch:1   Batch_Passed:87   Score:0.488\n",
            "Current_Best_Score:0.487 from Epoch:1\n",
            "\n",
            "Current_Period:4\n",
            "Epoch:1   Batch_Passed:91   Score:0.486\n",
            "New_Best_Score:0.486\n",
            "\n",
            "Current_Period:4\n",
            "Epoch:1   Batch_Passed:95   Score:0.483\n",
            "New_Best_Score:0.483\n",
            "\n",
            "Current_Period:4\n",
            "Epoch:1   Batch_Passed:99   Score:0.483\n",
            "Current_Best_Score:0.483 from Epoch:1\n",
            "\n",
            "Current_Period:4\n",
            "Epoch:1   Batch_Passed:103   Score:0.485\n",
            "Current_Best_Score:0.483 from Epoch:1\n",
            "\n",
            "Current_Period:4\n",
            "Epoch:1   Batch_Passed:107   Score:0.491\n",
            "Current_Best_Score:0.483 from Epoch:1\n",
            "\n",
            "Current_Period:8\n",
            "Epoch:1   Batch_Passed:115   Score:0.488\n",
            "Current_Best_Score:0.483 from Epoch:1\n",
            "\n",
            "Current_Period:4\n",
            "Epoch:1   Batch_Passed:119   Score:0.487\n",
            "Current_Best_Score:0.483 from Epoch:1\n",
            "\n",
            "Current_Period:4\n",
            "Epoch:1   Batch_Passed:123   Score:0.486\n",
            "Current_Best_Score:0.483 from Epoch:1\n",
            "\n",
            "Current_Period:4\n",
            "Epoch:1   Batch_Passed:127   Score:0.486\n",
            "Current_Best_Score:0.483 from Epoch:1\n",
            "\n",
            "Current_Period:4\n",
            "Epoch:1   Batch_Passed:131   Score:0.486\n",
            "Current_Best_Score:0.483 from Epoch:1\n",
            "\n",
            "Current_Period:4\n",
            "Epoch:1   Batch_Passed:135   Score:0.486\n",
            "Current_Best_Score:0.483 from Epoch:1\n",
            "\n",
            "Current_Period:4\n",
            "Epoch:1   Batch_Passed:139   Score:0.486\n",
            "Current_Best_Score:0.483 from Epoch:1\n",
            "\n",
            "Current_Period:4\n",
            "Epoch:2   Batch_Passed:2   Score:0.486\n",
            "Current_Best_Score:0.483 from Epoch:1\n",
            "\n",
            "Current_Period:4\n",
            "Epoch:2   Batch_Passed:6   Score:0.486\n",
            "Current_Best_Score:0.483 from Epoch:1\n",
            "\n",
            "Current_Period:4\n",
            "Epoch:2   Batch_Passed:10   Score:0.487\n",
            "Current_Best_Score:0.483 from Epoch:1\n",
            "\n",
            "Current_Period:4\n",
            "Epoch:2   Batch_Passed:14   Score:0.487\n",
            "Current_Best_Score:0.483 from Epoch:1\n",
            "\n",
            "Current_Period:4\n",
            "Epoch:2   Batch_Passed:18   Score:0.488\n",
            "Current_Best_Score:0.483 from Epoch:1\n",
            "\n",
            "Current_Period:4\n",
            "Epoch:2   Batch_Passed:22   Score:0.489\n",
            "Current_Best_Score:0.483 from Epoch:1\n",
            "\n",
            "Current_Period:4\n",
            "Epoch:2   Batch_Passed:26   Score:0.490\n",
            "Current_Best_Score:0.483 from Epoch:1\n",
            "\n",
            "Current_Period:4\n",
            "Epoch:2   Batch_Passed:30   Score:0.491\n",
            "Current_Best_Score:0.483 from Epoch:1\n",
            "\n",
            "Current_Period:8\n",
            "Epoch:2   Batch_Passed:38   Score:0.487\n",
            "Current_Best_Score:0.483 from Epoch:1\n",
            "\n",
            "Current_Period:4\n",
            "Epoch:2   Batch_Passed:42   Score:0.489\n",
            "Current_Best_Score:0.483 from Epoch:1\n",
            "\n",
            "Current_Period:4\n",
            "Epoch:2   Batch_Passed:46   Score:0.486\n",
            "Current_Best_Score:0.483 from Epoch:1\n",
            "\n",
            "Current_Period:4\n",
            "Epoch:2   Batch_Passed:50   Score:0.488\n",
            "Current_Best_Score:0.483 from Epoch:1\n",
            "\n",
            "Current_Period:4\n",
            "Epoch:2   Batch_Passed:54   Score:0.499\n",
            "Current_Best_Score:0.483 from Epoch:1\n",
            "\n",
            "Current_Period:8\n",
            "Epoch:2   Batch_Passed:62   Score:0.500\n",
            "Current_Best_Score:0.483 from Epoch:1\n",
            "\n",
            "Current_Period:16\n",
            "Epoch:2   Batch_Passed:78   Score:0.485\n",
            "Current_Best_Score:0.483 from Epoch:1\n",
            "\n",
            "Current_Period:4\n",
            "Epoch:2   Batch_Passed:82   Score:0.518\n",
            "Current_Best_Score:0.483 from Epoch:1\n",
            "\n",
            "Current_Period:16\n",
            "Epoch:2   Batch_Passed:98   Score:0.493\n",
            "Current_Best_Score:0.483 from Epoch:1\n",
            "\n",
            "Current_Period:8\n",
            "Epoch:2   Batch_Passed:106   Score:0.505\n",
            "Current_Best_Score:0.483 from Epoch:1\n",
            "\n",
            "Current_Period:16\n",
            "Epoch:2   Batch_Passed:122   Score:0.498\n",
            "Current_Best_Score:0.483 from Epoch:1\n",
            "\n",
            "Current_Period:8\n",
            "Epoch:2   Batch_Passed:130   Score:0.518\n",
            "Current_Best_Score:0.483 from Epoch:1\n",
            "\n",
            "Score:0.4831359114530601\n",
            "\n",
            "KFold 2\n"
          ]
        },
        {
          "output_type": "stream",
          "name": "stderr",
          "text": [
            "Some weights of RobertaModel were not initialized from the model checkpoint at pre-roberta-base and are newly initialized: ['roberta.pooler.dense.weight', 'roberta.pooler.dense.bias']\n",
            "You should probably TRAIN this model on a down-stream task to be able to use it for predictions and inference.\n"
          ]
        },
        {
          "output_type": "stream",
          "name": "stdout",
          "text": [
            "\n",
            "Current_Period:16\n",
            "Epoch:0   Batch_Passed:16   Score:1.045\n",
            "Current_Best_Score:1.000 from Epoch:0\n",
            "\n",
            "Current_Period:16\n",
            "Epoch:0   Batch_Passed:32   Score:0.778\n",
            "New_Best_Score:0.778\n",
            "\n",
            "Current_Period:16\n",
            "Epoch:0   Batch_Passed:48   Score:0.652\n",
            "New_Best_Score:0.652\n",
            "\n",
            "Current_Period:16\n",
            "Epoch:0   Batch_Passed:64   Score:0.613\n",
            "New_Best_Score:0.613\n",
            "\n",
            "Current_Period:16\n",
            "Epoch:0   Batch_Passed:80   Score:0.630\n",
            "Current_Best_Score:0.613 from Epoch:0\n",
            "\n",
            "Current_Period:16\n",
            "Epoch:0   Batch_Passed:96   Score:0.545\n",
            "New_Best_Score:0.545\n",
            "\n",
            "Current_Period:16\n",
            "Epoch:0   Batch_Passed:112   Score:0.672\n",
            "Current_Best_Score:0.545 from Epoch:0\n",
            "\n",
            "Current_Period:16\n",
            "Epoch:0   Batch_Passed:128   Score:0.534\n",
            "New_Best_Score:0.534\n",
            "\n",
            "Current_Period:16\n",
            "Epoch:1   Batch_Passed:3   Score:0.503\n",
            "New_Best_Score:0.503\n",
            "\n",
            "Current_Period:16\n",
            "Epoch:1   Batch_Passed:19   Score:0.561\n",
            "Current_Best_Score:0.503 from Epoch:1\n",
            "\n",
            "Current_Period:16\n",
            "Epoch:1   Batch_Passed:35   Score:0.516\n",
            "Current_Best_Score:0.503 from Epoch:1\n",
            "\n",
            "Current_Period:16\n",
            "Epoch:1   Batch_Passed:51   Score:0.481\n",
            "New_Best_Score:0.481\n",
            "\n",
            "Current_Period:4\n",
            "Epoch:1   Batch_Passed:55   Score:0.486\n",
            "Current_Best_Score:0.481 from Epoch:1\n",
            "\n",
            "Current_Period:4\n",
            "Epoch:1   Batch_Passed:59   Score:0.495\n",
            "Current_Best_Score:0.481 from Epoch:1\n",
            "\n",
            "Current_Period:8\n",
            "Epoch:1   Batch_Passed:67   Score:0.484\n",
            "Current_Best_Score:0.481 from Epoch:1\n",
            "\n",
            "Current_Period:4\n",
            "Epoch:1   Batch_Passed:71   Score:0.494\n",
            "Current_Best_Score:0.481 from Epoch:1\n",
            "\n",
            "Current_Period:8\n",
            "Epoch:1   Batch_Passed:79   Score:0.484\n",
            "Current_Best_Score:0.481 from Epoch:1\n",
            "\n",
            "Current_Period:4\n",
            "Epoch:1   Batch_Passed:83   Score:0.478\n",
            "New_Best_Score:0.478\n",
            "\n",
            "Current_Period:2\n",
            "Epoch:1   Batch_Passed:85   Score:0.478\n",
            "New_Best_Score:0.478\n",
            "\n",
            "Current_Period:2\n",
            "Epoch:1   Batch_Passed:87   Score:0.480\n",
            "Current_Best_Score:0.478 from Epoch:1\n",
            "\n",
            "Current_Period:2\n",
            "Epoch:1   Batch_Passed:89   Score:0.485\n",
            "Current_Best_Score:0.478 from Epoch:1\n",
            "\n",
            "Current_Period:4\n",
            "Epoch:1   Batch_Passed:93   Score:0.494\n",
            "Current_Best_Score:0.478 from Epoch:1\n",
            "\n",
            "Current_Period:8\n",
            "Epoch:1   Batch_Passed:101   Score:0.477\n",
            "New_Best_Score:0.477\n",
            "\n",
            "Current_Period:2\n",
            "Epoch:1   Batch_Passed:103   Score:0.475\n",
            "New_Best_Score:0.475\n",
            "\n",
            "Current_Period:2\n",
            "Epoch:1   Batch_Passed:105   Score:0.474\n",
            "New_Best_Score:0.474\n",
            "\n",
            "Current_Period:2\n",
            "Epoch:1   Batch_Passed:107   Score:0.474\n",
            "New_Best_Score:0.474\n",
            "\n",
            "Current_Period:2\n",
            "Epoch:1   Batch_Passed:109   Score:0.474\n",
            "Current_Best_Score:0.474 from Epoch:1\n",
            "\n",
            "Current_Period:2\n",
            "Epoch:1   Batch_Passed:111   Score:0.474\n",
            "New_Best_Score:0.474\n",
            "\n",
            "Current_Period:2\n",
            "Epoch:1   Batch_Passed:113   Score:0.473\n",
            "New_Best_Score:0.473\n",
            "\n",
            "Current_Period:2\n",
            "Epoch:1   Batch_Passed:115   Score:0.473\n",
            "New_Best_Score:0.473\n",
            "\n",
            "Current_Period:2\n",
            "Epoch:1   Batch_Passed:117   Score:0.473\n",
            "New_Best_Score:0.473\n",
            "\n",
            "Current_Period:2\n",
            "Epoch:1   Batch_Passed:119   Score:0.473\n",
            "New_Best_Score:0.473\n",
            "\n",
            "Current_Period:2\n",
            "Epoch:1   Batch_Passed:121   Score:0.473\n",
            "Current_Best_Score:0.473 from Epoch:1\n",
            "\n",
            "Current_Period:2\n",
            "Epoch:1   Batch_Passed:123   Score:0.473\n",
            "Current_Best_Score:0.473 from Epoch:1\n",
            "\n",
            "Current_Period:2\n",
            "Epoch:1   Batch_Passed:125   Score:0.473\n",
            "Current_Best_Score:0.473 from Epoch:1\n",
            "\n",
            "Current_Period:2\n",
            "Epoch:1   Batch_Passed:127   Score:0.473\n",
            "Current_Best_Score:0.473 from Epoch:1\n",
            "\n",
            "Current_Period:2\n",
            "Epoch:1   Batch_Passed:129   Score:0.474\n",
            "Current_Best_Score:0.473 from Epoch:1\n",
            "\n",
            "Current_Period:2\n",
            "Epoch:1   Batch_Passed:131   Score:0.474\n",
            "Current_Best_Score:0.473 from Epoch:1\n",
            "\n",
            "Current_Period:2\n",
            "Epoch:1   Batch_Passed:133   Score:0.474\n",
            "Current_Best_Score:0.473 from Epoch:1\n",
            "\n",
            "Current_Period:2\n",
            "Epoch:1   Batch_Passed:135   Score:0.474\n",
            "Current_Best_Score:0.473 from Epoch:1\n",
            "\n",
            "Current_Period:2\n",
            "Epoch:1   Batch_Passed:137   Score:0.474\n",
            "Current_Best_Score:0.473 from Epoch:1\n",
            "\n",
            "Current_Period:2\n",
            "Epoch:1   Batch_Passed:139   Score:0.474\n",
            "Current_Best_Score:0.473 from Epoch:1\n",
            "\n",
            "Current_Period:2\n",
            "Epoch:2   Batch_Passed:0   Score:0.474\n",
            "Current_Best_Score:0.473 from Epoch:1\n",
            "\n",
            "Current_Period:2\n",
            "Epoch:2   Batch_Passed:2   Score:0.474\n",
            "Current_Best_Score:0.473 from Epoch:1\n",
            "\n",
            "Current_Period:2\n",
            "Epoch:2   Batch_Passed:4   Score:0.474\n",
            "Current_Best_Score:0.473 from Epoch:1\n",
            "\n",
            "Current_Period:2\n",
            "Epoch:2   Batch_Passed:6   Score:0.474\n",
            "Current_Best_Score:0.473 from Epoch:1\n",
            "\n",
            "Current_Period:2\n",
            "Epoch:2   Batch_Passed:8   Score:0.474\n",
            "Current_Best_Score:0.473 from Epoch:1\n",
            "\n",
            "Current_Period:2\n",
            "Epoch:2   Batch_Passed:10   Score:0.474\n",
            "Current_Best_Score:0.473 from Epoch:1\n",
            "\n",
            "Current_Period:2\n",
            "Epoch:2   Batch_Passed:12   Score:0.474\n",
            "Current_Best_Score:0.473 from Epoch:1\n",
            "\n",
            "Current_Period:2\n",
            "Epoch:2   Batch_Passed:14   Score:0.474\n",
            "Current_Best_Score:0.473 from Epoch:1\n",
            "\n",
            "Current_Period:2\n",
            "Epoch:2   Batch_Passed:16   Score:0.474\n",
            "Current_Best_Score:0.473 from Epoch:1\n",
            "\n",
            "Current_Period:2\n",
            "Epoch:2   Batch_Passed:18   Score:0.474\n",
            "Current_Best_Score:0.473 from Epoch:1\n",
            "\n",
            "Current_Period:2\n",
            "Epoch:2   Batch_Passed:20   Score:0.474\n",
            "Current_Best_Score:0.473 from Epoch:1\n",
            "\n",
            "Current_Period:2\n",
            "Epoch:2   Batch_Passed:22   Score:0.474\n",
            "Current_Best_Score:0.473 from Epoch:1\n",
            "\n",
            "Current_Period:2\n",
            "Epoch:2   Batch_Passed:24   Score:0.475\n",
            "Current_Best_Score:0.473 from Epoch:1\n",
            "\n",
            "Current_Period:2\n",
            "Epoch:2   Batch_Passed:26   Score:0.476\n",
            "Current_Best_Score:0.473 from Epoch:1\n",
            "\n",
            "Current_Period:2\n",
            "Epoch:2   Batch_Passed:28   Score:0.475\n",
            "Current_Best_Score:0.473 from Epoch:1\n",
            "\n",
            "Current_Period:2\n",
            "Epoch:2   Batch_Passed:30   Score:0.474\n",
            "Current_Best_Score:0.473 from Epoch:1\n",
            "\n",
            "Current_Period:2\n",
            "Epoch:2   Batch_Passed:32   Score:0.473\n",
            "Current_Best_Score:0.473 from Epoch:1\n",
            "\n",
            "Current_Period:2\n",
            "Epoch:2   Batch_Passed:34   Score:0.472\n",
            "New_Best_Score:0.472\n",
            "\n",
            "Current_Period:2\n",
            "Epoch:2   Batch_Passed:36   Score:0.472\n",
            "New_Best_Score:0.472\n",
            "\n",
            "Current_Period:2\n",
            "Epoch:2   Batch_Passed:38   Score:0.472\n",
            "Current_Best_Score:0.472 from Epoch:2\n",
            "\n",
            "Current_Period:2\n",
            "Epoch:2   Batch_Passed:40   Score:0.474\n",
            "Current_Best_Score:0.472 from Epoch:2\n",
            "\n",
            "Current_Period:2\n",
            "Epoch:2   Batch_Passed:42   Score:0.475\n",
            "Current_Best_Score:0.472 from Epoch:2\n",
            "\n",
            "Current_Period:2\n",
            "Epoch:2   Batch_Passed:44   Score:0.478\n",
            "Current_Best_Score:0.472 from Epoch:2\n",
            "\n",
            "Current_Period:2\n",
            "Epoch:2   Batch_Passed:46   Score:0.481\n",
            "Current_Best_Score:0.472 from Epoch:2\n",
            "\n",
            "Current_Period:4\n",
            "Epoch:2   Batch_Passed:50   Score:0.483\n",
            "Current_Best_Score:0.472 from Epoch:2\n",
            "\n",
            "Current_Period:4\n",
            "Epoch:2   Batch_Passed:54   Score:0.476\n",
            "Current_Best_Score:0.472 from Epoch:2\n",
            "\n",
            "Current_Period:2\n",
            "Epoch:2   Batch_Passed:56   Score:0.472\n",
            "New_Best_Score:0.472\n",
            "\n",
            "Current_Period:2\n",
            "Epoch:2   Batch_Passed:58   Score:0.472\n",
            "Current_Best_Score:0.472 from Epoch:2\n",
            "\n",
            "Current_Period:2\n",
            "Epoch:2   Batch_Passed:60   Score:0.472\n",
            "Current_Best_Score:0.472 from Epoch:2\n",
            "\n",
            "Current_Period:2\n",
            "Epoch:2   Batch_Passed:62   Score:0.472\n",
            "Current_Best_Score:0.472 from Epoch:2\n",
            "\n",
            "Current_Period:2\n",
            "Epoch:2   Batch_Passed:64   Score:0.476\n",
            "Current_Best_Score:0.472 from Epoch:2\n",
            "\n",
            "Current_Period:2\n",
            "Epoch:2   Batch_Passed:66   Score:0.486\n",
            "Current_Best_Score:0.472 from Epoch:2\n",
            "\n",
            "Current_Period:4\n",
            "Epoch:2   Batch_Passed:70   Score:0.480\n",
            "Current_Best_Score:0.472 from Epoch:2\n",
            "\n",
            "Current_Period:2\n",
            "Epoch:2   Batch_Passed:72   Score:0.475\n",
            "Current_Best_Score:0.472 from Epoch:2\n",
            "\n",
            "Current_Period:2\n",
            "Epoch:2   Batch_Passed:74   Score:0.473\n",
            "Current_Best_Score:0.472 from Epoch:2\n",
            "\n",
            "Current_Period:2\n",
            "Epoch:2   Batch_Passed:76   Score:0.484\n",
            "Current_Best_Score:0.472 from Epoch:2\n",
            "\n",
            "Current_Period:4\n",
            "Epoch:2   Batch_Passed:80   Score:0.478\n",
            "Current_Best_Score:0.472 from Epoch:2\n",
            "\n",
            "Current_Period:2\n",
            "Epoch:2   Batch_Passed:82   Score:0.522\n",
            "Current_Best_Score:0.472 from Epoch:2\n",
            "\n",
            "Current_Period:16\n",
            "Epoch:2   Batch_Passed:98   Score:0.495\n",
            "Current_Best_Score:0.472 from Epoch:2\n",
            "\n",
            "Current_Period:8\n",
            "Epoch:2   Batch_Passed:106   Score:0.468\n",
            "New_Best_Score:0.468\n",
            "\n",
            "Current_Period:1\n",
            "Epoch:2   Batch_Passed:107   Score:0.470\n",
            "Current_Best_Score:0.468 from Epoch:2\n",
            "\n",
            "Current_Period:1\n",
            "Epoch:2   Batch_Passed:108   Score:0.483\n",
            "Current_Best_Score:0.468 from Epoch:2\n",
            "\n",
            "Current_Period:4\n",
            "Epoch:2   Batch_Passed:112   Score:0.495\n",
            "Current_Best_Score:0.468 from Epoch:2\n",
            "\n",
            "Current_Period:8\n",
            "Epoch:2   Batch_Passed:120   Score:0.510\n",
            "Current_Best_Score:0.468 from Epoch:2\n",
            "\n",
            "Current_Period:16\n",
            "Epoch:2   Batch_Passed:136   Score:0.482\n",
            "Current_Best_Score:0.468 from Epoch:2\n",
            "\n",
            "Current_Period:4\n",
            "Epoch:2   Batch_Passed:140   Score:0.519\n",
            "Current_Best_Score:0.468 from Epoch:2\n",
            "\n",
            "Score:0.4676937436205237\n",
            "\n",
            "KFold 3\n"
          ]
        },
        {
          "output_type": "stream",
          "name": "stderr",
          "text": [
            "Some weights of RobertaModel were not initialized from the model checkpoint at pre-roberta-base and are newly initialized: ['roberta.pooler.dense.weight', 'roberta.pooler.dense.bias']\n",
            "You should probably TRAIN this model on a down-stream task to be able to use it for predictions and inference.\n"
          ]
        },
        {
          "output_type": "stream",
          "name": "stdout",
          "text": [
            "\n",
            "Current_Period:16\n",
            "Epoch:0   Batch_Passed:16   Score:1.089\n",
            "Current_Best_Score:1.000 from Epoch:0\n",
            "\n",
            "Current_Period:16\n",
            "Epoch:0   Batch_Passed:32   Score:0.695\n",
            "New_Best_Score:0.695\n",
            "\n",
            "Current_Period:16\n",
            "Epoch:0   Batch_Passed:48   Score:0.587\n",
            "New_Best_Score:0.587\n",
            "\n",
            "Current_Period:16\n",
            "Epoch:0   Batch_Passed:64   Score:0.653\n",
            "Current_Best_Score:0.587 from Epoch:0\n",
            "\n",
            "Current_Period:16\n",
            "Epoch:0   Batch_Passed:96   Score:0.555\n",
            "New_Best_Score:0.555\n",
            "\n",
            "Current_Period:16\n",
            "Epoch:0   Batch_Passed:112   Score:0.559\n",
            "Current_Best_Score:0.555 from Epoch:0\n",
            "\n",
            "Current_Period:16\n",
            "Epoch:0   Batch_Passed:128   Score:0.549\n",
            "New_Best_Score:0.549\n",
            "\n",
            "Current_Period:16\n",
            "Epoch:1   Batch_Passed:3   Score:0.562\n",
            "Current_Best_Score:0.549 from Epoch:0\n",
            "\n",
            "Current_Period:16\n",
            "Epoch:1   Batch_Passed:19   Score:0.508\n",
            "New_Best_Score:0.508\n",
            "\n",
            "Current_Period:16\n",
            "Epoch:1   Batch_Passed:35   Score:0.492\n",
            "New_Best_Score:0.492\n",
            "\n",
            "Current_Period:8\n",
            "Epoch:1   Batch_Passed:43   Score:0.507\n",
            "Current_Best_Score:0.492 from Epoch:1\n",
            "\n",
            "Current_Period:16\n",
            "Epoch:1   Batch_Passed:59   Score:0.498\n",
            "Current_Best_Score:0.492 from Epoch:1\n",
            "\n",
            "Current_Period:8\n",
            "Epoch:1   Batch_Passed:67   Score:0.483\n",
            "New_Best_Score:0.483\n",
            "\n",
            "Current_Period:4\n",
            "Epoch:1   Batch_Passed:71   Score:0.481\n",
            "New_Best_Score:0.481\n",
            "\n",
            "Current_Period:4\n",
            "Epoch:1   Batch_Passed:75   Score:0.480\n",
            "New_Best_Score:0.480\n",
            "\n",
            "Current_Period:4\n",
            "Epoch:1   Batch_Passed:79   Score:0.481\n",
            "Current_Best_Score:0.480 from Epoch:1\n",
            "\n",
            "Current_Period:4\n",
            "Epoch:1   Batch_Passed:83   Score:0.483\n",
            "Current_Best_Score:0.480 from Epoch:1\n",
            "\n",
            "Current_Period:4\n",
            "Epoch:1   Batch_Passed:87   Score:0.482\n",
            "Current_Best_Score:0.480 from Epoch:1\n",
            "\n",
            "Current_Period:4\n",
            "Epoch:1   Batch_Passed:91   Score:0.482\n",
            "Current_Best_Score:0.480 from Epoch:1\n",
            "\n",
            "Current_Period:4\n",
            "Epoch:1   Batch_Passed:95   Score:0.490\n",
            "Current_Best_Score:0.480 from Epoch:1\n",
            "\n",
            "Current_Period:4\n",
            "Epoch:1   Batch_Passed:99   Score:0.506\n",
            "Current_Best_Score:0.480 from Epoch:1\n",
            "\n",
            "Current_Period:16\n",
            "Epoch:1   Batch_Passed:115   Score:0.483\n",
            "Current_Best_Score:0.480 from Epoch:1\n",
            "\n",
            "Current_Period:4\n",
            "Epoch:1   Batch_Passed:119   Score:0.483\n",
            "Current_Best_Score:0.480 from Epoch:1\n",
            "\n",
            "Current_Period:4\n",
            "Epoch:1   Batch_Passed:123   Score:0.483\n",
            "Current_Best_Score:0.480 from Epoch:1\n",
            "\n",
            "Current_Period:4\n",
            "Epoch:1   Batch_Passed:127   Score:0.483\n",
            "Current_Best_Score:0.480 from Epoch:1\n",
            "\n",
            "Current_Period:4\n",
            "Epoch:1   Batch_Passed:131   Score:0.482\n",
            "Current_Best_Score:0.480 from Epoch:1\n",
            "\n",
            "Current_Period:4\n",
            "Epoch:1   Batch_Passed:135   Score:0.482\n",
            "Current_Best_Score:0.480 from Epoch:1\n",
            "\n",
            "Current_Period:4\n",
            "Epoch:1   Batch_Passed:139   Score:0.482\n",
            "Current_Best_Score:0.480 from Epoch:1\n",
            "\n",
            "Current_Period:4\n",
            "Epoch:2   Batch_Passed:2   Score:0.482\n",
            "Current_Best_Score:0.480 from Epoch:1\n",
            "\n",
            "Current_Period:4\n",
            "Epoch:2   Batch_Passed:6   Score:0.482\n",
            "Current_Best_Score:0.480 from Epoch:1\n",
            "\n",
            "Current_Period:4\n",
            "Epoch:2   Batch_Passed:10   Score:0.482\n",
            "Current_Best_Score:0.480 from Epoch:1\n",
            "\n",
            "Current_Period:4\n",
            "Epoch:2   Batch_Passed:14   Score:0.482\n",
            "Current_Best_Score:0.480 from Epoch:1\n",
            "\n",
            "Current_Period:4\n",
            "Epoch:2   Batch_Passed:18   Score:0.483\n",
            "Current_Best_Score:0.480 from Epoch:1\n",
            "\n",
            "Current_Period:4\n",
            "Epoch:2   Batch_Passed:22   Score:0.484\n",
            "Current_Best_Score:0.480 from Epoch:1\n",
            "\n",
            "Current_Period:4\n",
            "Epoch:2   Batch_Passed:26   Score:0.486\n",
            "Current_Best_Score:0.480 from Epoch:1\n",
            "\n",
            "Current_Period:4\n",
            "Epoch:2   Batch_Passed:30   Score:0.487\n",
            "Current_Best_Score:0.480 from Epoch:1\n",
            "\n",
            "Current_Period:4\n",
            "Epoch:2   Batch_Passed:34   Score:0.485\n",
            "Current_Best_Score:0.480 from Epoch:1\n",
            "\n",
            "Current_Period:4\n",
            "Epoch:2   Batch_Passed:38   Score:0.483\n",
            "Current_Best_Score:0.480 from Epoch:1\n",
            "\n",
            "Current_Period:4\n",
            "Epoch:2   Batch_Passed:42   Score:0.482\n",
            "Current_Best_Score:0.480 from Epoch:1\n",
            "\n",
            "Current_Period:4\n",
            "Epoch:2   Batch_Passed:46   Score:0.482\n",
            "Current_Best_Score:0.480 from Epoch:1\n",
            "\n",
            "Current_Period:4\n",
            "Epoch:2   Batch_Passed:50   Score:0.480\n",
            "New_Best_Score:0.480\n",
            "\n",
            "Current_Period:4\n",
            "Epoch:2   Batch_Passed:54   Score:0.487\n",
            "Current_Best_Score:0.480 from Epoch:2\n",
            "\n",
            "Current_Period:4\n",
            "Epoch:2   Batch_Passed:58   Score:0.494\n",
            "Current_Best_Score:0.480 from Epoch:2\n",
            "\n",
            "Current_Period:8\n",
            "Epoch:2   Batch_Passed:66   Score:0.480\n",
            "New_Best_Score:0.480\n",
            "\n",
            "Current_Period:2\n",
            "Epoch:2   Batch_Passed:72   Score:0.479\n",
            "Current_Best_Score:0.479 from Epoch:2\n",
            "\n",
            "Current_Period:2\n",
            "Epoch:2   Batch_Passed:74   Score:0.480\n",
            "Current_Best_Score:0.479 from Epoch:2\n",
            "\n",
            "Current_Period:4\n",
            "Epoch:2   Batch_Passed:78   Score:0.497\n",
            "Current_Best_Score:0.479 from Epoch:2\n",
            "\n",
            "Current_Period:8\n",
            "Epoch:2   Batch_Passed:86   Score:0.494\n",
            "Current_Best_Score:0.479 from Epoch:2\n",
            "\n",
            "Current_Period:8\n",
            "Epoch:2   Batch_Passed:94   Score:0.589\n",
            "Current_Best_Score:0.479 from Epoch:2\n",
            "\n",
            "Current_Period:16\n",
            "Epoch:2   Batch_Passed:110   Score:0.493\n",
            "Current_Best_Score:0.479 from Epoch:2\n",
            "\n",
            "Current_Period:8\n",
            "Epoch:2   Batch_Passed:118   Score:0.498\n",
            "Current_Best_Score:0.479 from Epoch:2\n",
            "\n",
            "Current_Period:8\n",
            "Epoch:2   Batch_Passed:126   Score:0.570\n",
            "Current_Best_Score:0.479 from Epoch:2\n",
            "\n",
            "Score:0.478860659763885\n",
            "\n",
            "KFold 4\n"
          ]
        },
        {
          "output_type": "stream",
          "name": "stderr",
          "text": [
            "Some weights of RobertaModel were not initialized from the model checkpoint at pre-roberta-base and are newly initialized: ['roberta.pooler.dense.weight', 'roberta.pooler.dense.bias']\n",
            "You should probably TRAIN this model on a down-stream task to be able to use it for predictions and inference.\n"
          ]
        },
        {
          "output_type": "stream",
          "name": "stdout",
          "text": [
            "\n",
            "Current_Period:16\n",
            "Epoch:0   Batch_Passed:16   Score:1.184\n",
            "Current_Best_Score:1.000 from Epoch:0\n",
            "\n",
            "Current_Period:16\n",
            "Epoch:0   Batch_Passed:32   Score:0.728\n",
            "New_Best_Score:0.728\n",
            "\n",
            "Current_Period:16\n",
            "Epoch:0   Batch_Passed:48   Score:0.648\n",
            "New_Best_Score:0.648\n",
            "\n",
            "Current_Period:16\n",
            "Epoch:0   Batch_Passed:64   Score:0.601\n",
            "New_Best_Score:0.601\n",
            "\n",
            "Current_Period:16\n",
            "Epoch:0   Batch_Passed:80   Score:0.568\n",
            "New_Best_Score:0.568\n",
            "\n",
            "Current_Period:16\n",
            "Epoch:0   Batch_Passed:96   Score:0.549\n",
            "New_Best_Score:0.549\n",
            "\n",
            "Current_Period:16\n",
            "Epoch:0   Batch_Passed:112   Score:0.553\n",
            "Current_Best_Score:0.549 from Epoch:0\n",
            "\n",
            "Current_Period:16\n",
            "Epoch:0   Batch_Passed:128   Score:0.542\n",
            "New_Best_Score:0.542\n",
            "\n",
            "Current_Period:16\n",
            "Epoch:1   Batch_Passed:3   Score:0.514\n",
            "New_Best_Score:0.514\n",
            "\n",
            "Current_Period:16\n",
            "Epoch:1   Batch_Passed:19   Score:0.525\n",
            "Current_Best_Score:0.514 from Epoch:1\n",
            "\n",
            "Current_Period:16\n",
            "Epoch:1   Batch_Passed:35   Score:0.508\n",
            "New_Best_Score:0.508\n",
            "\n",
            "Current_Period:16\n",
            "Epoch:1   Batch_Passed:51   Score:0.509\n",
            "Current_Best_Score:0.508 from Epoch:1\n",
            "\n",
            "Current_Period:16\n",
            "Epoch:1   Batch_Passed:67   Score:0.498\n",
            "New_Best_Score:0.498\n",
            "\n",
            "Current_Period:8\n",
            "Epoch:1   Batch_Passed:75   Score:0.509\n",
            "Current_Best_Score:0.498 from Epoch:1\n",
            "\n",
            "Current_Period:16\n",
            "Epoch:1   Batch_Passed:91   Score:0.501\n",
            "Current_Best_Score:0.498 from Epoch:1\n",
            "\n",
            "Current_Period:16\n",
            "Epoch:1   Batch_Passed:107   Score:0.497\n",
            "New_Best_Score:0.497\n",
            "\n",
            "Current_Period:8\n",
            "Epoch:1   Batch_Passed:115   Score:0.499\n",
            "Current_Best_Score:0.497 from Epoch:1\n",
            "\n",
            "Current_Period:8\n",
            "Epoch:1   Batch_Passed:123   Score:0.497\n",
            "Current_Best_Score:0.497 from Epoch:1\n",
            "\n",
            "Current_Period:8\n",
            "Epoch:1   Batch_Passed:131   Score:0.497\n",
            "New_Best_Score:0.497\n",
            "\n",
            "Current_Period:8\n",
            "Epoch:1   Batch_Passed:139   Score:0.497\n",
            "New_Best_Score:0.497\n",
            "\n",
            "Current_Period:8\n",
            "Epoch:2   Batch_Passed:6   Score:0.497\n",
            "New_Best_Score:0.497\n",
            "\n",
            "Current_Period:8\n",
            "Epoch:2   Batch_Passed:14   Score:0.495\n",
            "New_Best_Score:0.495\n",
            "\n",
            "Current_Period:8\n",
            "Epoch:2   Batch_Passed:22   Score:0.494\n",
            "New_Best_Score:0.494\n",
            "\n",
            "Current_Period:8\n",
            "Epoch:2   Batch_Passed:30   Score:0.493\n",
            "New_Best_Score:0.493\n",
            "\n",
            "Current_Period:8\n",
            "Epoch:2   Batch_Passed:38   Score:0.490\n",
            "New_Best_Score:0.490\n",
            "\n",
            "Current_Period:8\n",
            "Epoch:2   Batch_Passed:46   Score:0.503\n",
            "Current_Best_Score:0.490 from Epoch:2\n",
            "\n",
            "Current_Period:16\n",
            "Epoch:2   Batch_Passed:62   Score:0.489\n",
            "New_Best_Score:0.489\n",
            "\n",
            "Current_Period:4\n",
            "Epoch:2   Batch_Passed:66   Score:0.489\n",
            "Current_Best_Score:0.489 from Epoch:2\n",
            "\n",
            "Current_Period:4\n",
            "Epoch:2   Batch_Passed:70   Score:0.509\n",
            "Current_Best_Score:0.489 from Epoch:2\n",
            "\n",
            "Current_Period:16\n",
            "Epoch:2   Batch_Passed:86   Score:0.489\n",
            "New_Best_Score:0.489\n",
            "\n",
            "Current_Period:4\n",
            "Epoch:2   Batch_Passed:90   Score:0.492\n",
            "Current_Best_Score:0.489 from Epoch:2\n",
            "\n",
            "Current_Period:8\n",
            "Epoch:2   Batch_Passed:98   Score:0.533\n",
            "Current_Best_Score:0.489 from Epoch:2\n",
            "\n",
            "Current_Period:16\n",
            "Epoch:2   Batch_Passed:114   Score:0.526\n",
            "Current_Best_Score:0.489 from Epoch:2\n",
            "\n",
            "Current_Period:16\n",
            "Epoch:2   Batch_Passed:130   Score:0.509\n",
            "Current_Best_Score:0.489 from Epoch:2\n",
            "\n",
            "Score:0.4888622728005638\n",
            "\n",
            "KFold 5\n"
          ]
        },
        {
          "output_type": "stream",
          "name": "stderr",
          "text": [
            "Some weights of RobertaModel were not initialized from the model checkpoint at pre-roberta-base and are newly initialized: ['roberta.pooler.dense.weight', 'roberta.pooler.dense.bias']\n",
            "You should probably TRAIN this model on a down-stream task to be able to use it for predictions and inference.\n"
          ]
        },
        {
          "output_type": "stream",
          "name": "stdout",
          "text": [
            "\n",
            "Current_Period:16\n",
            "Epoch:0   Batch_Passed:16   Score:1.009\n",
            "Current_Best_Score:1.000 from Epoch:0\n",
            "\n",
            "Current_Period:16\n",
            "Epoch:0   Batch_Passed:32   Score:0.745\n",
            "New_Best_Score:0.745\n",
            "\n",
            "Current_Period:16\n",
            "Epoch:0   Batch_Passed:48   Score:0.650\n",
            "New_Best_Score:0.650\n",
            "\n",
            "Current_Period:16\n",
            "Epoch:0   Batch_Passed:64   Score:0.599\n",
            "New_Best_Score:0.599\n",
            "\n",
            "Current_Period:16\n",
            "Epoch:0   Batch_Passed:80   Score:0.656\n",
            "Current_Best_Score:0.599 from Epoch:0\n",
            "\n",
            "Current_Period:16\n",
            "Epoch:0   Batch_Passed:96   Score:0.538\n",
            "New_Best_Score:0.538\n",
            "\n",
            "Current_Period:16\n",
            "Epoch:0   Batch_Passed:112   Score:0.555\n",
            "Current_Best_Score:0.538 from Epoch:0\n",
            "\n",
            "Current_Period:16\n",
            "Epoch:0   Batch_Passed:128   Score:0.532\n",
            "New_Best_Score:0.532\n",
            "\n",
            "Current_Period:16\n",
            "Epoch:1   Batch_Passed:3   Score:0.554\n",
            "Current_Best_Score:0.532 from Epoch:0\n",
            "\n",
            "Current_Period:16\n",
            "Epoch:1   Batch_Passed:19   Score:0.518\n",
            "New_Best_Score:0.518\n",
            "\n",
            "Current_Period:16\n",
            "Epoch:1   Batch_Passed:35   Score:0.538\n",
            "Current_Best_Score:0.518 from Epoch:1\n",
            "\n",
            "Current_Period:16\n",
            "Epoch:1   Batch_Passed:51   Score:0.508\n",
            "New_Best_Score:0.508\n",
            "\n",
            "Current_Period:16\n",
            "Epoch:1   Batch_Passed:67   Score:0.499\n",
            "New_Best_Score:0.499\n",
            "\n",
            "Current_Period:8\n",
            "Epoch:1   Batch_Passed:75   Score:0.486\n",
            "New_Best_Score:0.486\n",
            "\n",
            "Current_Period:4\n",
            "Epoch:1   Batch_Passed:79   Score:0.487\n",
            "Current_Best_Score:0.486 from Epoch:1\n",
            "\n",
            "Current_Period:4\n",
            "Epoch:1   Batch_Passed:83   Score:0.493\n",
            "Current_Best_Score:0.486 from Epoch:1\n",
            "\n",
            "Current_Period:8\n",
            "Epoch:1   Batch_Passed:91   Score:0.497\n",
            "Current_Best_Score:0.486 from Epoch:1\n",
            "\n",
            "Current_Period:8\n",
            "Epoch:1   Batch_Passed:99   Score:0.496\n",
            "Current_Best_Score:0.486 from Epoch:1\n",
            "\n",
            "Current_Period:8\n",
            "Epoch:1   Batch_Passed:107   Score:0.501\n",
            "Current_Best_Score:0.486 from Epoch:1\n",
            "\n",
            "Current_Period:16\n",
            "Epoch:1   Batch_Passed:123   Score:0.488\n",
            "Current_Best_Score:0.486 from Epoch:1\n",
            "\n",
            "Current_Period:4\n",
            "Epoch:1   Batch_Passed:127   Score:0.488\n",
            "Current_Best_Score:0.486 from Epoch:1\n",
            "\n",
            "Current_Period:4\n",
            "Epoch:1   Batch_Passed:131   Score:0.488\n",
            "Current_Best_Score:0.486 from Epoch:1\n",
            "\n",
            "Current_Period:4\n",
            "Epoch:1   Batch_Passed:135   Score:0.488\n",
            "Current_Best_Score:0.486 from Epoch:1\n",
            "\n",
            "Current_Period:4\n",
            "Epoch:1   Batch_Passed:139   Score:0.488\n",
            "Current_Best_Score:0.486 from Epoch:1\n",
            "\n",
            "Current_Period:4\n",
            "Epoch:2   Batch_Passed:2   Score:0.488\n",
            "Current_Best_Score:0.486 from Epoch:1\n",
            "\n",
            "Current_Period:4\n",
            "Epoch:2   Batch_Passed:6   Score:0.488\n",
            "Current_Best_Score:0.486 from Epoch:1\n",
            "\n",
            "Current_Period:4\n",
            "Epoch:2   Batch_Passed:10   Score:0.488\n",
            "Current_Best_Score:0.486 from Epoch:1\n",
            "\n",
            "Current_Period:4\n",
            "Epoch:2   Batch_Passed:14   Score:0.489\n",
            "Current_Best_Score:0.486 from Epoch:1\n",
            "\n",
            "Current_Period:4\n",
            "Epoch:2   Batch_Passed:18   Score:0.489\n",
            "Current_Best_Score:0.486 from Epoch:1\n",
            "\n",
            "Current_Period:4\n",
            "Epoch:2   Batch_Passed:22   Score:0.491\n",
            "Current_Best_Score:0.486 from Epoch:1\n",
            "\n",
            "Current_Period:8\n",
            "Epoch:2   Batch_Passed:30   Score:0.502\n",
            "Current_Best_Score:0.486 from Epoch:1\n",
            "\n",
            "Current_Period:16\n",
            "Epoch:2   Batch_Passed:46   Score:0.483\n",
            "New_Best_Score:0.483\n",
            "\n",
            "Current_Period:4\n",
            "Epoch:2   Batch_Passed:50   Score:0.491\n",
            "Current_Best_Score:0.483 from Epoch:2\n",
            "\n",
            "Current_Period:8\n",
            "Epoch:2   Batch_Passed:58   Score:0.504\n",
            "Current_Best_Score:0.483 from Epoch:2\n",
            "\n",
            "Current_Period:16\n",
            "Epoch:2   Batch_Passed:74   Score:0.531\n",
            "Current_Best_Score:0.483 from Epoch:2\n",
            "\n",
            "Current_Period:16\n",
            "Epoch:2   Batch_Passed:90   Score:0.502\n",
            "Current_Best_Score:0.483 from Epoch:2\n",
            "\n",
            "Current_Period:16\n",
            "Epoch:2   Batch_Passed:106   Score:0.493\n",
            "Current_Best_Score:0.483 from Epoch:2\n",
            "\n",
            "Current_Period:8\n",
            "Epoch:2   Batch_Passed:114   Score:0.518\n",
            "Current_Best_Score:0.483 from Epoch:2\n",
            "\n",
            "Current_Period:16\n",
            "Epoch:2   Batch_Passed:130   Score:0.554\n",
            "Current_Best_Score:0.483 from Epoch:2\n",
            "\n",
            "Score:0.48331132019301615\n"
          ]
        }
      ],
      "source": [
        "# Python garbage collector\n",
        "gc.collect()\n",
        "\n",
        "MODEL_RANDOM = MODEL_SEED_VALUE\n",
        "model_eval_score = []\n",
        "\n",
        "# Provides train/test indices to split data in train/test sets. Split dataset into k consecutive folds\n",
        "model_kf = KFold(n_splits=MODEL_KFOLDS, random_state=MODEL_RANDOM, shuffle=True)\n",
        "\n",
        "#going through each of fold\n",
        "for model_kf_value, (model_tr_rows, model_eval_rows) in enumerate(model_kf.split(commonlit_data)): \n",
        "\n",
        "    model_kf_value_one = model_kf_value + 1  \n",
        "    model_ran_value = MODEL_RANDOM + model_kf_value \n",
        "    arch_dir = f\"model_{model_kf_value_one}.pth\"\n",
        "    model_rset(model_ran_value)\n",
        "\n",
        "    print(\"\\nKFold {0}\".format(model_kf_value_one))\n",
        "\n",
        "    cl_train = commonlit_data.loc[model_tr_rows]\n",
        "\n",
        "    #creating datasets\n",
        "    cl_tr_item = CommonLit_Item(cl_train)\n",
        "\n",
        "    cl_eval = commonlit_data.loc[model_eval_rows] \n",
        "\n",
        "    #creating datasets   \n",
        "    cl_eval_item = CommonLit_Item(cl_eval)    \n",
        "\n",
        "    #creating iterable datasets    \n",
        "    cl_tr_iterable = DataLoader(cl_tr_item, batch_size=MODEL_BATCH,drop_last=True, shuffle=True, num_workers=MODEL_CPU_WORKERS)    \n",
        "    cl_eval_iterable = DataLoader(cl_eval_item, batch_size=MODEL_BATCH,drop_last=False, shuffle=False, num_workers=MODEL_CPU_WORKERS)    \n",
        "        \n",
        "    #setting random values\n",
        "    model_rset(model_ran_value)    \n",
        "    \n",
        "    #initializing commonlit architecture and move to CUDA device\n",
        "    commonlit_arch = CommonLit_Architecture().to(CUDA)\n",
        "\n",
        "    #AdamW optimizer\n",
        "    commonlit_opt_adamw = commonlit_opt(commonlit_arch)   \n",
        "\n",
        "    no_tr_steps = MODEL_EPOCHS * len(cl_tr_iterable) \n",
        "\n",
        "    #Create a schedule with a learning rate that decreases following the values of the cosine function \n",
        "    #between the initial lr set in the optimizer to 0, \n",
        "    #after a warmup period during which it increases linearly between 0 and the initial lr set in the optimizer.                    \n",
        "    commonlit_sch = get_cosine_schedule_with_warmup(commonlit_opt_adamw,num_training_steps=no_tr_steps,num_warmup_steps=MODEL_WARMUP)    \n",
        "    \n",
        "    #return score from main commonlit architecture function\n",
        "    fine_tune_score =commonlit_architecture_main(commonlit_arch, arch_dir, cl_tr_iterable,cl_eval_iterable, commonlit_opt_adamw,commonlit_sch) \n",
        "    model_eval_score.append(fine_tune_score)\n",
        "\n",
        "    del commonlit_arch\n",
        "    gc.collect()\n",
        "    \n",
        "    print(\"\\nScore:{0}\".format(fine_tune_score))   "
      ]
    },
    {
      "cell_type": "code",
      "source": [
        "model_score_avg = np.array(model_eval_score).mean()\n",
        "print(\"Score Average:{0:0.3f}\".format(model_score_avg))"
      ],
      "metadata": {
        "id": "pYyoYZkJUjVv",
        "colab": {
          "base_uri": "https://localhost:8080/"
        },
        "outputId": "f39e978b-8ab7-4687-80bc-d096132e7b25"
      },
      "execution_count": 49,
      "outputs": [
        {
          "output_type": "stream",
          "name": "stdout",
          "text": [
            "Score Average:0.480\n"
          ]
        }
      ]
    },
    {
      "cell_type": "markdown",
      "source": [
        "## **4.8 Model Prediction**"
      ],
      "metadata": {
        "id": "ESj900QDmGRj"
      }
    },
    {
      "cell_type": "code",
      "source": [
        "'''\n",
        "commonlist test function\n",
        "'''"
      ],
      "metadata": {
        "colab": {
          "base_uri": "https://localhost:8080/",
          "height": 35
        },
        "id": "y-4n7He6mLU6",
        "outputId": "5682f289-78fe-4377-b118-7700b6224c29"
      },
      "execution_count": 50,
      "outputs": [
        {
          "output_type": "execute_result",
          "data": {
            "application/vnd.google.colaboratory.intrinsic+json": {
              "type": "string"
            },
            "text/plain": [
              "'\\ncommonlist test function\\n'"
            ]
          },
          "metadata": {},
          "execution_count": 50
        }
      ]
    },
    {
      "cell_type": "code",
      "execution_count": 51,
      "metadata": {
        "id": "q1MFXw1ElPRN"
      },
      "outputs": [],
      "source": [
        "def commonlit_test(commonlit_arch, commonlit_iterable):\n",
        "\n",
        "  #sets model in evaluation mode\n",
        "  commonlit_arch.eval()\n",
        "\n",
        "  commonlit_iter_len = len(commonlit_iterable.dataset)\n",
        "  commonlit_pred = np.zeros(commonlit_iter_len)    \n",
        "  commonlit_row = 0\n",
        "\n",
        "  #context-manager that disabled gradient calculation  \n",
        "  with torch.no_grad():\n",
        "\n",
        "    #enumerating over test data\n",
        "    for _, (commonlit_encode, commonlit_attn) in enumerate(commonlit_iterable):\n",
        "      commonlit_attn = commonlit_attn.to(CUDA)\n",
        "      commonlit_encode = commonlit_encode.to(CUDA)        \n",
        "\n",
        "      #getting return from commonlit architecture                  \n",
        "      commonlit_return = commonlit_arch(commonlit_encode, commonlit_attn)                        \n",
        "\n",
        "      # Flattens input by reshaping it into a one-dimensional tensor. \n",
        "      commonlit_flatten = commonlit_return.flatten()\n",
        "      commonlit_pred[commonlit_row : commonlit_row + commonlit_return.shape[0]] = commonlit_flatten.to(CPU)\n",
        "      commonlit_row = commonlit_return.shape[0] + commonlit_row\n",
        "\n",
        "  return commonlit_pred"
      ]
    },
    {
      "cell_type": "code",
      "execution_count": 53,
      "metadata": {
        "id": "ABlgPajZlPRP",
        "colab": {
          "base_uri": "https://localhost:8080/"
        },
        "outputId": "4f8b8f3c-b24b-4be5-9193-743c10daaa0a"
      },
      "outputs": [
        {
          "output_type": "stream",
          "name": "stdout",
          "text": [
            "Architecture Save Model Path model_1.pth\n"
          ]
        },
        {
          "output_type": "stream",
          "name": "stderr",
          "text": [
            "Some weights of RobertaModel were not initialized from the model checkpoint at pre-roberta-base and are newly initialized: ['roberta.pooler.dense.weight', 'roberta.pooler.dense.bias']\n",
            "You should probably TRAIN this model on a down-stream task to be able to use it for predictions and inference.\n"
          ]
        },
        {
          "output_type": "stream",
          "name": "stdout",
          "text": [
            "Architecture Save Model Path model_2.pth\n"
          ]
        },
        {
          "output_type": "stream",
          "name": "stderr",
          "text": [
            "Some weights of RobertaModel were not initialized from the model checkpoint at pre-roberta-base and are newly initialized: ['roberta.pooler.dense.weight', 'roberta.pooler.dense.bias']\n",
            "You should probably TRAIN this model on a down-stream task to be able to use it for predictions and inference.\n"
          ]
        },
        {
          "output_type": "stream",
          "name": "stdout",
          "text": [
            "Architecture Save Model Path model_3.pth\n"
          ]
        },
        {
          "output_type": "stream",
          "name": "stderr",
          "text": [
            "Some weights of RobertaModel were not initialized from the model checkpoint at pre-roberta-base and are newly initialized: ['roberta.pooler.dense.weight', 'roberta.pooler.dense.bias']\n",
            "You should probably TRAIN this model on a down-stream task to be able to use it for predictions and inference.\n"
          ]
        },
        {
          "output_type": "stream",
          "name": "stdout",
          "text": [
            "Architecture Save Model Path model_4.pth\n"
          ]
        },
        {
          "output_type": "stream",
          "name": "stderr",
          "text": [
            "Some weights of RobertaModel were not initialized from the model checkpoint at pre-roberta-base and are newly initialized: ['roberta.pooler.dense.weight', 'roberta.pooler.dense.bias']\n",
            "You should probably TRAIN this model on a down-stream task to be able to use it for predictions and inference.\n"
          ]
        },
        {
          "output_type": "stream",
          "name": "stdout",
          "text": [
            "Architecture Save Model Path model_5.pth\n"
          ]
        },
        {
          "output_type": "stream",
          "name": "stderr",
          "text": [
            "Some weights of RobertaModel were not initialized from the model checkpoint at pre-roberta-base and are newly initialized: ['roberta.pooler.dense.weight', 'roberta.pooler.dense.bias']\n",
            "You should probably TRAIN this model on a down-stream task to be able to use it for predictions and inference.\n"
          ]
        }
      ],
      "source": [
        "commonlit_result = np.zeros((len(model_eval_score), len(test_data)))\n",
        "\n",
        "#creating datasets\n",
        "commonlit_item_pred = CommonLit_Item(test_data, io=True)\n",
        "\n",
        "#creating iterable datasets\n",
        "commonlit_iterable_pred = DataLoader(commonlit_item_pred, batch_size=MODEL_BATCH,drop_last=False, shuffle=False, num_workers=MODEL_CPU_WORKERS)\n",
        "\n",
        "#going through each of saved models\n",
        "for arch_save_model in range(len(model_eval_score)):   \n",
        "    arch_save_model_one = arch_save_model + 1          \n",
        "    arch_dir = f\"model_{arch_save_model_one}.pth\"\n",
        "    print(\"Architecture Save Model Path {0}\".format(arch_dir))\n",
        "\n",
        "    #initialize commonlit architecture                    \n",
        "    commonlit_arch = CommonLit_Architecture()\n",
        "\n",
        "    #Loads an object saved with torch.save() from a file.\n",
        "    commonlit_load_dir = torch.load(arch_dir)\n",
        "\n",
        "    #Loads a model’s parameter dictionary\n",
        "    commonlit_arch.load_state_dict(commonlit_load_dir) \n",
        "\n",
        "    #Sending to CUDA Device   \n",
        "    commonlit_arch.to(CUDA)\n",
        "    \n",
        "    commonlit_result[arch_save_model] = commonlit_test(commonlit_arch, commonlit_iterable_pred)\n",
        "    \n",
        "    del commonlit_arch\n",
        "    gc.collect()"
      ]
    },
    {
      "cell_type": "code",
      "execution_count": 54,
      "metadata": {
        "id": "FitZZrZFlPRP"
      },
      "outputs": [],
      "source": [
        "#Mean of all predictions across models\n",
        "nlp_arch_pred = commonlit_result.mean(axis=0)"
      ]
    },
    {
      "cell_type": "code",
      "source": [
        "#Saving the submission file\n",
        "submission['target'] = nlp_arch_pred\n",
        "submission.to_csv('submission.csv', index=False)\n",
        "submission"
      ],
      "metadata": {
        "id": "LZNLuwHSjJK0",
        "colab": {
          "base_uri": "https://localhost:8080/",
          "height": 269
        },
        "outputId": "9d939c80-0eb0-4036-ca76-339763ccb092"
      },
      "execution_count": 55,
      "outputs": [
        {
          "output_type": "execute_result",
          "data": {
            "text/html": [
              "\n",
              "  <div id=\"df-39d344d7-c9da-4463-a354-e23a161e8780\">\n",
              "    <div class=\"colab-df-container\">\n",
              "      <div>\n",
              "<style scoped>\n",
              "    .dataframe tbody tr th:only-of-type {\n",
              "        vertical-align: middle;\n",
              "    }\n",
              "\n",
              "    .dataframe tbody tr th {\n",
              "        vertical-align: top;\n",
              "    }\n",
              "\n",
              "    .dataframe thead th {\n",
              "        text-align: right;\n",
              "    }\n",
              "</style>\n",
              "<table border=\"1\" class=\"dataframe\">\n",
              "  <thead>\n",
              "    <tr style=\"text-align: right;\">\n",
              "      <th></th>\n",
              "      <th>id</th>\n",
              "      <th>target</th>\n",
              "    </tr>\n",
              "  </thead>\n",
              "  <tbody>\n",
              "    <tr>\n",
              "      <th>0</th>\n",
              "      <td>c0f722661</td>\n",
              "      <td>-0.497509</td>\n",
              "    </tr>\n",
              "    <tr>\n",
              "      <th>1</th>\n",
              "      <td>f0953f0a5</td>\n",
              "      <td>-0.545287</td>\n",
              "    </tr>\n",
              "    <tr>\n",
              "      <th>2</th>\n",
              "      <td>0df072751</td>\n",
              "      <td>-0.373235</td>\n",
              "    </tr>\n",
              "    <tr>\n",
              "      <th>3</th>\n",
              "      <td>04caf4e0c</td>\n",
              "      <td>-2.501297</td>\n",
              "    </tr>\n",
              "    <tr>\n",
              "      <th>4</th>\n",
              "      <td>0e63f8bea</td>\n",
              "      <td>-1.705751</td>\n",
              "    </tr>\n",
              "    <tr>\n",
              "      <th>5</th>\n",
              "      <td>12537fe78</td>\n",
              "      <td>-1.388573</td>\n",
              "    </tr>\n",
              "    <tr>\n",
              "      <th>6</th>\n",
              "      <td>965e592c0</td>\n",
              "      <td>0.209803</td>\n",
              "    </tr>\n",
              "  </tbody>\n",
              "</table>\n",
              "</div>\n",
              "      <button class=\"colab-df-convert\" onclick=\"convertToInteractive('df-39d344d7-c9da-4463-a354-e23a161e8780')\"\n",
              "              title=\"Convert this dataframe to an interactive table.\"\n",
              "              style=\"display:none;\">\n",
              "        \n",
              "  <svg xmlns=\"http://www.w3.org/2000/svg\" height=\"24px\"viewBox=\"0 0 24 24\"\n",
              "       width=\"24px\">\n",
              "    <path d=\"M0 0h24v24H0V0z\" fill=\"none\"/>\n",
              "    <path d=\"M18.56 5.44l.94 2.06.94-2.06 2.06-.94-2.06-.94-.94-2.06-.94 2.06-2.06.94zm-11 1L8.5 8.5l.94-2.06 2.06-.94-2.06-.94L8.5 2.5l-.94 2.06-2.06.94zm10 10l.94 2.06.94-2.06 2.06-.94-2.06-.94-.94-2.06-.94 2.06-2.06.94z\"/><path d=\"M17.41 7.96l-1.37-1.37c-.4-.4-.92-.59-1.43-.59-.52 0-1.04.2-1.43.59L10.3 9.45l-7.72 7.72c-.78.78-.78 2.05 0 2.83L4 21.41c.39.39.9.59 1.41.59.51 0 1.02-.2 1.41-.59l7.78-7.78 2.81-2.81c.8-.78.8-2.07 0-2.86zM5.41 20L4 18.59l7.72-7.72 1.47 1.35L5.41 20z\"/>\n",
              "  </svg>\n",
              "      </button>\n",
              "      \n",
              "  <style>\n",
              "    .colab-df-container {\n",
              "      display:flex;\n",
              "      flex-wrap:wrap;\n",
              "      gap: 12px;\n",
              "    }\n",
              "\n",
              "    .colab-df-convert {\n",
              "      background-color: #E8F0FE;\n",
              "      border: none;\n",
              "      border-radius: 50%;\n",
              "      cursor: pointer;\n",
              "      display: none;\n",
              "      fill: #1967D2;\n",
              "      height: 32px;\n",
              "      padding: 0 0 0 0;\n",
              "      width: 32px;\n",
              "    }\n",
              "\n",
              "    .colab-df-convert:hover {\n",
              "      background-color: #E2EBFA;\n",
              "      box-shadow: 0px 1px 2px rgba(60, 64, 67, 0.3), 0px 1px 3px 1px rgba(60, 64, 67, 0.15);\n",
              "      fill: #174EA6;\n",
              "    }\n",
              "\n",
              "    [theme=dark] .colab-df-convert {\n",
              "      background-color: #3B4455;\n",
              "      fill: #D2E3FC;\n",
              "    }\n",
              "\n",
              "    [theme=dark] .colab-df-convert:hover {\n",
              "      background-color: #434B5C;\n",
              "      box-shadow: 0px 1px 3px 1px rgba(0, 0, 0, 0.15);\n",
              "      filter: drop-shadow(0px 1px 2px rgba(0, 0, 0, 0.3));\n",
              "      fill: #FFFFFF;\n",
              "    }\n",
              "  </style>\n",
              "\n",
              "      <script>\n",
              "        const buttonEl =\n",
              "          document.querySelector('#df-39d344d7-c9da-4463-a354-e23a161e8780 button.colab-df-convert');\n",
              "        buttonEl.style.display =\n",
              "          google.colab.kernel.accessAllowed ? 'block' : 'none';\n",
              "\n",
              "        async function convertToInteractive(key) {\n",
              "          const element = document.querySelector('#df-39d344d7-c9da-4463-a354-e23a161e8780');\n",
              "          const dataTable =\n",
              "            await google.colab.kernel.invokeFunction('convertToInteractive',\n",
              "                                                     [key], {});\n",
              "          if (!dataTable) return;\n",
              "\n",
              "          const docLinkHtml = 'Like what you see? Visit the ' +\n",
              "            '<a target=\"_blank\" href=https://colab.research.google.com/notebooks/data_table.ipynb>data table notebook</a>'\n",
              "            + ' to learn more about interactive tables.';\n",
              "          element.innerHTML = '';\n",
              "          dataTable['output_type'] = 'display_data';\n",
              "          await google.colab.output.renderOutput(dataTable, element);\n",
              "          const docLink = document.createElement('div');\n",
              "          docLink.innerHTML = docLinkHtml;\n",
              "          element.appendChild(docLink);\n",
              "        }\n",
              "      </script>\n",
              "    </div>\n",
              "  </div>\n",
              "  "
            ],
            "text/plain": [
              "          id    target\n",
              "0  c0f722661 -0.497509\n",
              "1  f0953f0a5 -0.545287\n",
              "2  0df072751 -0.373235\n",
              "3  04caf4e0c -2.501297\n",
              "4  0e63f8bea -1.705751\n",
              "5  12537fe78 -1.388573\n",
              "6  965e592c0  0.209803"
            ]
          },
          "metadata": {},
          "execution_count": 55
        }
      ]
    },
    {
      "cell_type": "markdown",
      "source": [
        "## **4.9 Results**"
      ],
      "metadata": {
        "id": "_aY5s_fnH6uV"
      }
    },
    {
      "cell_type": "markdown",
      "source": [
        "Below table contains all the models that were tested."
      ],
      "metadata": {
        "id": "8NAq0kX2iZ7P"
      }
    },
    {
      "cell_type": "markdown",
      "source": [
        "![Screenshot 2022-02-06 062638.png](data:image/png;base64,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)"
      ],
      "metadata": {
        "id": "cSePCKiyiUWi"
      }
    },
    {
      "cell_type": "markdown",
      "source": [
        "The final ensemble consists of :\n",
        "\n",
        "\n",
        "*   roberta-base-squad2  PT and 4_Layers\n",
        "*   roberta-large-squad2  PT and 4_Layers\n",
        "*   deberta-large  No_PT  and 4_Layers\n",
        "*   electra  No_PT and No_4_Layers\n",
        "\n"
      ],
      "metadata": {
        "id": "ozGTAOItjKiw"
      }
    },
    {
      "cell_type": "markdown",
      "source": [
        "**Final ensemble got score of .456 on private LB which is top 50 or top 1 percentage.**"
      ],
      "metadata": {
        "id": "rqYWXosKjzD2"
      }
    }
  ],
  "metadata": {
    "colab": {
      "machine_shape": "hm",
      "name": "Case_Study_2/CommonLit_Models.ipynb",
      "provenance": [],
      "collapsed_sections": [
        "6dEzbW_IT8zD",
        "cPhAXQA5WWnb",
        "w7lI8U7Tm32h",
        "NMjJ5YZupDWK",
        "DhtC1rU6Ctyp",
        "6EyOLypeDAAQ"
      ]
    },
    "kernelspec": {
      "display_name": "Python 3",
      "language": "python",
      "name": "python3"
    },
    "language_info": {
      "codemirror_mode": {
        "name": "ipython",
        "version": 3
      },
      "file_extension": ".py",
      "mimetype": "text/x-python",
      "name": "python",
      "nbconvert_exporter": "python",
      "pygments_lexer": "ipython3",
      "version": "3.7.12"
    },
    "accelerator": "GPU",
    "widgets": {
      "application/vnd.jupyter.widget-state+json": {
        "3597f723874c4b1a98d4bef1741c2b4f": {
          "model_module": "@jupyter-widgets/controls",
          "model_name": "HBoxModel",
          "model_module_version": "1.5.0",
          "state": {
            "_view_name": "HBoxView",
            "_dom_classes": [],
            "_model_name": "HBoxModel",
            "_view_module": "@jupyter-widgets/controls",
            "_model_module_version": "1.5.0",
            "_view_count": null,
            "_view_module_version": "1.5.0",
            "box_style": "",
            "layout": "IPY_MODEL_db4373a3009e4776a16ecc7bdbe3e45e",
            "_model_module": "@jupyter-widgets/controls",
            "children": [
              "IPY_MODEL_7deef7f9ba14400ba126b901f3cb3ab3",
              "IPY_MODEL_6f0dca5d5826476abe2da1ab46b612e8",
              "IPY_MODEL_1711285e58d8478faa9f5592ca3d4fa3"
            ]
          }
        },
        "db4373a3009e4776a16ecc7bdbe3e45e": {
          "model_module": "@jupyter-widgets/base",
          "model_name": "LayoutModel",
          "model_module_version": "1.2.0",
          "state": {
            "_view_name": "LayoutView",
            "grid_template_rows": null,
            "right": null,
            "justify_content": null,
            "_view_module": "@jupyter-widgets/base",
            "overflow": null,
            "_model_module_version": "1.2.0",
            "_view_count": null,
            "flex_flow": null,
            "width": null,
            "min_width": null,
            "border": null,
            "align_items": null,
            "bottom": null,
            "_model_module": "@jupyter-widgets/base",
            "top": null,
            "grid_column": null,
            "overflow_y": null,
            "overflow_x": null,
            "grid_auto_flow": null,
            "grid_area": null,
            "grid_template_columns": null,
            "flex": null,
            "_model_name": "LayoutModel",
            "justify_items": null,
            "grid_row": null,
            "max_height": null,
            "align_content": null,
            "visibility": null,
            "align_self": null,
            "height": null,
            "min_height": null,
            "padding": null,
            "grid_auto_rows": null,
            "grid_gap": null,
            "max_width": null,
            "order": null,
            "_view_module_version": "1.2.0",
            "grid_template_areas": null,
            "object_position": null,
            "object_fit": null,
            "grid_auto_columns": null,
            "margin": null,
            "display": null,
            "left": null
          }
        },
        "7deef7f9ba14400ba126b901f3cb3ab3": {
          "model_module": "@jupyter-widgets/controls",
          "model_name": "HTMLModel",
          "model_module_version": "1.5.0",
          "state": {
            "_view_name": "HTMLView",
            "style": "IPY_MODEL_da47ce309c7f4ff99825465a877276c7",
            "_dom_classes": [],
            "description": "",
            "_model_name": "HTMLModel",
            "placeholder": "​",
            "_view_module": "@jupyter-widgets/controls",
            "_model_module_version": "1.5.0",
            "value": "Downloading: 100%",
            "_view_count": null,
            "_view_module_version": "1.5.0",
            "description_tooltip": null,
            "_model_module": "@jupyter-widgets/controls",
            "layout": "IPY_MODEL_fdc16a9ca6f04fdab20e63e9e59beac1"
          }
        },
        "6f0dca5d5826476abe2da1ab46b612e8": {
          "model_module": "@jupyter-widgets/controls",
          "model_name": "FloatProgressModel",
          "model_module_version": "1.5.0",
          "state": {
            "_view_name": "ProgressView",
            "style": "IPY_MODEL_2aa70f8f32df41bd8e88ae5c335cbccb",
            "_dom_classes": [],
            "description": "",
            "_model_name": "FloatProgressModel",
            "bar_style": "success",
            "max": 481,
            "_view_module": "@jupyter-widgets/controls",
            "_model_module_version": "1.5.0",
            "value": 481,
            "_view_count": null,
            "_view_module_version": "1.5.0",
            "orientation": "horizontal",
            "min": 0,
            "description_tooltip": null,
            "_model_module": "@jupyter-widgets/controls",
            "layout": "IPY_MODEL_024f8a69fb7347eb9f1e9ff22f31f80c"
          }
        },
        "1711285e58d8478faa9f5592ca3d4fa3": {
          "model_module": "@jupyter-widgets/controls",
          "model_name": "HTMLModel",
          "model_module_version": "1.5.0",
          "state": {
            "_view_name": "HTMLView",
            "style": "IPY_MODEL_a01316f6422f4b6c98bb5abfd88eb070",
            "_dom_classes": [],
            "description": "",
            "_model_name": "HTMLModel",
            "placeholder": "​",
            "_view_module": "@jupyter-widgets/controls",
            "_model_module_version": "1.5.0",
            "value": " 481/481 [00:00&lt;00:00, 17.9kB/s]",
            "_view_count": null,
            "_view_module_version": "1.5.0",
            "description_tooltip": null,
            "_model_module": "@jupyter-widgets/controls",
            "layout": "IPY_MODEL_7584ba59396c46b384608f3b0cf6f050"
          }
        },
        "da47ce309c7f4ff99825465a877276c7": {
          "model_module": "@jupyter-widgets/controls",
          "model_name": "DescriptionStyleModel",
          "model_module_version": "1.5.0",
          "state": {
            "_view_name": "StyleView",
            "_model_name": "DescriptionStyleModel",
            "description_width": "",
            "_view_module": "@jupyter-widgets/base",
            "_model_module_version": "1.5.0",
            "_view_count": null,
            "_view_module_version": "1.2.0",
            "_model_module": "@jupyter-widgets/controls"
          }
        },
        "fdc16a9ca6f04fdab20e63e9e59beac1": {
          "model_module": "@jupyter-widgets/base",
          "model_name": "LayoutModel",
          "model_module_version": "1.2.0",
          "state": {
            "_view_name": "LayoutView",
            "grid_template_rows": null,
            "right": null,
            "justify_content": null,
            "_view_module": "@jupyter-widgets/base",
            "overflow": null,
            "_model_module_version": "1.2.0",
            "_view_count": null,
            "flex_flow": null,
            "width": null,
            "min_width": null,
            "border": null,
            "align_items": null,
            "bottom": null,
            "_model_module": "@jupyter-widgets/base",
            "top": null,
            "grid_column": null,
            "overflow_y": null,
            "overflow_x": null,
            "grid_auto_flow": null,
            "grid_area": null,
            "grid_template_columns": null,
            "flex": null,
            "_model_name": "LayoutModel",
            "justify_items": null,
            "grid_row": null,
            "max_height": null,
            "align_content": null,
            "visibility": null,
            "align_self": null,
            "height": null,
            "min_height": null,
            "padding": null,
            "grid_auto_rows": null,
            "grid_gap": null,
            "max_width": null,
            "order": null,
            "_view_module_version": "1.2.0",
            "grid_template_areas": null,
            "object_position": null,
            "object_fit": null,
            "grid_auto_columns": null,
            "margin": null,
            "display": null,
            "left": null
          }
        },
        "2aa70f8f32df41bd8e88ae5c335cbccb": {
          "model_module": "@jupyter-widgets/controls",
          "model_name": "ProgressStyleModel",
          "model_module_version": "1.5.0",
          "state": {
            "_view_name": "StyleView",
            "_model_name": "ProgressStyleModel",
            "description_width": "",
            "_view_module": "@jupyter-widgets/base",
            "_model_module_version": "1.5.0",
            "_view_count": null,
            "_view_module_version": "1.2.0",
            "bar_color": null,
            "_model_module": "@jupyter-widgets/controls"
          }
        },
        "024f8a69fb7347eb9f1e9ff22f31f80c": {
          "model_module": "@jupyter-widgets/base",
          "model_name": "LayoutModel",
          "model_module_version": "1.2.0",
          "state": {
            "_view_name": "LayoutView",
            "grid_template_rows": null,
            "right": null,
            "justify_content": null,
            "_view_module": "@jupyter-widgets/base",
            "overflow": null,
            "_model_module_version": "1.2.0",
            "_view_count": null,
            "flex_flow": null,
            "width": null,
            "min_width": null,
            "border": null,
            "align_items": null,
            "bottom": null,
            "_model_module": "@jupyter-widgets/base",
            "top": null,
            "grid_column": null,
            "overflow_y": null,
            "overflow_x": null,
            "grid_auto_flow": null,
            "grid_area": null,
            "grid_template_columns": null,
            "flex": null,
            "_model_name": "LayoutModel",
            "justify_items": null,
            "grid_row": null,
            "max_height": null,
            "align_content": null,
            "visibility": null,
            "align_self": null,
            "height": null,
            "min_height": null,
            "padding": null,
            "grid_auto_rows": null,
            "grid_gap": null,
            "max_width": null,
            "order": null,
            "_view_module_version": "1.2.0",
            "grid_template_areas": null,
            "object_position": null,
            "object_fit": null,
            "grid_auto_columns": null,
            "margin": null,
            "display": null,
            "left": null
          }
        },
        "a01316f6422f4b6c98bb5abfd88eb070": {
          "model_module": "@jupyter-widgets/controls",
          "model_name": "DescriptionStyleModel",
          "model_module_version": "1.5.0",
          "state": {
            "_view_name": "StyleView",
            "_model_name": "DescriptionStyleModel",
            "description_width": "",
            "_view_module": "@jupyter-widgets/base",
            "_model_module_version": "1.5.0",
            "_view_count": null,
            "_view_module_version": "1.2.0",
            "_model_module": "@jupyter-widgets/controls"
          }
        },
        "7584ba59396c46b384608f3b0cf6f050": {
          "model_module": "@jupyter-widgets/base",
          "model_name": "LayoutModel",
          "model_module_version": "1.2.0",
          "state": {
            "_view_name": "LayoutView",
            "grid_template_rows": null,
            "right": null,
            "justify_content": null,
            "_view_module": "@jupyter-widgets/base",
            "overflow": null,
            "_model_module_version": "1.2.0",
            "_view_count": null,
            "flex_flow": null,
            "width": null,
            "min_width": null,
            "border": null,
            "align_items": null,
            "bottom": null,
            "_model_module": "@jupyter-widgets/base",
            "top": null,
            "grid_column": null,
            "overflow_y": null,
            "overflow_x": null,
            "grid_auto_flow": null,
            "grid_area": null,
            "grid_template_columns": null,
            "flex": null,
            "_model_name": "LayoutModel",
            "justify_items": null,
            "grid_row": null,
            "max_height": null,
            "align_content": null,
            "visibility": null,
            "align_self": null,
            "height": null,
            "min_height": null,
            "padding": null,
            "grid_auto_rows": null,
            "grid_gap": null,
            "max_width": null,
            "order": null,
            "_view_module_version": "1.2.0",
            "grid_template_areas": null,
            "object_position": null,
            "object_fit": null,
            "grid_auto_columns": null,
            "margin": null,
            "display": null,
            "left": null
          }
        },
        "d7b46de5e27f43d68754336d8df4b9d6": {
          "model_module": "@jupyter-widgets/controls",
          "model_name": "HBoxModel",
          "model_module_version": "1.5.0",
          "state": {
            "_view_name": "HBoxView",
            "_dom_classes": [],
            "_model_name": "HBoxModel",
            "_view_module": "@jupyter-widgets/controls",
            "_model_module_version": "1.5.0",
            "_view_count": null,
            "_view_module_version": "1.5.0",
            "box_style": "",
            "layout": "IPY_MODEL_bfa63884266e472f8685e2580ad39c79",
            "_model_module": "@jupyter-widgets/controls",
            "children": [
              "IPY_MODEL_db69624f05e44b3c8c439d97d33bcb01",
              "IPY_MODEL_f7ff6e017b7e4ebca9e8814c1e9337b1",
              "IPY_MODEL_599d2f3b46a34fcbb300aa6bc655b2e3"
            ]
          }
        },
        "bfa63884266e472f8685e2580ad39c79": {
          "model_module": "@jupyter-widgets/base",
          "model_name": "LayoutModel",
          "model_module_version": "1.2.0",
          "state": {
            "_view_name": "LayoutView",
            "grid_template_rows": null,
            "right": null,
            "justify_content": null,
            "_view_module": "@jupyter-widgets/base",
            "overflow": null,
            "_model_module_version": "1.2.0",
            "_view_count": null,
            "flex_flow": null,
            "width": null,
            "min_width": null,
            "border": null,
            "align_items": null,
            "bottom": null,
            "_model_module": "@jupyter-widgets/base",
            "top": null,
            "grid_column": null,
            "overflow_y": null,
            "overflow_x": null,
            "grid_auto_flow": null,
            "grid_area": null,
            "grid_template_columns": null,
            "flex": null,
            "_model_name": "LayoutModel",
            "justify_items": null,
            "grid_row": null,
            "max_height": null,
            "align_content": null,
            "visibility": null,
            "align_self": null,
            "height": null,
            "min_height": null,
            "padding": null,
            "grid_auto_rows": null,
            "grid_gap": null,
            "max_width": null,
            "order": null,
            "_view_module_version": "1.2.0",
            "grid_template_areas": null,
            "object_position": null,
            "object_fit": null,
            "grid_auto_columns": null,
            "margin": null,
            "display": null,
            "left": null
          }
        },
        "db69624f05e44b3c8c439d97d33bcb01": {
          "model_module": "@jupyter-widgets/controls",
          "model_name": "HTMLModel",
          "model_module_version": "1.5.0",
          "state": {
            "_view_name": "HTMLView",
            "style": "IPY_MODEL_601ac0747c7f48b29aed6c4722be391f",
            "_dom_classes": [],
            "description": "",
            "_model_name": "HTMLModel",
            "placeholder": "​",
            "_view_module": "@jupyter-widgets/controls",
            "_model_module_version": "1.5.0",
            "value": "Downloading: 100%",
            "_view_count": null,
            "_view_module_version": "1.5.0",
            "description_tooltip": null,
            "_model_module": "@jupyter-widgets/controls",
            "layout": "IPY_MODEL_e7b363deec3c4b2085d4296ff75b7296"
          }
        },
        "f7ff6e017b7e4ebca9e8814c1e9337b1": {
          "model_module": "@jupyter-widgets/controls",
          "model_name": "FloatProgressModel",
          "model_module_version": "1.5.0",
          "state": {
            "_view_name": "ProgressView",
            "style": "IPY_MODEL_10278ec81d85444ba16b4a2bbd9d28af",
            "_dom_classes": [],
            "description": "",
            "_model_name": "FloatProgressModel",
            "bar_style": "success",
            "max": 501200538,
            "_view_module": "@jupyter-widgets/controls",
            "_model_module_version": "1.5.0",
            "value": 501200538,
            "_view_count": null,
            "_view_module_version": "1.5.0",
            "orientation": "horizontal",
            "min": 0,
            "description_tooltip": null,
            "_model_module": "@jupyter-widgets/controls",
            "layout": "IPY_MODEL_5f92e4e48eab42ea88b3b49c500d7c11"
          }
        },
        "599d2f3b46a34fcbb300aa6bc655b2e3": {
          "model_module": "@jupyter-widgets/controls",
          "model_name": "HTMLModel",
          "model_module_version": "1.5.0",
          "state": {
            "_view_name": "HTMLView",
            "style": "IPY_MODEL_0ed6c5e3eb8e42bb89c1ac6294776837",
            "_dom_classes": [],
            "description": "",
            "_model_name": "HTMLModel",
            "placeholder": "​",
            "_view_module": "@jupyter-widgets/controls",
            "_model_module_version": "1.5.0",
            "value": " 501M/501M [00:08&lt;00:00, 46.3MB/s]",
            "_view_count": null,
            "_view_module_version": "1.5.0",
            "description_tooltip": null,
            "_model_module": "@jupyter-widgets/controls",
            "layout": "IPY_MODEL_195165a51ec544b2a685db6f7fb20762"
          }
        },
        "601ac0747c7f48b29aed6c4722be391f": {
          "model_module": "@jupyter-widgets/controls",
          "model_name": "DescriptionStyleModel",
          "model_module_version": "1.5.0",
          "state": {
            "_view_name": "StyleView",
            "_model_name": "DescriptionStyleModel",
            "description_width": "",
            "_view_module": "@jupyter-widgets/base",
            "_model_module_version": "1.5.0",
            "_view_count": null,
            "_view_module_version": "1.2.0",
            "_model_module": "@jupyter-widgets/controls"
          }
        },
        "e7b363deec3c4b2085d4296ff75b7296": {
          "model_module": "@jupyter-widgets/base",
          "model_name": "LayoutModel",
          "model_module_version": "1.2.0",
          "state": {
            "_view_name": "LayoutView",
            "grid_template_rows": null,
            "right": null,
            "justify_content": null,
            "_view_module": "@jupyter-widgets/base",
            "overflow": null,
            "_model_module_version": "1.2.0",
            "_view_count": null,
            "flex_flow": null,
            "width": null,
            "min_width": null,
            "border": null,
            "align_items": null,
            "bottom": null,
            "_model_module": "@jupyter-widgets/base",
            "top": null,
            "grid_column": null,
            "overflow_y": null,
            "overflow_x": null,
            "grid_auto_flow": null,
            "grid_area": null,
            "grid_template_columns": null,
            "flex": null,
            "_model_name": "LayoutModel",
            "justify_items": null,
            "grid_row": null,
            "max_height": null,
            "align_content": null,
            "visibility": null,
            "align_self": null,
            "height": null,
            "min_height": null,
            "padding": null,
            "grid_auto_rows": null,
            "grid_gap": null,
            "max_width": null,
            "order": null,
            "_view_module_version": "1.2.0",
            "grid_template_areas": null,
            "object_position": null,
            "object_fit": null,
            "grid_auto_columns": null,
            "margin": null,
            "display": null,
            "left": null
          }
        },
        "10278ec81d85444ba16b4a2bbd9d28af": {
          "model_module": "@jupyter-widgets/controls",
          "model_name": "ProgressStyleModel",
          "model_module_version": "1.5.0",
          "state": {
            "_view_name": "StyleView",
            "_model_name": "ProgressStyleModel",
            "description_width": "",
            "_view_module": "@jupyter-widgets/base",
            "_model_module_version": "1.5.0",
            "_view_count": null,
            "_view_module_version": "1.2.0",
            "bar_color": null,
            "_model_module": "@jupyter-widgets/controls"
          }
        },
        "5f92e4e48eab42ea88b3b49c500d7c11": {
          "model_module": "@jupyter-widgets/base",
          "model_name": "LayoutModel",
          "model_module_version": "1.2.0",
          "state": {
            "_view_name": "LayoutView",
            "grid_template_rows": null,
            "right": null,
            "justify_content": null,
            "_view_module": "@jupyter-widgets/base",
            "overflow": null,
            "_model_module_version": "1.2.0",
            "_view_count": null,
            "flex_flow": null,
            "width": null,
            "min_width": null,
            "border": null,
            "align_items": null,
            "bottom": null,
            "_model_module": "@jupyter-widgets/base",
            "top": null,
            "grid_column": null,
            "overflow_y": null,
            "overflow_x": null,
            "grid_auto_flow": null,
            "grid_area": null,
            "grid_template_columns": null,
            "flex": null,
            "_model_name": "LayoutModel",
            "justify_items": null,
            "grid_row": null,
            "max_height": null,
            "align_content": null,
            "visibility": null,
            "align_self": null,
            "height": null,
            "min_height": null,
            "padding": null,
            "grid_auto_rows": null,
            "grid_gap": null,
            "max_width": null,
            "order": null,
            "_view_module_version": "1.2.0",
            "grid_template_areas": null,
            "object_position": null,
            "object_fit": null,
            "grid_auto_columns": null,
            "margin": null,
            "display": null,
            "left": null
          }
        },
        "0ed6c5e3eb8e42bb89c1ac6294776837": {
          "model_module": "@jupyter-widgets/controls",
          "model_name": "DescriptionStyleModel",
          "model_module_version": "1.5.0",
          "state": {
            "_view_name": "StyleView",
            "_model_name": "DescriptionStyleModel",
            "description_width": "",
            "_view_module": "@jupyter-widgets/base",
            "_model_module_version": "1.5.0",
            "_view_count": null,
            "_view_module_version": "1.2.0",
            "_model_module": "@jupyter-widgets/controls"
          }
        },
        "195165a51ec544b2a685db6f7fb20762": {
          "model_module": "@jupyter-widgets/base",
          "model_name": "LayoutModel",
          "model_module_version": "1.2.0",
          "state": {
            "_view_name": "LayoutView",
            "grid_template_rows": null,
            "right": null,
            "justify_content": null,
            "_view_module": "@jupyter-widgets/base",
            "overflow": null,
            "_model_module_version": "1.2.0",
            "_view_count": null,
            "flex_flow": null,
            "width": null,
            "min_width": null,
            "border": null,
            "align_items": null,
            "bottom": null,
            "_model_module": "@jupyter-widgets/base",
            "top": null,
            "grid_column": null,
            "overflow_y": null,
            "overflow_x": null,
            "grid_auto_flow": null,
            "grid_area": null,
            "grid_template_columns": null,
            "flex": null,
            "_model_name": "LayoutModel",
            "justify_items": null,
            "grid_row": null,
            "max_height": null,
            "align_content": null,
            "visibility": null,
            "align_self": null,
            "height": null,
            "min_height": null,
            "padding": null,
            "grid_auto_rows": null,
            "grid_gap": null,
            "max_width": null,
            "order": null,
            "_view_module_version": "1.2.0",
            "grid_template_areas": null,
            "object_position": null,
            "object_fit": null,
            "grid_auto_columns": null,
            "margin": null,
            "display": null,
            "left": null
          }
        },
        "8224656a78bf49148a11b125c712e5ef": {
          "model_module": "@jupyter-widgets/controls",
          "model_name": "HBoxModel",
          "model_module_version": "1.5.0",
          "state": {
            "_view_name": "HBoxView",
            "_dom_classes": [],
            "_model_name": "HBoxModel",
            "_view_module": "@jupyter-widgets/controls",
            "_model_module_version": "1.5.0",
            "_view_count": null,
            "_view_module_version": "1.5.0",
            "box_style": "",
            "layout": "IPY_MODEL_5c49fbf173cb46a3b0b6ecb6c59b1678",
            "_model_module": "@jupyter-widgets/controls",
            "children": [
              "IPY_MODEL_c2c881beaf6745ed8917ad4c945fa84f",
              "IPY_MODEL_820264a724b94d3882a1bb57b2aeb94e",
              "IPY_MODEL_bdb06066308f43f29334752db9753659"
            ]
          }
        },
        "5c49fbf173cb46a3b0b6ecb6c59b1678": {
          "model_module": "@jupyter-widgets/base",
          "model_name": "LayoutModel",
          "model_module_version": "1.2.0",
          "state": {
            "_view_name": "LayoutView",
            "grid_template_rows": null,
            "right": null,
            "justify_content": null,
            "_view_module": "@jupyter-widgets/base",
            "overflow": null,
            "_model_module_version": "1.2.0",
            "_view_count": null,
            "flex_flow": null,
            "width": null,
            "min_width": null,
            "border": null,
            "align_items": null,
            "bottom": null,
            "_model_module": "@jupyter-widgets/base",
            "top": null,
            "grid_column": null,
            "overflow_y": null,
            "overflow_x": null,
            "grid_auto_flow": null,
            "grid_area": null,
            "grid_template_columns": null,
            "flex": null,
            "_model_name": "LayoutModel",
            "justify_items": null,
            "grid_row": null,
            "max_height": null,
            "align_content": null,
            "visibility": null,
            "align_self": null,
            "height": null,
            "min_height": null,
            "padding": null,
            "grid_auto_rows": null,
            "grid_gap": null,
            "max_width": null,
            "order": null,
            "_view_module_version": "1.2.0",
            "grid_template_areas": null,
            "object_position": null,
            "object_fit": null,
            "grid_auto_columns": null,
            "margin": null,
            "display": null,
            "left": null
          }
        },
        "c2c881beaf6745ed8917ad4c945fa84f": {
          "model_module": "@jupyter-widgets/controls",
          "model_name": "HTMLModel",
          "model_module_version": "1.5.0",
          "state": {
            "_view_name": "HTMLView",
            "style": "IPY_MODEL_bd9f7edb3ce5419f8dd59eaa5e654b01",
            "_dom_classes": [],
            "description": "",
            "_model_name": "HTMLModel",
            "placeholder": "​",
            "_view_module": "@jupyter-widgets/controls",
            "_model_module_version": "1.5.0",
            "value": "Downloading: 100%",
            "_view_count": null,
            "_view_module_version": "1.5.0",
            "description_tooltip": null,
            "_model_module": "@jupyter-widgets/controls",
            "layout": "IPY_MODEL_b1aee438ff084160b9f47d577a585244"
          }
        },
        "820264a724b94d3882a1bb57b2aeb94e": {
          "model_module": "@jupyter-widgets/controls",
          "model_name": "FloatProgressModel",
          "model_module_version": "1.5.0",
          "state": {
            "_view_name": "ProgressView",
            "style": "IPY_MODEL_9cbe36539f914183ac7e22ad1f27e819",
            "_dom_classes": [],
            "description": "",
            "_model_name": "FloatProgressModel",
            "bar_style": "success",
            "max": 898823,
            "_view_module": "@jupyter-widgets/controls",
            "_model_module_version": "1.5.0",
            "value": 898823,
            "_view_count": null,
            "_view_module_version": "1.5.0",
            "orientation": "horizontal",
            "min": 0,
            "description_tooltip": null,
            "_model_module": "@jupyter-widgets/controls",
            "layout": "IPY_MODEL_e83ed88cb40f4dfaa066153d291df5e7"
          }
        },
        "bdb06066308f43f29334752db9753659": {
          "model_module": "@jupyter-widgets/controls",
          "model_name": "HTMLModel",
          "model_module_version": "1.5.0",
          "state": {
            "_view_name": "HTMLView",
            "style": "IPY_MODEL_fa942525d1eb4465999fad3f3be9f134",
            "_dom_classes": [],
            "description": "",
            "_model_name": "HTMLModel",
            "placeholder": "​",
            "_view_module": "@jupyter-widgets/controls",
            "_model_module_version": "1.5.0",
            "value": " 899k/899k [00:01&lt;00:00, 1.29MB/s]",
            "_view_count": null,
            "_view_module_version": "1.5.0",
            "description_tooltip": null,
            "_model_module": "@jupyter-widgets/controls",
            "layout": "IPY_MODEL_1fe6ba8f37a74489bff48f37bd14131c"
          }
        },
        "bd9f7edb3ce5419f8dd59eaa5e654b01": {
          "model_module": "@jupyter-widgets/controls",
          "model_name": "DescriptionStyleModel",
          "model_module_version": "1.5.0",
          "state": {
            "_view_name": "StyleView",
            "_model_name": "DescriptionStyleModel",
            "description_width": "",
            "_view_module": "@jupyter-widgets/base",
            "_model_module_version": "1.5.0",
            "_view_count": null,
            "_view_module_version": "1.2.0",
            "_model_module": "@jupyter-widgets/controls"
          }
        },
        "b1aee438ff084160b9f47d577a585244": {
          "model_module": "@jupyter-widgets/base",
          "model_name": "LayoutModel",
          "model_module_version": "1.2.0",
          "state": {
            "_view_name": "LayoutView",
            "grid_template_rows": null,
            "right": null,
            "justify_content": null,
            "_view_module": "@jupyter-widgets/base",
            "overflow": null,
            "_model_module_version": "1.2.0",
            "_view_count": null,
            "flex_flow": null,
            "width": null,
            "min_width": null,
            "border": null,
            "align_items": null,
            "bottom": null,
            "_model_module": "@jupyter-widgets/base",
            "top": null,
            "grid_column": null,
            "overflow_y": null,
            "overflow_x": null,
            "grid_auto_flow": null,
            "grid_area": null,
            "grid_template_columns": null,
            "flex": null,
            "_model_name": "LayoutModel",
            "justify_items": null,
            "grid_row": null,
            "max_height": null,
            "align_content": null,
            "visibility": null,
            "align_self": null,
            "height": null,
            "min_height": null,
            "padding": null,
            "grid_auto_rows": null,
            "grid_gap": null,
            "max_width": null,
            "order": null,
            "_view_module_version": "1.2.0",
            "grid_template_areas": null,
            "object_position": null,
            "object_fit": null,
            "grid_auto_columns": null,
            "margin": null,
            "display": null,
            "left": null
          }
        },
        "9cbe36539f914183ac7e22ad1f27e819": {
          "model_module": "@jupyter-widgets/controls",
          "model_name": "ProgressStyleModel",
          "model_module_version": "1.5.0",
          "state": {
            "_view_name": "StyleView",
            "_model_name": "ProgressStyleModel",
            "description_width": "",
            "_view_module": "@jupyter-widgets/base",
            "_model_module_version": "1.5.0",
            "_view_count": null,
            "_view_module_version": "1.2.0",
            "bar_color": null,
            "_model_module": "@jupyter-widgets/controls"
          }
        },
        "e83ed88cb40f4dfaa066153d291df5e7": {
          "model_module": "@jupyter-widgets/base",
          "model_name": "LayoutModel",
          "model_module_version": "1.2.0",
          "state": {
            "_view_name": "LayoutView",
            "grid_template_rows": null,
            "right": null,
            "justify_content": null,
            "_view_module": "@jupyter-widgets/base",
            "overflow": null,
            "_model_module_version": "1.2.0",
            "_view_count": null,
            "flex_flow": null,
            "width": null,
            "min_width": null,
            "border": null,
            "align_items": null,
            "bottom": null,
            "_model_module": "@jupyter-widgets/base",
            "top": null,
            "grid_column": null,
            "overflow_y": null,
            "overflow_x": null,
            "grid_auto_flow": null,
            "grid_area": null,
            "grid_template_columns": null,
            "flex": null,
            "_model_name": "LayoutModel",
            "justify_items": null,
            "grid_row": null,
            "max_height": null,
            "align_content": null,
            "visibility": null,
            "align_self": null,
            "height": null,
            "min_height": null,
            "padding": null,
            "grid_auto_rows": null,
            "grid_gap": null,
            "max_width": null,
            "order": null,
            "_view_module_version": "1.2.0",
            "grid_template_areas": null,
            "object_position": null,
            "object_fit": null,
            "grid_auto_columns": null,
            "margin": null,
            "display": null,
            "left": null
          }
        },
        "fa942525d1eb4465999fad3f3be9f134": {
          "model_module": "@jupyter-widgets/controls",
          "model_name": "DescriptionStyleModel",
          "model_module_version": "1.5.0",
          "state": {
            "_view_name": "StyleView",
            "_model_name": "DescriptionStyleModel",
            "description_width": "",
            "_view_module": "@jupyter-widgets/base",
            "_model_module_version": "1.5.0",
            "_view_count": null,
            "_view_module_version": "1.2.0",
            "_model_module": "@jupyter-widgets/controls"
          }
        },
        "1fe6ba8f37a74489bff48f37bd14131c": {
          "model_module": "@jupyter-widgets/base",
          "model_name": "LayoutModel",
          "model_module_version": "1.2.0",
          "state": {
            "_view_name": "LayoutView",
            "grid_template_rows": null,
            "right": null,
            "justify_content": null,
            "_view_module": "@jupyter-widgets/base",
            "overflow": null,
            "_model_module_version": "1.2.0",
            "_view_count": null,
            "flex_flow": null,
            "width": null,
            "min_width": null,
            "border": null,
            "align_items": null,
            "bottom": null,
            "_model_module": "@jupyter-widgets/base",
            "top": null,
            "grid_column": null,
            "overflow_y": null,
            "overflow_x": null,
            "grid_auto_flow": null,
            "grid_area": null,
            "grid_template_columns": null,
            "flex": null,
            "_model_name": "LayoutModel",
            "justify_items": null,
            "grid_row": null,
            "max_height": null,
            "align_content": null,
            "visibility": null,
            "align_self": null,
            "height": null,
            "min_height": null,
            "padding": null,
            "grid_auto_rows": null,
            "grid_gap": null,
            "max_width": null,
            "order": null,
            "_view_module_version": "1.2.0",
            "grid_template_areas": null,
            "object_position": null,
            "object_fit": null,
            "grid_auto_columns": null,
            "margin": null,
            "display": null,
            "left": null
          }
        },
        "16f85aa699ad4bf8b73ea08148c25c0d": {
          "model_module": "@jupyter-widgets/controls",
          "model_name": "HBoxModel",
          "model_module_version": "1.5.0",
          "state": {
            "_view_name": "HBoxView",
            "_dom_classes": [],
            "_model_name": "HBoxModel",
            "_view_module": "@jupyter-widgets/controls",
            "_model_module_version": "1.5.0",
            "_view_count": null,
            "_view_module_version": "1.5.0",
            "box_style": "",
            "layout": "IPY_MODEL_dca6bfe034fe498db7d97de58e9f1786",
            "_model_module": "@jupyter-widgets/controls",
            "children": [
              "IPY_MODEL_0aa7c401629f499e9b4f421fb8db28b7",
              "IPY_MODEL_18c365edf46b40879b12833aa1fd338a",
              "IPY_MODEL_537e3268bf1a48139549a56c0a171d1e"
            ]
          }
        },
        "dca6bfe034fe498db7d97de58e9f1786": {
          "model_module": "@jupyter-widgets/base",
          "model_name": "LayoutModel",
          "model_module_version": "1.2.0",
          "state": {
            "_view_name": "LayoutView",
            "grid_template_rows": null,
            "right": null,
            "justify_content": null,
            "_view_module": "@jupyter-widgets/base",
            "overflow": null,
            "_model_module_version": "1.2.0",
            "_view_count": null,
            "flex_flow": null,
            "width": null,
            "min_width": null,
            "border": null,
            "align_items": null,
            "bottom": null,
            "_model_module": "@jupyter-widgets/base",
            "top": null,
            "grid_column": null,
            "overflow_y": null,
            "overflow_x": null,
            "grid_auto_flow": null,
            "grid_area": null,
            "grid_template_columns": null,
            "flex": null,
            "_model_name": "LayoutModel",
            "justify_items": null,
            "grid_row": null,
            "max_height": null,
            "align_content": null,
            "visibility": null,
            "align_self": null,
            "height": null,
            "min_height": null,
            "padding": null,
            "grid_auto_rows": null,
            "grid_gap": null,
            "max_width": null,
            "order": null,
            "_view_module_version": "1.2.0",
            "grid_template_areas": null,
            "object_position": null,
            "object_fit": null,
            "grid_auto_columns": null,
            "margin": null,
            "display": null,
            "left": null
          }
        },
        "0aa7c401629f499e9b4f421fb8db28b7": {
          "model_module": "@jupyter-widgets/controls",
          "model_name": "HTMLModel",
          "model_module_version": "1.5.0",
          "state": {
            "_view_name": "HTMLView",
            "style": "IPY_MODEL_d2eafa018bd749d69a6580f3a43a724e",
            "_dom_classes": [],
            "description": "",
            "_model_name": "HTMLModel",
            "placeholder": "​",
            "_view_module": "@jupyter-widgets/controls",
            "_model_module_version": "1.5.0",
            "value": "Downloading: 100%",
            "_view_count": null,
            "_view_module_version": "1.5.0",
            "description_tooltip": null,
            "_model_module": "@jupyter-widgets/controls",
            "layout": "IPY_MODEL_9623fcaaaa9b45399f5c7e75c8f66679"
          }
        },
        "18c365edf46b40879b12833aa1fd338a": {
          "model_module": "@jupyter-widgets/controls",
          "model_name": "FloatProgressModel",
          "model_module_version": "1.5.0",
          "state": {
            "_view_name": "ProgressView",
            "style": "IPY_MODEL_243fc413296a45bc8bcb85de9d6f6532",
            "_dom_classes": [],
            "description": "",
            "_model_name": "FloatProgressModel",
            "bar_style": "success",
            "max": 456318,
            "_view_module": "@jupyter-widgets/controls",
            "_model_module_version": "1.5.0",
            "value": 456318,
            "_view_count": null,
            "_view_module_version": "1.5.0",
            "orientation": "horizontal",
            "min": 0,
            "description_tooltip": null,
            "_model_module": "@jupyter-widgets/controls",
            "layout": "IPY_MODEL_9bb98c03ddb54e40a0a9f250f956f982"
          }
        },
        "537e3268bf1a48139549a56c0a171d1e": {
          "model_module": "@jupyter-widgets/controls",
          "model_name": "HTMLModel",
          "model_module_version": "1.5.0",
          "state": {
            "_view_name": "HTMLView",
            "style": "IPY_MODEL_48bed7845d504b25bbd0563accc88fc9",
            "_dom_classes": [],
            "description": "",
            "_model_name": "HTMLModel",
            "placeholder": "​",
            "_view_module": "@jupyter-widgets/controls",
            "_model_module_version": "1.5.0",
            "value": " 456k/456k [00:00&lt;00:00, 593kB/s]",
            "_view_count": null,
            "_view_module_version": "1.5.0",
            "description_tooltip": null,
            "_model_module": "@jupyter-widgets/controls",
            "layout": "IPY_MODEL_b8dea6bf5c674a4ea9c18e3bef607298"
          }
        },
        "d2eafa018bd749d69a6580f3a43a724e": {
          "model_module": "@jupyter-widgets/controls",
          "model_name": "DescriptionStyleModel",
          "model_module_version": "1.5.0",
          "state": {
            "_view_name": "StyleView",
            "_model_name": "DescriptionStyleModel",
            "description_width": "",
            "_view_module": "@jupyter-widgets/base",
            "_model_module_version": "1.5.0",
            "_view_count": null,
            "_view_module_version": "1.2.0",
            "_model_module": "@jupyter-widgets/controls"
          }
        },
        "9623fcaaaa9b45399f5c7e75c8f66679": {
          "model_module": "@jupyter-widgets/base",
          "model_name": "LayoutModel",
          "model_module_version": "1.2.0",
          "state": {
            "_view_name": "LayoutView",
            "grid_template_rows": null,
            "right": null,
            "justify_content": null,
            "_view_module": "@jupyter-widgets/base",
            "overflow": null,
            "_model_module_version": "1.2.0",
            "_view_count": null,
            "flex_flow": null,
            "width": null,
            "min_width": null,
            "border": null,
            "align_items": null,
            "bottom": null,
            "_model_module": "@jupyter-widgets/base",
            "top": null,
            "grid_column": null,
            "overflow_y": null,
            "overflow_x": null,
            "grid_auto_flow": null,
            "grid_area": null,
            "grid_template_columns": null,
            "flex": null,
            "_model_name": "LayoutModel",
            "justify_items": null,
            "grid_row": null,
            "max_height": null,
            "align_content": null,
            "visibility": null,
            "align_self": null,
            "height": null,
            "min_height": null,
            "padding": null,
            "grid_auto_rows": null,
            "grid_gap": null,
            "max_width": null,
            "order": null,
            "_view_module_version": "1.2.0",
            "grid_template_areas": null,
            "object_position": null,
            "object_fit": null,
            "grid_auto_columns": null,
            "margin": null,
            "display": null,
            "left": null
          }
        },
        "243fc413296a45bc8bcb85de9d6f6532": {
          "model_module": "@jupyter-widgets/controls",
          "model_name": "ProgressStyleModel",
          "model_module_version": "1.5.0",
          "state": {
            "_view_name": "StyleView",
            "_model_name": "ProgressStyleModel",
            "description_width": "",
            "_view_module": "@jupyter-widgets/base",
            "_model_module_version": "1.5.0",
            "_view_count": null,
            "_view_module_version": "1.2.0",
            "bar_color": null,
            "_model_module": "@jupyter-widgets/controls"
          }
        },
        "9bb98c03ddb54e40a0a9f250f956f982": {
          "model_module": "@jupyter-widgets/base",
          "model_name": "LayoutModel",
          "model_module_version": "1.2.0",
          "state": {
            "_view_name": "LayoutView",
            "grid_template_rows": null,
            "right": null,
            "justify_content": null,
            "_view_module": "@jupyter-widgets/base",
            "overflow": null,
            "_model_module_version": "1.2.0",
            "_view_count": null,
            "flex_flow": null,
            "width": null,
            "min_width": null,
            "border": null,
            "align_items": null,
            "bottom": null,
            "_model_module": "@jupyter-widgets/base",
            "top": null,
            "grid_column": null,
            "overflow_y": null,
            "overflow_x": null,
            "grid_auto_flow": null,
            "grid_area": null,
            "grid_template_columns": null,
            "flex": null,
            "_model_name": "LayoutModel",
            "justify_items": null,
            "grid_row": null,
            "max_height": null,
            "align_content": null,
            "visibility": null,
            "align_self": null,
            "height": null,
            "min_height": null,
            "padding": null,
            "grid_auto_rows": null,
            "grid_gap": null,
            "max_width": null,
            "order": null,
            "_view_module_version": "1.2.0",
            "grid_template_areas": null,
            "object_position": null,
            "object_fit": null,
            "grid_auto_columns": null,
            "margin": null,
            "display": null,
            "left": null
          }
        },
        "48bed7845d504b25bbd0563accc88fc9": {
          "model_module": "@jupyter-widgets/controls",
          "model_name": "DescriptionStyleModel",
          "model_module_version": "1.5.0",
          "state": {
            "_view_name": "StyleView",
            "_model_name": "DescriptionStyleModel",
            "description_width": "",
            "_view_module": "@jupyter-widgets/base",
            "_model_module_version": "1.5.0",
            "_view_count": null,
            "_view_module_version": "1.2.0",
            "_model_module": "@jupyter-widgets/controls"
          }
        },
        "b8dea6bf5c674a4ea9c18e3bef607298": {
          "model_module": "@jupyter-widgets/base",
          "model_name": "LayoutModel",
          "model_module_version": "1.2.0",
          "state": {
            "_view_name": "LayoutView",
            "grid_template_rows": null,
            "right": null,
            "justify_content": null,
            "_view_module": "@jupyter-widgets/base",
            "overflow": null,
            "_model_module_version": "1.2.0",
            "_view_count": null,
            "flex_flow": null,
            "width": null,
            "min_width": null,
            "border": null,
            "align_items": null,
            "bottom": null,
            "_model_module": "@jupyter-widgets/base",
            "top": null,
            "grid_column": null,
            "overflow_y": null,
            "overflow_x": null,
            "grid_auto_flow": null,
            "grid_area": null,
            "grid_template_columns": null,
            "flex": null,
            "_model_name": "LayoutModel",
            "justify_items": null,
            "grid_row": null,
            "max_height": null,
            "align_content": null,
            "visibility": null,
            "align_self": null,
            "height": null,
            "min_height": null,
            "padding": null,
            "grid_auto_rows": null,
            "grid_gap": null,
            "max_width": null,
            "order": null,
            "_view_module_version": "1.2.0",
            "grid_template_areas": null,
            "object_position": null,
            "object_fit": null,
            "grid_auto_columns": null,
            "margin": null,
            "display": null,
            "left": null
          }
        },
        "2b816de58586430397cb148a1f271003": {
          "model_module": "@jupyter-widgets/controls",
          "model_name": "HBoxModel",
          "model_module_version": "1.5.0",
          "state": {
            "_view_name": "HBoxView",
            "_dom_classes": [],
            "_model_name": "HBoxModel",
            "_view_module": "@jupyter-widgets/controls",
            "_model_module_version": "1.5.0",
            "_view_count": null,
            "_view_module_version": "1.5.0",
            "box_style": "",
            "layout": "IPY_MODEL_4cd40157ed3b452a8ff831d42cd84d3a",
            "_model_module": "@jupyter-widgets/controls",
            "children": [
              "IPY_MODEL_f9e906c56ced43c6bb851c08b9ec4791",
              "IPY_MODEL_e31486c22868428db0fa3162d6e7c2c2",
              "IPY_MODEL_bc786caa5a054a5787db555a132a3c48"
            ]
          }
        },
        "4cd40157ed3b452a8ff831d42cd84d3a": {
          "model_module": "@jupyter-widgets/base",
          "model_name": "LayoutModel",
          "model_module_version": "1.2.0",
          "state": {
            "_view_name": "LayoutView",
            "grid_template_rows": null,
            "right": null,
            "justify_content": null,
            "_view_module": "@jupyter-widgets/base",
            "overflow": null,
            "_model_module_version": "1.2.0",
            "_view_count": null,
            "flex_flow": null,
            "width": null,
            "min_width": null,
            "border": null,
            "align_items": null,
            "bottom": null,
            "_model_module": "@jupyter-widgets/base",
            "top": null,
            "grid_column": null,
            "overflow_y": null,
            "overflow_x": null,
            "grid_auto_flow": null,
            "grid_area": null,
            "grid_template_columns": null,
            "flex": null,
            "_model_name": "LayoutModel",
            "justify_items": null,
            "grid_row": null,
            "max_height": null,
            "align_content": null,
            "visibility": null,
            "align_self": null,
            "height": null,
            "min_height": null,
            "padding": null,
            "grid_auto_rows": null,
            "grid_gap": null,
            "max_width": null,
            "order": null,
            "_view_module_version": "1.2.0",
            "grid_template_areas": null,
            "object_position": null,
            "object_fit": null,
            "grid_auto_columns": null,
            "margin": null,
            "display": null,
            "left": null
          }
        },
        "f9e906c56ced43c6bb851c08b9ec4791": {
          "model_module": "@jupyter-widgets/controls",
          "model_name": "HTMLModel",
          "model_module_version": "1.5.0",
          "state": {
            "_view_name": "HTMLView",
            "style": "IPY_MODEL_5caf152be43d4528bc251b6a42d9a320",
            "_dom_classes": [],
            "description": "",
            "_model_name": "HTMLModel",
            "placeholder": "​",
            "_view_module": "@jupyter-widgets/controls",
            "_model_module_version": "1.5.0",
            "value": "Downloading: 100%",
            "_view_count": null,
            "_view_module_version": "1.5.0",
            "description_tooltip": null,
            "_model_module": "@jupyter-widgets/controls",
            "layout": "IPY_MODEL_5e36ed6735ef4d2f836493e91ee230d5"
          }
        },
        "e31486c22868428db0fa3162d6e7c2c2": {
          "model_module": "@jupyter-widgets/controls",
          "model_name": "FloatProgressModel",
          "model_module_version": "1.5.0",
          "state": {
            "_view_name": "ProgressView",
            "style": "IPY_MODEL_c5c676b03bf04dd694ffe1a316ff2cea",
            "_dom_classes": [],
            "description": "",
            "_model_name": "FloatProgressModel",
            "bar_style": "success",
            "max": 1355863,
            "_view_module": "@jupyter-widgets/controls",
            "_model_module_version": "1.5.0",
            "value": 1355863,
            "_view_count": null,
            "_view_module_version": "1.5.0",
            "orientation": "horizontal",
            "min": 0,
            "description_tooltip": null,
            "_model_module": "@jupyter-widgets/controls",
            "layout": "IPY_MODEL_9daeb0b182d3442bb77f7ea496eee952"
          }
        },
        "bc786caa5a054a5787db555a132a3c48": {
          "model_module": "@jupyter-widgets/controls",
          "model_name": "HTMLModel",
          "model_module_version": "1.5.0",
          "state": {
            "_view_name": "HTMLView",
            "style": "IPY_MODEL_9a37e45df31f4c25940f453bb85de99b",
            "_dom_classes": [],
            "description": "",
            "_model_name": "HTMLModel",
            "placeholder": "​",
            "_view_module": "@jupyter-widgets/controls",
            "_model_module_version": "1.5.0",
            "value": " 1.36M/1.36M [00:01&lt;00:00, 1.07MB/s]",
            "_view_count": null,
            "_view_module_version": "1.5.0",
            "description_tooltip": null,
            "_model_module": "@jupyter-widgets/controls",
            "layout": "IPY_MODEL_d4bfa24560b646f1a2d77c014f8f1ff2"
          }
        },
        "5caf152be43d4528bc251b6a42d9a320": {
          "model_module": "@jupyter-widgets/controls",
          "model_name": "DescriptionStyleModel",
          "model_module_version": "1.5.0",
          "state": {
            "_view_name": "StyleView",
            "_model_name": "DescriptionStyleModel",
            "description_width": "",
            "_view_module": "@jupyter-widgets/base",
            "_model_module_version": "1.5.0",
            "_view_count": null,
            "_view_module_version": "1.2.0",
            "_model_module": "@jupyter-widgets/controls"
          }
        },
        "5e36ed6735ef4d2f836493e91ee230d5": {
          "model_module": "@jupyter-widgets/base",
          "model_name": "LayoutModel",
          "model_module_version": "1.2.0",
          "state": {
            "_view_name": "LayoutView",
            "grid_template_rows": null,
            "right": null,
            "justify_content": null,
            "_view_module": "@jupyter-widgets/base",
            "overflow": null,
            "_model_module_version": "1.2.0",
            "_view_count": null,
            "flex_flow": null,
            "width": null,
            "min_width": null,
            "border": null,
            "align_items": null,
            "bottom": null,
            "_model_module": "@jupyter-widgets/base",
            "top": null,
            "grid_column": null,
            "overflow_y": null,
            "overflow_x": null,
            "grid_auto_flow": null,
            "grid_area": null,
            "grid_template_columns": null,
            "flex": null,
            "_model_name": "LayoutModel",
            "justify_items": null,
            "grid_row": null,
            "max_height": null,
            "align_content": null,
            "visibility": null,
            "align_self": null,
            "height": null,
            "min_height": null,
            "padding": null,
            "grid_auto_rows": null,
            "grid_gap": null,
            "max_width": null,
            "order": null,
            "_view_module_version": "1.2.0",
            "grid_template_areas": null,
            "object_position": null,
            "object_fit": null,
            "grid_auto_columns": null,
            "margin": null,
            "display": null,
            "left": null
          }
        },
        "c5c676b03bf04dd694ffe1a316ff2cea": {
          "model_module": "@jupyter-widgets/controls",
          "model_name": "ProgressStyleModel",
          "model_module_version": "1.5.0",
          "state": {
            "_view_name": "StyleView",
            "_model_name": "ProgressStyleModel",
            "description_width": "",
            "_view_module": "@jupyter-widgets/base",
            "_model_module_version": "1.5.0",
            "_view_count": null,
            "_view_module_version": "1.2.0",
            "bar_color": null,
            "_model_module": "@jupyter-widgets/controls"
          }
        },
        "9daeb0b182d3442bb77f7ea496eee952": {
          "model_module": "@jupyter-widgets/base",
          "model_name": "LayoutModel",
          "model_module_version": "1.2.0",
          "state": {
            "_view_name": "LayoutView",
            "grid_template_rows": null,
            "right": null,
            "justify_content": null,
            "_view_module": "@jupyter-widgets/base",
            "overflow": null,
            "_model_module_version": "1.2.0",
            "_view_count": null,
            "flex_flow": null,
            "width": null,
            "min_width": null,
            "border": null,
            "align_items": null,
            "bottom": null,
            "_model_module": "@jupyter-widgets/base",
            "top": null,
            "grid_column": null,
            "overflow_y": null,
            "overflow_x": null,
            "grid_auto_flow": null,
            "grid_area": null,
            "grid_template_columns": null,
            "flex": null,
            "_model_name": "LayoutModel",
            "justify_items": null,
            "grid_row": null,
            "max_height": null,
            "align_content": null,
            "visibility": null,
            "align_self": null,
            "height": null,
            "min_height": null,
            "padding": null,
            "grid_auto_rows": null,
            "grid_gap": null,
            "max_width": null,
            "order": null,
            "_view_module_version": "1.2.0",
            "grid_template_areas": null,
            "object_position": null,
            "object_fit": null,
            "grid_auto_columns": null,
            "margin": null,
            "display": null,
            "left": null
          }
        },
        "9a37e45df31f4c25940f453bb85de99b": {
          "model_module": "@jupyter-widgets/controls",
          "model_name": "DescriptionStyleModel",
          "model_module_version": "1.5.0",
          "state": {
            "_view_name": "StyleView",
            "_model_name": "DescriptionStyleModel",
            "description_width": "",
            "_view_module": "@jupyter-widgets/base",
            "_model_module_version": "1.5.0",
            "_view_count": null,
            "_view_module_version": "1.2.0",
            "_model_module": "@jupyter-widgets/controls"
          }
        },
        "d4bfa24560b646f1a2d77c014f8f1ff2": {
          "model_module": "@jupyter-widgets/base",
          "model_name": "LayoutModel",
          "model_module_version": "1.2.0",
          "state": {
            "_view_name": "LayoutView",
            "grid_template_rows": null,
            "right": null,
            "justify_content": null,
            "_view_module": "@jupyter-widgets/base",
            "overflow": null,
            "_model_module_version": "1.2.0",
            "_view_count": null,
            "flex_flow": null,
            "width": null,
            "min_width": null,
            "border": null,
            "align_items": null,
            "bottom": null,
            "_model_module": "@jupyter-widgets/base",
            "top": null,
            "grid_column": null,
            "overflow_y": null,
            "overflow_x": null,
            "grid_auto_flow": null,
            "grid_area": null,
            "grid_template_columns": null,
            "flex": null,
            "_model_name": "LayoutModel",
            "justify_items": null,
            "grid_row": null,
            "max_height": null,
            "align_content": null,
            "visibility": null,
            "align_self": null,
            "height": null,
            "min_height": null,
            "padding": null,
            "grid_auto_rows": null,
            "grid_gap": null,
            "max_width": null,
            "order": null,
            "_view_module_version": "1.2.0",
            "grid_template_areas": null,
            "object_position": null,
            "object_fit": null,
            "grid_auto_columns": null,
            "margin": null,
            "display": null,
            "left": null
          }
        }
      }
    }
  },
  "nbformat": 4,
  "nbformat_minor": 0
}